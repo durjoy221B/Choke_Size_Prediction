{
  "nbformat": 4,
  "nbformat_minor": 0,
  "metadata": {
    "colab": {
      "provenance": [],
      "include_colab_link": true
    },
    "kernelspec": {
      "name": "python3",
      "display_name": "Python 3"
    },
    "language_info": {
      "name": "python"
    }
  },
  "cells": [
    {
      "cell_type": "markdown",
      "metadata": {
        "id": "view-in-github",
        "colab_type": "text"
      },
      "source": [
        "<a href=\"https://colab.research.google.com/github/1o-o1/Choke-size-prediction/blob/main/chokev2.ipynb\" target=\"_parent\"><img src=\"https://colab.research.google.com/assets/colab-badge.svg\" alt=\"Open In Colab\"/></a>"
      ]
    },
    {
      "cell_type": "code",
      "execution_count": null,
      "metadata": {
        "id": "4RiAYvpk0AJa"
      },
      "outputs": [],
      "source": [
        "import pandas as pd\n",
        "import seaborn as sns\n",
        "import matplotlib.pyplot as plt\n",
        "import numpy as np"
      ]
    },
    {
      "cell_type": "code",
      "source": [
        "# Google Drive Mount\n",
        "from google.colab import drive\n",
        "drive.mount('/content/drive')\n",
        "\n",
        "%cd /content/drive/MyDrive/Colab Notebooks/\n",
        "%ls"
      ],
      "metadata": {
        "id": "7sTgCDMj0jIR",
        "colab": {
          "base_uri": "https://localhost:8080/"
        },
        "outputId": "6c30d81f-711a-4004-e222-3387fc88bac8"
      },
      "execution_count": null,
      "outputs": [
        {
          "output_type": "stream",
          "name": "stdout",
          "text": [
            "Mounted at /content/drive\n",
            "/content/drive/MyDrive/Colab Notebooks\n",
            " Accuracy.ipynb                                      ocr2.ipynb\n",
            " Accuracy.png                                        ocr.ipynb\n",
            " \u001b[0m\u001b[01;34mcatdog\u001b[0m/                                            'Predict Efficient.ipynb'\n",
            " Catdog1F1.png                                       RawData.ipynb\n",
            " Catdog1loss.png                                     Resultgen2.csv\n",
            " catdogmodel.h5                                      Resultgen3.csv\n",
            " catdogt1.ipynb                                      Resultgen.csv\n",
            "'Copy of catdogt1.ipynb'                             Resultgen.gsheet\n",
            "'Copy of image_classification_part1.ipynb'           results.csv\n",
            "'Copy of Machine Learning Engineer | Sabbir.ipynb'   results_shaim.csv\n",
            " datachoke.csv                                      'selfcite (1).ipynb'\n",
            " datapreproc.ipynb                                   selfcite.ipynb\n",
            " F1Score.ipynb                                       Seq3CNN.ipynb\n",
            " F1Score.png                                         shaim-chokev2.ipynb\n",
            "'Final Results - f1.csv'                             shaim-chokev3.ipynb\n",
            "'Final Results - Sheet2.csv'                         Shaim.ipynb\n",
            " heart.ipynb                                         Untitled\n",
            " \u001b[01;34mhorse\u001b[0m/                                             'Untitled (1)'\n",
            " image.png                                           Untitled1.ipynb\n",
            " img2.PNG                                           'Untitled (2)'\n",
            " img3.PNG                                           'Untitled (3)'\n",
            " Inpainting.ipynb                                    Untitled.ipynb\n",
            "'Machine Learning Engineer | Sabbir.ipynb'           \u001b[01;34mvolvo\u001b[0m/\n",
            "'No PreProc Seq3CNN.ipynb'\n"
          ]
        }
      ]
    },
    {
      "cell_type": "code",
      "source": [
        "df=pd.read_csv('datachoke.csv')"
      ],
      "metadata": {
        "id": "dUJLuwnOgmb6"
      },
      "execution_count": null,
      "outputs": []
    },
    {
      "cell_type": "code",
      "source": [
        "df.head()"
      ],
      "metadata": {
        "id": "IpMxpFbYg53p",
        "colab": {
          "base_uri": "https://localhost:8080/",
          "height": 206
        },
        "outputId": "7032ea79-cb81-4906-da6b-82626ae57f8d"
      },
      "execution_count": null,
      "outputs": [
        {
          "output_type": "execute_result",
          "data": {
            "text/plain": [
              "  Pressure U/S of Choke  Choke  Pressure D/S of Choke  Gas Rate  \\\n",
              "0                 2,175   47.0                 1028.2     43.16   \n",
              "1                 2,171   47.0                 1027.6     43.05   \n",
              "2                 2,169   47.0                 1026.9     43.02   \n",
              "3                 2,167   47.0                 1026.9     43.01   \n",
              "4                 2,166   47.0                 1024.9     42.98   \n",
              "\n",
              "   Condensate Rate  Water Rate  \n",
              "0            44.95       24.71  \n",
              "1            42.54       27.96  \n",
              "2            45.77       24.70  \n",
              "3            43.08       25.71  \n",
              "4            43.57       25.67  "
            ],
            "text/html": [
              "\n",
              "  <div id=\"df-c355533c-39b7-43a4-8bac-c6fd71966c8b\">\n",
              "    <div class=\"colab-df-container\">\n",
              "      <div>\n",
              "<style scoped>\n",
              "    .dataframe tbody tr th:only-of-type {\n",
              "        vertical-align: middle;\n",
              "    }\n",
              "\n",
              "    .dataframe tbody tr th {\n",
              "        vertical-align: top;\n",
              "    }\n",
              "\n",
              "    .dataframe thead th {\n",
              "        text-align: right;\n",
              "    }\n",
              "</style>\n",
              "<table border=\"1\" class=\"dataframe\">\n",
              "  <thead>\n",
              "    <tr style=\"text-align: right;\">\n",
              "      <th></th>\n",
              "      <th>Pressure U/S of Choke</th>\n",
              "      <th>Choke</th>\n",
              "      <th>Pressure D/S of Choke</th>\n",
              "      <th>Gas Rate</th>\n",
              "      <th>Condensate Rate</th>\n",
              "      <th>Water Rate</th>\n",
              "    </tr>\n",
              "  </thead>\n",
              "  <tbody>\n",
              "    <tr>\n",
              "      <th>0</th>\n",
              "      <td>2,175</td>\n",
              "      <td>47.0</td>\n",
              "      <td>1028.2</td>\n",
              "      <td>43.16</td>\n",
              "      <td>44.95</td>\n",
              "      <td>24.71</td>\n",
              "    </tr>\n",
              "    <tr>\n",
              "      <th>1</th>\n",
              "      <td>2,171</td>\n",
              "      <td>47.0</td>\n",
              "      <td>1027.6</td>\n",
              "      <td>43.05</td>\n",
              "      <td>42.54</td>\n",
              "      <td>27.96</td>\n",
              "    </tr>\n",
              "    <tr>\n",
              "      <th>2</th>\n",
              "      <td>2,169</td>\n",
              "      <td>47.0</td>\n",
              "      <td>1026.9</td>\n",
              "      <td>43.02</td>\n",
              "      <td>45.77</td>\n",
              "      <td>24.70</td>\n",
              "    </tr>\n",
              "    <tr>\n",
              "      <th>3</th>\n",
              "      <td>2,167</td>\n",
              "      <td>47.0</td>\n",
              "      <td>1026.9</td>\n",
              "      <td>43.01</td>\n",
              "      <td>43.08</td>\n",
              "      <td>25.71</td>\n",
              "    </tr>\n",
              "    <tr>\n",
              "      <th>4</th>\n",
              "      <td>2,166</td>\n",
              "      <td>47.0</td>\n",
              "      <td>1024.9</td>\n",
              "      <td>42.98</td>\n",
              "      <td>43.57</td>\n",
              "      <td>25.67</td>\n",
              "    </tr>\n",
              "  </tbody>\n",
              "</table>\n",
              "</div>\n",
              "      <button class=\"colab-df-convert\" onclick=\"convertToInteractive('df-c355533c-39b7-43a4-8bac-c6fd71966c8b')\"\n",
              "              title=\"Convert this dataframe to an interactive table.\"\n",
              "              style=\"display:none;\">\n",
              "        \n",
              "  <svg xmlns=\"http://www.w3.org/2000/svg\" height=\"24px\"viewBox=\"0 0 24 24\"\n",
              "       width=\"24px\">\n",
              "    <path d=\"M0 0h24v24H0V0z\" fill=\"none\"/>\n",
              "    <path d=\"M18.56 5.44l.94 2.06.94-2.06 2.06-.94-2.06-.94-.94-2.06-.94 2.06-2.06.94zm-11 1L8.5 8.5l.94-2.06 2.06-.94-2.06-.94L8.5 2.5l-.94 2.06-2.06.94zm10 10l.94 2.06.94-2.06 2.06-.94-2.06-.94-.94-2.06-.94 2.06-2.06.94z\"/><path d=\"M17.41 7.96l-1.37-1.37c-.4-.4-.92-.59-1.43-.59-.52 0-1.04.2-1.43.59L10.3 9.45l-7.72 7.72c-.78.78-.78 2.05 0 2.83L4 21.41c.39.39.9.59 1.41.59.51 0 1.02-.2 1.41-.59l7.78-7.78 2.81-2.81c.8-.78.8-2.07 0-2.86zM5.41 20L4 18.59l7.72-7.72 1.47 1.35L5.41 20z\"/>\n",
              "  </svg>\n",
              "      </button>\n",
              "      \n",
              "  <style>\n",
              "    .colab-df-container {\n",
              "      display:flex;\n",
              "      flex-wrap:wrap;\n",
              "      gap: 12px;\n",
              "    }\n",
              "\n",
              "    .colab-df-convert {\n",
              "      background-color: #E8F0FE;\n",
              "      border: none;\n",
              "      border-radius: 50%;\n",
              "      cursor: pointer;\n",
              "      display: none;\n",
              "      fill: #1967D2;\n",
              "      height: 32px;\n",
              "      padding: 0 0 0 0;\n",
              "      width: 32px;\n",
              "    }\n",
              "\n",
              "    .colab-df-convert:hover {\n",
              "      background-color: #E2EBFA;\n",
              "      box-shadow: 0px 1px 2px rgba(60, 64, 67, 0.3), 0px 1px 3px 1px rgba(60, 64, 67, 0.15);\n",
              "      fill: #174EA6;\n",
              "    }\n",
              "\n",
              "    [theme=dark] .colab-df-convert {\n",
              "      background-color: #3B4455;\n",
              "      fill: #D2E3FC;\n",
              "    }\n",
              "\n",
              "    [theme=dark] .colab-df-convert:hover {\n",
              "      background-color: #434B5C;\n",
              "      box-shadow: 0px 1px 3px 1px rgba(0, 0, 0, 0.15);\n",
              "      filter: drop-shadow(0px 1px 2px rgba(0, 0, 0, 0.3));\n",
              "      fill: #FFFFFF;\n",
              "    }\n",
              "  </style>\n",
              "\n",
              "      <script>\n",
              "        const buttonEl =\n",
              "          document.querySelector('#df-c355533c-39b7-43a4-8bac-c6fd71966c8b button.colab-df-convert');\n",
              "        buttonEl.style.display =\n",
              "          google.colab.kernel.accessAllowed ? 'block' : 'none';\n",
              "\n",
              "        async function convertToInteractive(key) {\n",
              "          const element = document.querySelector('#df-c355533c-39b7-43a4-8bac-c6fd71966c8b');\n",
              "          const dataTable =\n",
              "            await google.colab.kernel.invokeFunction('convertToInteractive',\n",
              "                                                     [key], {});\n",
              "          if (!dataTable) return;\n",
              "\n",
              "          const docLinkHtml = 'Like what you see? Visit the ' +\n",
              "            '<a target=\"_blank\" href=https://colab.research.google.com/notebooks/data_table.ipynb>data table notebook</a>'\n",
              "            + ' to learn more about interactive tables.';\n",
              "          element.innerHTML = '';\n",
              "          dataTable['output_type'] = 'display_data';\n",
              "          await google.colab.output.renderOutput(dataTable, element);\n",
              "          const docLink = document.createElement('div');\n",
              "          docLink.innerHTML = docLinkHtml;\n",
              "          element.appendChild(docLink);\n",
              "        }\n",
              "      </script>\n",
              "    </div>\n",
              "  </div>\n",
              "  "
            ]
          },
          "metadata": {},
          "execution_count": 4
        }
      ]
    },
    {
      "cell_type": "code",
      "source": [
        "df['Pressure U/S of Choke'] = df['Pressure U/S of Choke'].str.replace(',', '').astype(float)"
      ],
      "metadata": {
        "id": "jpo7UxLwlWjK"
      },
      "execution_count": null,
      "outputs": []
    },
    {
      "cell_type": "code",
      "source": [
        "missing_values_count = df.isnull().sum()\n",
        "missing_values_count"
      ],
      "metadata": {
        "id": "XohbCjjtg9L_",
        "colab": {
          "base_uri": "https://localhost:8080/"
        },
        "outputId": "b540fff7-06b9-41e4-bace-4458b3dd8ad1"
      },
      "execution_count": null,
      "outputs": [
        {
          "output_type": "execute_result",
          "data": {
            "text/plain": [
              "Pressure U/S of Choke    0\n",
              "Choke                    0\n",
              "Pressure D/S of Choke    0\n",
              "Gas Rate                 0\n",
              "Condensate Rate          0\n",
              "Water Rate               0\n",
              "dtype: int64"
            ]
          },
          "metadata": {},
          "execution_count": 6
        }
      ]
    },
    {
      "cell_type": "code",
      "source": [
        "\n",
        "glr = df['Gas Rate']* 1e6 / ((df['Condensate Rate'] +  df['Water Rate'] )*5.61)"
      ],
      "metadata": {
        "id": "np7Hhk4yhAID"
      },
      "execution_count": null,
      "outputs": []
    },
    {
      "cell_type": "code",
      "source": [
        "df['glr']=glr"
      ],
      "metadata": {
        "id": "CpkBpTjghM-B"
      },
      "execution_count": null,
      "outputs": []
    },
    {
      "cell_type": "code",
      "source": [
        "df.head()"
      ],
      "metadata": {
        "id": "ExcjQW8yhOp1",
        "colab": {
          "base_uri": "https://localhost:8080/",
          "height": 206
        },
        "outputId": "085857cb-24ac-4835-b631-dc759ad60bac"
      },
      "execution_count": null,
      "outputs": [
        {
          "output_type": "execute_result",
          "data": {
            "text/plain": [
              "   Pressure U/S of Choke  Choke  Pressure D/S of Choke  Gas Rate  \\\n",
              "0                 2175.0   47.0                 1028.2     43.16   \n",
              "1                 2171.0   47.0                 1027.6     43.05   \n",
              "2                 2169.0   47.0                 1026.9     43.02   \n",
              "3                 2167.0   47.0                 1026.9     43.01   \n",
              "4                 2166.0   47.0                 1024.9     42.98   \n",
              "\n",
              "   Condensate Rate  Water Rate            glr  \n",
              "0            44.95       24.71  110442.214105  \n",
              "1            42.54       27.96  108848.181439  \n",
              "2            45.77       24.70  108818.634850  \n",
              "3            43.08       25.71  111450.307700  \n",
              "4            43.57       25.67  110648.744556  "
            ],
            "text/html": [
              "\n",
              "  <div id=\"df-3a4cfaa4-1213-4f01-ba75-9e8c5287d7bf\">\n",
              "    <div class=\"colab-df-container\">\n",
              "      <div>\n",
              "<style scoped>\n",
              "    .dataframe tbody tr th:only-of-type {\n",
              "        vertical-align: middle;\n",
              "    }\n",
              "\n",
              "    .dataframe tbody tr th {\n",
              "        vertical-align: top;\n",
              "    }\n",
              "\n",
              "    .dataframe thead th {\n",
              "        text-align: right;\n",
              "    }\n",
              "</style>\n",
              "<table border=\"1\" class=\"dataframe\">\n",
              "  <thead>\n",
              "    <tr style=\"text-align: right;\">\n",
              "      <th></th>\n",
              "      <th>Pressure U/S of Choke</th>\n",
              "      <th>Choke</th>\n",
              "      <th>Pressure D/S of Choke</th>\n",
              "      <th>Gas Rate</th>\n",
              "      <th>Condensate Rate</th>\n",
              "      <th>Water Rate</th>\n",
              "      <th>glr</th>\n",
              "    </tr>\n",
              "  </thead>\n",
              "  <tbody>\n",
              "    <tr>\n",
              "      <th>0</th>\n",
              "      <td>2175.0</td>\n",
              "      <td>47.0</td>\n",
              "      <td>1028.2</td>\n",
              "      <td>43.16</td>\n",
              "      <td>44.95</td>\n",
              "      <td>24.71</td>\n",
              "      <td>110442.214105</td>\n",
              "    </tr>\n",
              "    <tr>\n",
              "      <th>1</th>\n",
              "      <td>2171.0</td>\n",
              "      <td>47.0</td>\n",
              "      <td>1027.6</td>\n",
              "      <td>43.05</td>\n",
              "      <td>42.54</td>\n",
              "      <td>27.96</td>\n",
              "      <td>108848.181439</td>\n",
              "    </tr>\n",
              "    <tr>\n",
              "      <th>2</th>\n",
              "      <td>2169.0</td>\n",
              "      <td>47.0</td>\n",
              "      <td>1026.9</td>\n",
              "      <td>43.02</td>\n",
              "      <td>45.77</td>\n",
              "      <td>24.70</td>\n",
              "      <td>108818.634850</td>\n",
              "    </tr>\n",
              "    <tr>\n",
              "      <th>3</th>\n",
              "      <td>2167.0</td>\n",
              "      <td>47.0</td>\n",
              "      <td>1026.9</td>\n",
              "      <td>43.01</td>\n",
              "      <td>43.08</td>\n",
              "      <td>25.71</td>\n",
              "      <td>111450.307700</td>\n",
              "    </tr>\n",
              "    <tr>\n",
              "      <th>4</th>\n",
              "      <td>2166.0</td>\n",
              "      <td>47.0</td>\n",
              "      <td>1024.9</td>\n",
              "      <td>42.98</td>\n",
              "      <td>43.57</td>\n",
              "      <td>25.67</td>\n",
              "      <td>110648.744556</td>\n",
              "    </tr>\n",
              "  </tbody>\n",
              "</table>\n",
              "</div>\n",
              "      <button class=\"colab-df-convert\" onclick=\"convertToInteractive('df-3a4cfaa4-1213-4f01-ba75-9e8c5287d7bf')\"\n",
              "              title=\"Convert this dataframe to an interactive table.\"\n",
              "              style=\"display:none;\">\n",
              "        \n",
              "  <svg xmlns=\"http://www.w3.org/2000/svg\" height=\"24px\"viewBox=\"0 0 24 24\"\n",
              "       width=\"24px\">\n",
              "    <path d=\"M0 0h24v24H0V0z\" fill=\"none\"/>\n",
              "    <path d=\"M18.56 5.44l.94 2.06.94-2.06 2.06-.94-2.06-.94-.94-2.06-.94 2.06-2.06.94zm-11 1L8.5 8.5l.94-2.06 2.06-.94-2.06-.94L8.5 2.5l-.94 2.06-2.06.94zm10 10l.94 2.06.94-2.06 2.06-.94-2.06-.94-.94-2.06-.94 2.06-2.06.94z\"/><path d=\"M17.41 7.96l-1.37-1.37c-.4-.4-.92-.59-1.43-.59-.52 0-1.04.2-1.43.59L10.3 9.45l-7.72 7.72c-.78.78-.78 2.05 0 2.83L4 21.41c.39.39.9.59 1.41.59.51 0 1.02-.2 1.41-.59l7.78-7.78 2.81-2.81c.8-.78.8-2.07 0-2.86zM5.41 20L4 18.59l7.72-7.72 1.47 1.35L5.41 20z\"/>\n",
              "  </svg>\n",
              "      </button>\n",
              "      \n",
              "  <style>\n",
              "    .colab-df-container {\n",
              "      display:flex;\n",
              "      flex-wrap:wrap;\n",
              "      gap: 12px;\n",
              "    }\n",
              "\n",
              "    .colab-df-convert {\n",
              "      background-color: #E8F0FE;\n",
              "      border: none;\n",
              "      border-radius: 50%;\n",
              "      cursor: pointer;\n",
              "      display: none;\n",
              "      fill: #1967D2;\n",
              "      height: 32px;\n",
              "      padding: 0 0 0 0;\n",
              "      width: 32px;\n",
              "    }\n",
              "\n",
              "    .colab-df-convert:hover {\n",
              "      background-color: #E2EBFA;\n",
              "      box-shadow: 0px 1px 2px rgba(60, 64, 67, 0.3), 0px 1px 3px 1px rgba(60, 64, 67, 0.15);\n",
              "      fill: #174EA6;\n",
              "    }\n",
              "\n",
              "    [theme=dark] .colab-df-convert {\n",
              "      background-color: #3B4455;\n",
              "      fill: #D2E3FC;\n",
              "    }\n",
              "\n",
              "    [theme=dark] .colab-df-convert:hover {\n",
              "      background-color: #434B5C;\n",
              "      box-shadow: 0px 1px 3px 1px rgba(0, 0, 0, 0.15);\n",
              "      filter: drop-shadow(0px 1px 2px rgba(0, 0, 0, 0.3));\n",
              "      fill: #FFFFFF;\n",
              "    }\n",
              "  </style>\n",
              "\n",
              "      <script>\n",
              "        const buttonEl =\n",
              "          document.querySelector('#df-3a4cfaa4-1213-4f01-ba75-9e8c5287d7bf button.colab-df-convert');\n",
              "        buttonEl.style.display =\n",
              "          google.colab.kernel.accessAllowed ? 'block' : 'none';\n",
              "\n",
              "        async function convertToInteractive(key) {\n",
              "          const element = document.querySelector('#df-3a4cfaa4-1213-4f01-ba75-9e8c5287d7bf');\n",
              "          const dataTable =\n",
              "            await google.colab.kernel.invokeFunction('convertToInteractive',\n",
              "                                                     [key], {});\n",
              "          if (!dataTable) return;\n",
              "\n",
              "          const docLinkHtml = 'Like what you see? Visit the ' +\n",
              "            '<a target=\"_blank\" href=https://colab.research.google.com/notebooks/data_table.ipynb>data table notebook</a>'\n",
              "            + ' to learn more about interactive tables.';\n",
              "          element.innerHTML = '';\n",
              "          dataTable['output_type'] = 'display_data';\n",
              "          await google.colab.output.renderOutput(dataTable, element);\n",
              "          const docLink = document.createElement('div');\n",
              "          docLink.innerHTML = docLinkHtml;\n",
              "          element.appendChild(docLink);\n",
              "        }\n",
              "      </script>\n",
              "    </div>\n",
              "  </div>\n",
              "  "
            ]
          },
          "metadata": {},
          "execution_count": 9
        }
      ]
    },
    {
      "cell_type": "code",
      "source": [
        "df=df.drop('Condensate Rate', axis=1)\n",
        "df=df.drop('Water Rate', axis=1)"
      ],
      "metadata": {
        "id": "ZzN3KRy9lUfz"
      },
      "execution_count": null,
      "outputs": []
    },
    {
      "cell_type": "code",
      "source": [
        "df.describe()"
      ],
      "metadata": {
        "id": "EkrkcYRUky0X",
        "colab": {
          "base_uri": "https://localhost:8080/",
          "height": 300
        },
        "outputId": "ec191b3c-d2c8-44cb-953b-60beddabba99"
      },
      "execution_count": null,
      "outputs": [
        {
          "output_type": "execute_result",
          "data": {
            "text/plain": [
              "       Pressure U/S of Choke       Choke  Pressure D/S of Choke    Gas Rate  \\\n",
              "count             615.000000  615.000000             615.000000  615.000000   \n",
              "mean             1828.591870   43.089431            1007.397724   42.214098   \n",
              "std               134.935964   12.669443              27.666515    3.156580   \n",
              "min              1647.000000    5.000000             917.000000   14.520000   \n",
              "25%              1726.000000   33.000000             984.500000   42.080000   \n",
              "50%              1817.000000   36.000000            1011.900000   42.420000   \n",
              "75%              1877.000000   60.000000            1031.800000   43.040000   \n",
              "max              2423.000000   64.000000            1080.600000   45.170000   \n",
              "\n",
              "                 glr  \n",
              "count     615.000000  \n",
              "mean   116438.487607  \n",
              "std      5679.231967  \n",
              "min     96032.688850  \n",
              "25%    112060.020752  \n",
              "50%    115931.639021  \n",
              "75%    119814.927243  \n",
              "max    133963.827188  "
            ],
            "text/html": [
              "\n",
              "  <div id=\"df-21985733-1d5d-4088-88a0-61b36115a8c4\">\n",
              "    <div class=\"colab-df-container\">\n",
              "      <div>\n",
              "<style scoped>\n",
              "    .dataframe tbody tr th:only-of-type {\n",
              "        vertical-align: middle;\n",
              "    }\n",
              "\n",
              "    .dataframe tbody tr th {\n",
              "        vertical-align: top;\n",
              "    }\n",
              "\n",
              "    .dataframe thead th {\n",
              "        text-align: right;\n",
              "    }\n",
              "</style>\n",
              "<table border=\"1\" class=\"dataframe\">\n",
              "  <thead>\n",
              "    <tr style=\"text-align: right;\">\n",
              "      <th></th>\n",
              "      <th>Pressure U/S of Choke</th>\n",
              "      <th>Choke</th>\n",
              "      <th>Pressure D/S of Choke</th>\n",
              "      <th>Gas Rate</th>\n",
              "      <th>glr</th>\n",
              "    </tr>\n",
              "  </thead>\n",
              "  <tbody>\n",
              "    <tr>\n",
              "      <th>count</th>\n",
              "      <td>615.000000</td>\n",
              "      <td>615.000000</td>\n",
              "      <td>615.000000</td>\n",
              "      <td>615.000000</td>\n",
              "      <td>615.000000</td>\n",
              "    </tr>\n",
              "    <tr>\n",
              "      <th>mean</th>\n",
              "      <td>1828.591870</td>\n",
              "      <td>43.089431</td>\n",
              "      <td>1007.397724</td>\n",
              "      <td>42.214098</td>\n",
              "      <td>116438.487607</td>\n",
              "    </tr>\n",
              "    <tr>\n",
              "      <th>std</th>\n",
              "      <td>134.935964</td>\n",
              "      <td>12.669443</td>\n",
              "      <td>27.666515</td>\n",
              "      <td>3.156580</td>\n",
              "      <td>5679.231967</td>\n",
              "    </tr>\n",
              "    <tr>\n",
              "      <th>min</th>\n",
              "      <td>1647.000000</td>\n",
              "      <td>5.000000</td>\n",
              "      <td>917.000000</td>\n",
              "      <td>14.520000</td>\n",
              "      <td>96032.688850</td>\n",
              "    </tr>\n",
              "    <tr>\n",
              "      <th>25%</th>\n",
              "      <td>1726.000000</td>\n",
              "      <td>33.000000</td>\n",
              "      <td>984.500000</td>\n",
              "      <td>42.080000</td>\n",
              "      <td>112060.020752</td>\n",
              "    </tr>\n",
              "    <tr>\n",
              "      <th>50%</th>\n",
              "      <td>1817.000000</td>\n",
              "      <td>36.000000</td>\n",
              "      <td>1011.900000</td>\n",
              "      <td>42.420000</td>\n",
              "      <td>115931.639021</td>\n",
              "    </tr>\n",
              "    <tr>\n",
              "      <th>75%</th>\n",
              "      <td>1877.000000</td>\n",
              "      <td>60.000000</td>\n",
              "      <td>1031.800000</td>\n",
              "      <td>43.040000</td>\n",
              "      <td>119814.927243</td>\n",
              "    </tr>\n",
              "    <tr>\n",
              "      <th>max</th>\n",
              "      <td>2423.000000</td>\n",
              "      <td>64.000000</td>\n",
              "      <td>1080.600000</td>\n",
              "      <td>45.170000</td>\n",
              "      <td>133963.827188</td>\n",
              "    </tr>\n",
              "  </tbody>\n",
              "</table>\n",
              "</div>\n",
              "      <button class=\"colab-df-convert\" onclick=\"convertToInteractive('df-21985733-1d5d-4088-88a0-61b36115a8c4')\"\n",
              "              title=\"Convert this dataframe to an interactive table.\"\n",
              "              style=\"display:none;\">\n",
              "        \n",
              "  <svg xmlns=\"http://www.w3.org/2000/svg\" height=\"24px\"viewBox=\"0 0 24 24\"\n",
              "       width=\"24px\">\n",
              "    <path d=\"M0 0h24v24H0V0z\" fill=\"none\"/>\n",
              "    <path d=\"M18.56 5.44l.94 2.06.94-2.06 2.06-.94-2.06-.94-.94-2.06-.94 2.06-2.06.94zm-11 1L8.5 8.5l.94-2.06 2.06-.94-2.06-.94L8.5 2.5l-.94 2.06-2.06.94zm10 10l.94 2.06.94-2.06 2.06-.94-2.06-.94-.94-2.06-.94 2.06-2.06.94z\"/><path d=\"M17.41 7.96l-1.37-1.37c-.4-.4-.92-.59-1.43-.59-.52 0-1.04.2-1.43.59L10.3 9.45l-7.72 7.72c-.78.78-.78 2.05 0 2.83L4 21.41c.39.39.9.59 1.41.59.51 0 1.02-.2 1.41-.59l7.78-7.78 2.81-2.81c.8-.78.8-2.07 0-2.86zM5.41 20L4 18.59l7.72-7.72 1.47 1.35L5.41 20z\"/>\n",
              "  </svg>\n",
              "      </button>\n",
              "      \n",
              "  <style>\n",
              "    .colab-df-container {\n",
              "      display:flex;\n",
              "      flex-wrap:wrap;\n",
              "      gap: 12px;\n",
              "    }\n",
              "\n",
              "    .colab-df-convert {\n",
              "      background-color: #E8F0FE;\n",
              "      border: none;\n",
              "      border-radius: 50%;\n",
              "      cursor: pointer;\n",
              "      display: none;\n",
              "      fill: #1967D2;\n",
              "      height: 32px;\n",
              "      padding: 0 0 0 0;\n",
              "      width: 32px;\n",
              "    }\n",
              "\n",
              "    .colab-df-convert:hover {\n",
              "      background-color: #E2EBFA;\n",
              "      box-shadow: 0px 1px 2px rgba(60, 64, 67, 0.3), 0px 1px 3px 1px rgba(60, 64, 67, 0.15);\n",
              "      fill: #174EA6;\n",
              "    }\n",
              "\n",
              "    [theme=dark] .colab-df-convert {\n",
              "      background-color: #3B4455;\n",
              "      fill: #D2E3FC;\n",
              "    }\n",
              "\n",
              "    [theme=dark] .colab-df-convert:hover {\n",
              "      background-color: #434B5C;\n",
              "      box-shadow: 0px 1px 3px 1px rgba(0, 0, 0, 0.15);\n",
              "      filter: drop-shadow(0px 1px 2px rgba(0, 0, 0, 0.3));\n",
              "      fill: #FFFFFF;\n",
              "    }\n",
              "  </style>\n",
              "\n",
              "      <script>\n",
              "        const buttonEl =\n",
              "          document.querySelector('#df-21985733-1d5d-4088-88a0-61b36115a8c4 button.colab-df-convert');\n",
              "        buttonEl.style.display =\n",
              "          google.colab.kernel.accessAllowed ? 'block' : 'none';\n",
              "\n",
              "        async function convertToInteractive(key) {\n",
              "          const element = document.querySelector('#df-21985733-1d5d-4088-88a0-61b36115a8c4');\n",
              "          const dataTable =\n",
              "            await google.colab.kernel.invokeFunction('convertToInteractive',\n",
              "                                                     [key], {});\n",
              "          if (!dataTable) return;\n",
              "\n",
              "          const docLinkHtml = 'Like what you see? Visit the ' +\n",
              "            '<a target=\"_blank\" href=https://colab.research.google.com/notebooks/data_table.ipynb>data table notebook</a>'\n",
              "            + ' to learn more about interactive tables.';\n",
              "          element.innerHTML = '';\n",
              "          dataTable['output_type'] = 'display_data';\n",
              "          await google.colab.output.renderOutput(dataTable, element);\n",
              "          const docLink = document.createElement('div');\n",
              "          docLink.innerHTML = docLinkHtml;\n",
              "          element.appendChild(docLink);\n",
              "        }\n",
              "      </script>\n",
              "    </div>\n",
              "  </div>\n",
              "  "
            ]
          },
          "metadata": {},
          "execution_count": 11
        }
      ]
    },
    {
      "cell_type": "code",
      "source": [
        "sns.pairplot(df)"
      ],
      "metadata": {
        "id": "78JakBwzhj6X",
        "colab": {
          "base_uri": "https://localhost:8080/",
          "height": 921
        },
        "outputId": "545f060b-699e-44de-8255-018d76ebf27b"
      },
      "execution_count": null,
      "outputs": [
        {
          "output_type": "execute_result",
          "data": {
            "text/plain": [
              "<seaborn.axisgrid.PairGrid at 0x7f2bcec40610>"
            ]
          },
          "metadata": {},
          "execution_count": 12
        },
        {
          "output_type": "display_data",
          "data": {
            "text/plain": [
              "<Figure size 900x900 with 30 Axes>"
            ],
            "image/png": "[encoded data removed]"
          },
          "metadata": {
            "needs_background": "light"
          }
        }
      ]
    },
    {
      "cell_type": "code",
      "source": [
        "#plt.figure(figsize=(10,10))\n",
        "\n",
        "ax=sns.scatterplot(data=df , x=\"Pressure U/S of Choke\", y=\"Choke\")\n",
        "#ax.set(xlim=(29,65))"
      ],
      "metadata": {
        "id": "3UGiein-ik82",
        "colab": {
          "base_uri": "https://localhost:8080/",
          "height": 279
        },
        "outputId": "df75a987-22f9-44d0-f3e1-b55cf4034dba"
      },
      "execution_count": null,
      "outputs": [
        {
          "output_type": "display_data",
          "data": {
            "text/plain": [
              "<Figure size 432x288 with 1 Axes>"
            ],
            "image/png": "[encoded data removed]"
          },
          "metadata": {
            "needs_background": "light"
          }
        }
      ]
    },
    {
      "cell_type": "code",
      "source": [
        "\n",
        "ax=sns.scatterplot(data=df, x=\"Pressure D/S of Choke\", y=\"Choke\")"
      ],
      "metadata": {
        "id": "bGjeMiqgmaOz",
        "colab": {
          "base_uri": "https://localhost:8080/",
          "height": 279
        },
        "outputId": "f87b8ba8-01d1-4e00-d3f8-f49f4cd5824d"
      },
      "execution_count": null,
      "outputs": [
        {
          "output_type": "display_data",
          "data": {
            "text/plain": [
              "<Figure size 432x288 with 1 Axes>"
            ],
            "image/png": "[encoded data removed]"
          },
          "metadata": {
            "needs_background": "light"
          }
        }
      ]
    },
    {
      "cell_type": "code",
      "source": [
        "\n",
        "ax=sns.scatterplot(data=df, x=\"Gas Rate\", y=\"Choke\")"
      ],
      "metadata": {
        "id": "e6_Vrd9imeVM",
        "colab": {
          "base_uri": "https://localhost:8080/",
          "height": 279
        },
        "outputId": "7db028f4-2af1-45f9-8a00-0a69ca79a9e8"
      },
      "execution_count": null,
      "outputs": [
        {
          "output_type": "display_data",
          "data": {
            "text/plain": [
              "<Figure size 432x288 with 1 Axes>"
            ],
            "image/png": "[encoded data removed]"
          },
          "metadata": {
            "needs_background": "light"
          }
        }
      ]
    },
    {
      "cell_type": "code",
      "source": [
        "\n",
        "ax=sns.scatterplot(data=df, y=\"Choke\", x=\"glr\")"
      ],
      "metadata": {
        "id": "8eNxrPVImrnd",
        "colab": {
          "base_uri": "https://localhost:8080/",
          "height": 279
        },
        "outputId": "49487dee-37be-468a-be32-170a1cf1fe7e"
      },
      "execution_count": null,
      "outputs": [
        {
          "output_type": "display_data",
          "data": {
            "text/plain": [
              "<Figure size 432x288 with 1 Axes>"
            ],
            "image/png": "[encoded data removed]"
          },
          "metadata": {
            "needs_background": "light"
          }
        }
      ]
    },
    {
      "cell_type": "code",
      "source": [
        "tmp=df[['Choke','Pressure U/S of Choke']]\n",
        "sns.heatmap(tmp)"
      ],
      "metadata": {
        "id": "mEd-sbW9oxNX",
        "colab": {
          "base_uri": "https://localhost:8080/",
          "height": 288
        },
        "outputId": "d89ccbd6-c1d9-46d4-a0c7-cb363ebee42a"
      },
      "execution_count": null,
      "outputs": [
        {
          "output_type": "execute_result",
          "data": {
            "text/plain": [
              "<matplotlib.axes._subplots.AxesSubplot at 0x7f2bc8977250>"
            ]
          },
          "metadata": {},
          "execution_count": 17
        },
        {
          "output_type": "display_data",
          "data": {
            "text/plain": [
              "<Figure size 432x288 with 2 Axes>"
            ],
            "image/png": "[encoded data removed]"
          },
          "metadata": {
            "needs_background": "light"
          }
        }
      ]
    },
    {
      "cell_type": "code",
      "source": [
        "f, ax = plt.subplots(5, figsize=(12,36))\n",
        "sns.distplot(df['Choke'],color='c',ax=ax[0])\n",
        "sns.distplot(df['Pressure U/S of Choke'],color='c',ax=ax[1])\n",
        "sns.distplot(df['Pressure D/S of Choke'],color='c',ax=ax[2])\n",
        "sns.distplot(df['Gas Rate'],color='c',ax=ax[3])\n",
        "sns.distplot(df['glr'],color='c',ax=ax[4])\n",
        "ax[0].set_title('AVG CHOKE SIZE')\n",
        "ax[1].set_title('Pressure U/S of Choke')\n",
        "ax[2].set_title('Pressure D/S of Choke')\n",
        "ax[3].set_title('Gas Rate')\n",
        "ax[4].set_title('GLR')"
      ],
      "metadata": {
        "id": "TsUstFiTjQEg",
        "colab": {
          "base_uri": "https://localhost:8080/",
          "height": 1000
        },
        "outputId": "500885eb-17c9-497c-8824-eaa0dcdaa83a"
      },
      "execution_count": null,
      "outputs": [
        {
          "output_type": "stream",
          "name": "stderr",
          "text": [
            "/usr/local/lib/python3.7/dist-packages/seaborn/distributions.py:2619: FutureWarning: `distplot` is a deprecated function and will be removed in a future version. Please adapt your code to use either `displot` (a figure-level function with similar flexibility) or `histplot` (an axes-level function for histograms).\n",
            "  warnings.warn(msg, FutureWarning)\n",
            "/usr/local/lib/python3.7/dist-packages/seaborn/distributions.py:2619: FutureWarning: `distplot` is a deprecated function and will be removed in a future version. Please adapt your code to use either `displot` (a figure-level function with similar flexibility) or `histplot` (an axes-level function for histograms).\n",
            "  warnings.warn(msg, FutureWarning)\n",
            "/usr/local/lib/python3.7/dist-packages/seaborn/distributions.py:2619: FutureWarning: `distplot` is a deprecated function and will be removed in a future version. Please adapt your code to use either `displot` (a figure-level function with similar flexibility) or `histplot` (an axes-level function for histograms).\n",
            "  warnings.warn(msg, FutureWarning)\n",
            "/usr/local/lib/python3.7/dist-packages/seaborn/distributions.py:2619: FutureWarning: `distplot` is a deprecated function and will be removed in a future version. Please adapt your code to use either `displot` (a figure-level function with similar flexibility) or `histplot` (an axes-level function for histograms).\n",
            "  warnings.warn(msg, FutureWarning)\n",
            "/usr/local/lib/python3.7/dist-packages/seaborn/distributions.py:2619: FutureWarning: `distplot` is a deprecated function and will be removed in a future version. Please adapt your code to use either `displot` (a figure-level function with similar flexibility) or `histplot` (an axes-level function for histograms).\n",
            "  warnings.warn(msg, FutureWarning)\n"
          ]
        },
        {
          "output_type": "execute_result",
          "data": {
            "text/plain": [
              "Text(0.5, 1.0, 'GLR')"
            ]
          },
          "metadata": {},
          "execution_count": 18
        },
        {
          "output_type": "display_data",
          "data": {
            "text/plain": [
              "<Figure size 864x2592 with 5 Axes>"
            ],
            "image/png": "[encoded data removed]"
          },
          "metadata": {
            "needs_background": "light"
          }
        }
      ]
    },
    {
      "cell_type": "code",
      "source": [
        "plt.figure(figsize=(10,10))\n",
        "sns.heatmap(df.corr(), annot=True,cmap='RdBu',square=True)"
      ],
      "metadata": {
        "id": "oF9bhI3endNe",
        "colab": {
          "base_uri": "https://localhost:8080/",
          "height": 596
        },
        "outputId": "55b67bf3-1ffb-4018-d1da-f785b81d7ef4"
      },
      "execution_count": null,
      "outputs": [
        {
          "output_type": "execute_result",
          "data": {
            "text/plain": [
              "<matplotlib.axes._subplots.AxesSubplot at 0x7f2bc89e9b10>"
            ]
          },
          "metadata": {},
          "execution_count": 19
        },
        {
          "output_type": "display_data",
          "data": {
            "text/plain": [
              "<Figure size 720x720 with 2 Axes>"
            ],
            "image/png": "[encoded data removed]"
          },
          "metadata": {
            "needs_background": "light"
          }
        }
      ]
    },
    {
      "cell_type": "code",
      "source": [
        "x=df.drop('Choke', axis=1)\n",
        "y=df['Choke']\n",
        "print(x.shape)\n",
        "print(y.shape)"
      ],
      "metadata": {
        "id": "HzoQ_1cMowRe",
        "colab": {
          "base_uri": "https://localhost:8080/"
        },
        "outputId": "5f9d4740-ce57-4e1c-ba07-90be158055d7"
      },
      "execution_count": null,
      "outputs": [
        {
          "output_type": "stream",
          "name": "stdout",
          "text": [
            "(615, 4)\n",
            "(615,)\n"
          ]
        }
      ]
    },
    {
      "cell_type": "code",
      "source": [
        "from sklearn.model_selection import train_test_split\n",
        "X_train, X_test, y_train, y_test = train_test_split(x, y, test_size=0.3, random_state=42)\n",
        "print(\"train Size:\" +str(y_train.shape))\n",
        "print(\"test Size:\" +str(y_test.shape))"
      ],
      "metadata": {
        "id": "jQ-PhZzJrOKJ",
        "colab": {
          "base_uri": "https://localhost:8080/"
        },
        "outputId": "ed52decf-0cae-46e2-85a4-efc3c948f5ed"
      },
      "execution_count": null,
      "outputs": [
        {
          "output_type": "stream",
          "name": "stdout",
          "text": [
            "train Size:(430,)\n",
            "test Size:(185,)\n"
          ]
        }
      ]
    },
    {
      "cell_type": "code",
      "source": [
        "from sklearn import metrics\n",
        "from sklearn.model_selection import cross_val_score\n",
        "\n",
        "def cross_val(model):\n",
        "    pred = cross_val_score(model, x, y, cv=10)\n",
        "    return pred.mean()\n",
        "\n",
        "def print_evaluate(true, predicted):  \n",
        "    mae = metrics.mean_absolute_error(true, predicted)\n",
        "    mse = metrics.mean_squared_error(true, predicted)\n",
        "    rmse = np.sqrt(metrics.mean_squared_error(true, predicted))\n",
        "    r2_square = metrics.r2_score(true, predicted)\n",
        "    print('MAE:', mae)\n",
        "    print('MSE:', mse)\n",
        "    print('RMSE:', rmse)\n",
        "    print('R2 Square', r2_square)\n",
        "    print('__________________________________')\n",
        "    \n",
        "def evaluate(true, predicted):\n",
        "    mae = metrics.mean_absolute_error(true, predicted)\n",
        "    mse = metrics.mean_squared_error(true, predicted)\n",
        "    rmse = np.sqrt(metrics.mean_squared_error(true, predicted))\n",
        "    r2_square = metrics.r2_score(true, predicted)\n",
        "    return mae, mse, rmse, r2_square"
      ],
      "metadata": {
        "id": "ZJZLcIjIrjwL"
      },
      "execution_count": null,
      "outputs": []
    },
    {
      "cell_type": "code",
      "source": [
        "from sklearn.preprocessing import StandardScaler\n",
        "from sklearn.pipeline import Pipeline\n",
        "\n",
        "pipeline = Pipeline([\n",
        "    ('std_scalar', StandardScaler())\n",
        "])\n",
        "\n",
        "X_train = pipeline.fit_transform(X_train)\n",
        "X_test = pipeline.transform(X_test)"
      ],
      "metadata": {
        "id": "uDIoV7bGrpYl"
      },
      "execution_count": null,
      "outputs": []
    },
    {
      "cell_type": "code",
      "source": [
        "from sklearn.linear_model import LinearRegression\n",
        "\n",
        "lin_reg = LinearRegression(normalize=True)\n",
        "lin_reg.fit(X_train,y_train)\n",
        "coeff_df = pd.DataFrame(lin_reg.coef_, x.columns, columns=['Coefficient'])\n",
        "coeff_df"
      ],
      "metadata": {
        "id": "PBidE9l4rs0V",
        "colab": {
          "base_uri": "https://localhost:8080/",
          "height": 429
        },
        "outputId": "feeeae72-ea8f-457c-edb8-d90edf31f051"
      },
      "execution_count": null,
      "outputs": [
        {
          "output_type": "stream",
          "name": "stderr",
          "text": [
            "/usr/local/lib/python3.7/dist-packages/sklearn/linear_model/_base.py:145: FutureWarning: 'normalize' was deprecated in version 1.0 and will be removed in 1.2.\n",
            "If you wish to scale the data, use Pipeline with a StandardScaler in a preprocessing stage. To reproduce the previous behavior:\n",
            "\n",
            "from sklearn.pipeline import make_pipeline\n",
            "\n",
            "model = make_pipeline(StandardScaler(with_mean=False), LinearRegression())\n",
            "\n",
            "If you wish to pass a sample_weight parameter, you need to pass it as a fit parameter to each step of the pipeline as follows:\n",
            "\n",
            "kwargs = {s[0] + '__sample_weight': sample_weight for s in model.steps}\n",
            "model.fit(X, y, **kwargs)\n",
            "\n",
            "\n",
            "  FutureWarning,\n"
          ]
        },
        {
          "output_type": "execute_result",
          "data": {
            "text/plain": [
              "                       Coefficient\n",
              "Pressure U/S of Choke    -3.745839\n",
              "Pressure D/S of Choke    -4.274005\n",
              "Gas Rate                  5.002349\n",
              "glr                      -2.081839"
            ],
            "text/html": [
              "\n",
              "  <div id=\"df-f132b483-4cd0-405d-8bc8-9c1d34721c44\">\n",
              "    <div class=\"colab-df-container\">\n",
              "      <div>\n",
              "<style scoped>\n",
              "    .dataframe tbody tr th:only-of-type {\n",
              "        vertical-align: middle;\n",
              "    }\n",
              "\n",
              "    .dataframe tbody tr th {\n",
              "        vertical-align: top;\n",
              "    }\n",
              "\n",
              "    .dataframe thead th {\n",
              "        text-align: right;\n",
              "    }\n",
              "</style>\n",
              "<table border=\"1\" class=\"dataframe\">\n",
              "  <thead>\n",
              "    <tr style=\"text-align: right;\">\n",
              "      <th></th>\n",
              "      <th>Coefficient</th>\n",
              "    </tr>\n",
              "  </thead>\n",
              "  <tbody>\n",
              "    <tr>\n",
              "      <th>Pressure U/S of Choke</th>\n",
              "      <td>-3.745839</td>\n",
              "    </tr>\n",
              "    <tr>\n",
              "      <th>Pressure D/S of Choke</th>\n",
              "      <td>-4.274005</td>\n",
              "    </tr>\n",
              "    <tr>\n",
              "      <th>Gas Rate</th>\n",
              "      <td>5.002349</td>\n",
              "    </tr>\n",
              "    <tr>\n",
              "      <th>glr</th>\n",
              "      <td>-2.081839</td>\n",
              "    </tr>\n",
              "  </tbody>\n",
              "</table>\n",
              "</div>\n",
              "      <button class=\"colab-df-convert\" onclick=\"convertToInteractive('df-f132b483-4cd0-405d-8bc8-9c1d34721c44')\"\n",
              "              title=\"Convert this dataframe to an interactive table.\"\n",
              "              style=\"display:none;\">\n",
              "        \n",
              "  <svg xmlns=\"http://www.w3.org/2000/svg\" height=\"24px\"viewBox=\"0 0 24 24\"\n",
              "       width=\"24px\">\n",
              "    <path d=\"M0 0h24v24H0V0z\" fill=\"none\"/>\n",
              "    <path d=\"M18.56 5.44l.94 2.06.94-2.06 2.06-.94-2.06-.94-.94-2.06-.94 2.06-2.06.94zm-11 1L8.5 8.5l.94-2.06 2.06-.94-2.06-.94L8.5 2.5l-.94 2.06-2.06.94zm10 10l.94 2.06.94-2.06 2.06-.94-2.06-.94-.94-2.06-.94 2.06-2.06.94z\"/><path d=\"M17.41 7.96l-1.37-1.37c-.4-.4-.92-.59-1.43-.59-.52 0-1.04.2-1.43.59L10.3 9.45l-7.72 7.72c-.78.78-.78 2.05 0 2.83L4 21.41c.39.39.9.59 1.41.59.51 0 1.02-.2 1.41-.59l7.78-7.78 2.81-2.81c.8-.78.8-2.07 0-2.86zM5.41 20L4 18.59l7.72-7.72 1.47 1.35L5.41 20z\"/>\n",
              "  </svg>\n",
              "      </button>\n",
              "      \n",
              "  <style>\n",
              "    .colab-df-container {\n",
              "      display:flex;\n",
              "      flex-wrap:wrap;\n",
              "      gap: 12px;\n",
              "    }\n",
              "\n",
              "    .colab-df-convert {\n",
              "      background-color: #E8F0FE;\n",
              "      border: none;\n",
              "      border-radius: 50%;\n",
              "      cursor: pointer;\n",
              "      display: none;\n",
              "      fill: #1967D2;\n",
              "      height: 32px;\n",
              "      padding: 0 0 0 0;\n",
              "      width: 32px;\n",
              "    }\n",
              "\n",
              "    .colab-df-convert:hover {\n",
              "      background-color: #E2EBFA;\n",
              "      box-shadow: 0px 1px 2px rgba(60, 64, 67, 0.3), 0px 1px 3px 1px rgba(60, 64, 67, 0.15);\n",
              "      fill: #174EA6;\n",
              "    }\n",
              "\n",
              "    [theme=dark] .colab-df-convert {\n",
              "      background-color: #3B4455;\n",
              "      fill: #D2E3FC;\n",
              "    }\n",
              "\n",
              "    [theme=dark] .colab-df-convert:hover {\n",
              "      background-color: #434B5C;\n",
              "      box-shadow: 0px 1px 3px 1px rgba(0, 0, 0, 0.15);\n",
              "      filter: drop-shadow(0px 1px 2px rgba(0, 0, 0, 0.3));\n",
              "      fill: #FFFFFF;\n",
              "    }\n",
              "  </style>\n",
              "\n",
              "      <script>\n",
              "        const buttonEl =\n",
              "          document.querySelector('#df-f132b483-4cd0-405d-8bc8-9c1d34721c44 button.colab-df-convert');\n",
              "        buttonEl.style.display =\n",
              "          google.colab.kernel.accessAllowed ? 'block' : 'none';\n",
              "\n",
              "        async function convertToInteractive(key) {\n",
              "          const element = document.querySelector('#df-f132b483-4cd0-405d-8bc8-9c1d34721c44');\n",
              "          const dataTable =\n",
              "            await google.colab.kernel.invokeFunction('convertToInteractive',\n",
              "                                                     [key], {});\n",
              "          if (!dataTable) return;\n",
              "\n",
              "          const docLinkHtml = 'Like what you see? Visit the ' +\n",
              "            '<a target=\"_blank\" href=https://colab.research.google.com/notebooks/data_table.ipynb>data table notebook</a>'\n",
              "            + ' to learn more about interactive tables.';\n",
              "          element.innerHTML = '';\n",
              "          dataTable['output_type'] = 'display_data';\n",
              "          await google.colab.output.renderOutput(dataTable, element);\n",
              "          const docLink = document.createElement('div');\n",
              "          docLink.innerHTML = docLinkHtml;\n",
              "          element.appendChild(docLink);\n",
              "        }\n",
              "      </script>\n",
              "    </div>\n",
              "  </div>\n",
              "  "
            ]
          },
          "metadata": {},
          "execution_count": 24
        }
      ]
    },
    {
      "cell_type": "code",
      "source": [
        "test_pred = lin_reg.predict(X_test)\n",
        "train_pred = lin_reg.predict(X_train)\n",
        "\n",
        "print(\"Liner Regression\")\n",
        "print('---------------------------------')\n",
        "print('Test set evaluation:\\n__________________________________')\n",
        "print_evaluate(y_test, test_pred)\n",
        "print('Train set evaluation:\\n__________________________________')\n",
        "print_evaluate(y_train, train_pred)\n",
        "\n",
        "results_df = pd.DataFrame(data=[[\"Linear Regression\", *evaluate(y_test, test_pred) , cross_val(LinearRegression())]], \n",
        "                          columns=['Model', 'MAE', 'MSE', 'RMSE', 'R2 Square', \"Cross Validation\"])"
      ],
      "metadata": {
        "id": "urK6m543ryLM",
        "colab": {
          "base_uri": "https://localhost:8080/"
        },
        "outputId": "fb5e7f32-2f89-48ce-95a8-aa66945cfb08"
      },
      "execution_count": null,
      "outputs": [
        {
          "output_type": "stream",
          "name": "stdout",
          "text": [
            "Liner Regression\n",
            "---------------------------------\n",
            "Test set evaluation:\n",
            "__________________________________\n",
            "MAE: 8.300233786684787\n",
            "MSE: 90.33689908512304\n",
            "RMSE: 9.504572535633732\n",
            "R2 Square 0.3966400158172073\n",
            "__________________________________\n",
            "Train set evaluation:\n",
            "__________________________________\n",
            "MAE: 9.308247657375404\n",
            "MSE: 106.28000321917226\n",
            "RMSE: 10.309219331218648\n",
            "R2 Square 0.3550355855038424\n",
            "__________________________________\n"
          ]
        }
      ]
    },
    {
      "cell_type": "code",
      "source": [
        "from sklearn.linear_model import RANSACRegressor\n",
        "\n",
        "model = RANSACRegressor(base_estimator=LinearRegression(), max_trials=100)\n",
        "model.fit(X_train, y_train)\n",
        "\n",
        "test_pred = model.predict(X_test)\n",
        "train_pred = model.predict(X_train)\n",
        "print(\"Random Sample Consensus\")\n",
        "print('----------------------------')\n",
        "Zprint('Test set evaluation:\\n_____________________________________')\n",
        "print_evaluate(y_test, test_pred)\n",
        "\n",
        "print('Train set evaluation:\\n_____________________________________')\n",
        "print_evaluate(y_train, train_pred)\n",
        "\n",
        "results_df_2 = pd.DataFrame(data=[[\"Robust Regression\", *evaluate(y_test, test_pred) , cross_val(RANSACRegressor())]], \n",
        "                            columns=['Model', 'MAE', 'MSE', 'RMSE', 'R2 Square', \"Cross Validation\"])\n",
        "results_df = results_df.append(results_df_2, ignore_index=True)"
      ],
      "metadata": {
        "id": "Th9eHUO_r0xF",
        "colab": {
          "base_uri": "https://localhost:8080/"
        },
        "outputId": "a1ae8b58-7f91-4f0a-f321-c26da61a759f"
      },
      "execution_count": null,
      "outputs": [
        {
          "output_type": "stream",
          "name": "stdout",
          "text": [
            "Random Sample Consensus\n",
            "----------------------------\n",
            "Test set evaluation:\n",
            "_____________________________________\n",
            "MAE: 10.082309138509482\n",
            "MSE: 296.4796812453629\n",
            "RMSE: 17.218585343905662\n",
            "R2 Square -0.9801872501530302\n",
            "__________________________________\n",
            "Train set evaluation:\n",
            "_____________________________________\n",
            "MAE: 10.960957009152635\n",
            "MSE: 322.64995146752915\n",
            "RMSE: 17.962459504965604\n",
            "R2 Square -0.9580140264610857\n",
            "__________________________________\n"
          ]
        }
      ]
    },
    {
      "cell_type": "code",
      "source": [
        "from sklearn.linear_model import Ridge\n",
        "\n",
        "model = Ridge(alpha=100, solver='cholesky', tol=0.0001, random_state=42)\n",
        "model.fit(X_train, y_train)\n",
        "pred = model.predict(X_test)\n",
        "\n",
        "test_pred = model.predict(X_test)\n",
        "train_pred = model.predict(X_train)\n",
        "print(\"Ridge Regression\")\n",
        "print('---------------------------------')\n",
        "print('Test set evaluation:\\n_____________________________________')\n",
        "print_evaluate(y_test, test_pred)\n",
        "print('Train set evaluation:\\n_____________________________________')\n",
        "print_evaluate(y_train, train_pred)\n",
        "\n",
        "results_df_2 = pd.DataFrame(data=[[\"Ridge Regression\", *evaluate(y_test, test_pred) , cross_val(Ridge())]], \n",
        "                            columns=['Model', 'MAE', 'MSE', 'RMSE', 'R2 Square', \"Cross Validation\"])\n",
        "results_df = results_df.append(results_df_2, ignore_index=True)"
      ],
      "metadata": {
        "id": "64L6pikPsBl1",
        "colab": {
          "base_uri": "https://localhost:8080/"
        },
        "outputId": "5102ee44-2ff0-4efd-b38a-b40bccc2823a"
      },
      "execution_count": null,
      "outputs": [
        {
          "output_type": "stream",
          "name": "stdout",
          "text": [
            "Ridge Regression\n",
            "---------------------------------\n",
            "Test set evaluation:\n",
            "_____________________________________\n",
            "MAE: 8.803735978578143\n",
            "MSE: 96.29868033728964\n",
            "RMSE: 9.813189101270272\n",
            "R2 Square 0.3568212897104033\n",
            "__________________________________\n",
            "Train set evaluation:\n",
            "_____________________________________\n",
            "MAE: 9.6698021574755\n",
            "MSE: 108.71751618183264\n",
            "RMSE: 10.426769211113893\n",
            "R2 Square 0.3402434414205663\n",
            "__________________________________\n"
          ]
        }
      ]
    },
    {
      "cell_type": "code",
      "source": [
        "from sklearn.linear_model import Lasso\n",
        "\n",
        "model = Lasso(alpha=0.1, \n",
        "              precompute=True, \n",
        "#               warm_start=True, \n",
        "              positive=True, \n",
        "              selection='random',\n",
        "              random_state=42)\n",
        "model.fit(X_train, y_train)\n",
        "\n",
        "test_pred = model.predict(X_test)\n",
        "train_pred = model.predict(X_train)\n",
        "print(\"LASSO Regression\")\n",
        "print('---------------------------------')\n",
        "print('Test set evaluation:\\n_____________________________________')\n",
        "print_evaluate(y_test, test_pred)\n",
        "print('Train set evaluation:\\n_____________________________________')\n",
        "print_evaluate(y_train, train_pred)\n",
        "\n",
        "results_df_2 = pd.DataFrame(data=[[\"Lasso Regression\", *evaluate(y_test, test_pred) , cross_val(Lasso())]], \n",
        "                            columns=['Model', 'MAE', 'MSE', 'RMSE', 'R2 Square', \"Cross Validation\"])\n",
        "results_df = results_df.append(results_df_2, ignore_index=True)"
      ],
      "metadata": {
        "id": "pd7Uxr1CsDZN",
        "colab": {
          "base_uri": "https://localhost:8080/"
        },
        "outputId": "0f325da4-2131-44dc-d7c4-f80d6857f75f"
      },
      "execution_count": null,
      "outputs": [
        {
          "output_type": "stream",
          "name": "stdout",
          "text": [
            "LASSO Regression\n",
            "---------------------------------\n",
            "Test set evaluation:\n",
            "_____________________________________\n",
            "MAE: 10.892963012670533\n",
            "MSE: 144.06950201014084\n",
            "RMSE: 12.002895567742845\n",
            "R2 Square 0.03776005890845757\n",
            "__________________________________\n",
            "Train set evaluation:\n",
            "_____________________________________\n",
            "MAE: 10.826072634481497\n",
            "MSE: 143.3223921948469\n",
            "RMSE: 11.971733048930172\n",
            "R2 Square 0.1302423789401722\n",
            "__________________________________\n"
          ]
        }
      ]
    },
    {
      "cell_type": "code",
      "source": [
        "from sklearn.linear_model import ElasticNet\n",
        "\n",
        "model = ElasticNet(alpha=0.1, l1_ratio=0.9, selection='random', random_state=42)\n",
        "model.fit(X_train, y_train)\n",
        "\n",
        "test_pred = model.predict(X_test)\n",
        "train_pred = model.predict(X_train)\n",
        "print(\"Elastic Net Regression\")\n",
        "print('---------------------------------')\n",
        "print('Test set evaluation:\\n_____________________________________')\n",
        "print_evaluate(y_test, test_pred)\n",
        "print('Train set evaluation:\\n_____________________________________')\n",
        "print_evaluate(y_train, train_pred)\n",
        "\n",
        "results_df_2 = pd.DataFrame(data=[[\"Elastic Net Regression\", *evaluate(y_test, test_pred) , cross_val(ElasticNet())]], \n",
        "                            columns=['Model', 'MAE', 'MSE', 'RMSE', 'R2 Square', \"Cross Validation\"])\n",
        "results_df = results_df.append(results_df_2, ignore_index=True)"
      ],
      "metadata": {
        "id": "iwarpQKCsFbG",
        "colab": {
          "base_uri": "https://localhost:8080/"
        },
        "outputId": "89bcd3ff-06ff-4d85-eefc-d272655b620d"
      },
      "execution_count": null,
      "outputs": [
        {
          "output_type": "stream",
          "name": "stdout",
          "text": [
            "Elastic Net Regression\n",
            "---------------------------------\n",
            "Test set evaluation:\n",
            "_____________________________________\n",
            "MAE: 8.402192942156669\n",
            "MSE: 91.3572695083983\n",
            "RMSE: 9.55809968081513\n",
            "R2 Square 0.3898249636216715\n",
            "__________________________________\n",
            "Train set evaluation:\n",
            "_____________________________________\n",
            "MAE: 9.357785537443105\n",
            "MSE: 106.38138284421872\n",
            "RMSE: 10.31413509918397\n",
            "R2 Square 0.35442035922863147\n",
            "__________________________________\n"
          ]
        }
      ]
    },
    {
      "cell_type": "code",
      "source": [
        "from sklearn.preprocessing import PolynomialFeatures\n",
        "\n",
        "poly_reg = PolynomialFeatures(degree=2)\n",
        "\n",
        "X_train_2_d = poly_reg.fit_transform(X_train)\n",
        "X_test_2_d = poly_reg.transform(X_test)\n",
        "\n",
        "lin_reg = LinearRegression(normalize=True)\n",
        "lin_reg.fit(X_train_2_d,y_train)\n",
        "\n",
        "test_pred = lin_reg.predict(X_test_2_d)\n",
        "train_pred = lin_reg.predict(X_train_2_d)\n",
        "print(\" Polynomial Regression\")\n",
        "print('---------------------------------')\n",
        "print('Test set evaluation:\\n_____________________________________')\n",
        "print_evaluate(y_test, test_pred)\n",
        "print('Train set evaluation:\\n_____________________________________')\n",
        "print_evaluate(y_train, train_pred)\n",
        "\n",
        "results_df_2 = pd.DataFrame(data=[[\"Polynomail Regression\", *evaluate(y_test, test_pred), 0]], \n",
        "                            columns=['Model', 'MAE', 'MSE', 'RMSE', 'R2 Square', 'Cross Validation'])\n",
        "results_df = results_df.append(results_df_2, ignore_index=True)"
      ],
      "metadata": {
        "id": "vBWuRE6EsIxg",
        "colab": {
          "base_uri": "https://localhost:8080/"
        },
        "outputId": "a7daea41-bd34-483c-9b11-fe063178c586"
      },
      "execution_count": null,
      "outputs": [
        {
          "output_type": "stream",
          "name": "stdout",
          "text": [
            " Polynomial Regression\n",
            "---------------------------------\n",
            "Test set evaluation:\n",
            "_____________________________________\n",
            "MAE: 3.970723424627409\n",
            "MSE: 26.96956074178549\n",
            "RMSE: 5.193222577724306\n",
            "R2 Square 0.8198703530077186\n",
            "__________________________________\n",
            "Train set evaluation:\n",
            "_____________________________________\n",
            "MAE: 4.76148031521026\n",
            "MSE: 35.44077013722264\n",
            "RMSE: 5.95321510926849\n",
            "R2 Square 0.7849262808761069\n",
            "__________________________________\n"
          ]
        },
        {
          "output_type": "stream",
          "name": "stderr",
          "text": [
            "/usr/local/lib/python3.7/dist-packages/sklearn/linear_model/_base.py:145: FutureWarning: 'normalize' was deprecated in version 1.0 and will be removed in 1.2.\n",
            "If you wish to scale the data, use Pipeline with a StandardScaler in a preprocessing stage. To reproduce the previous behavior:\n",
            "\n",
            "from sklearn.pipeline import make_pipeline\n",
            "\n",
            "model = make_pipeline(StandardScaler(with_mean=False), LinearRegression())\n",
            "\n",
            "If you wish to pass a sample_weight parameter, you need to pass it as a fit parameter to each step of the pipeline as follows:\n",
            "\n",
            "kwargs = {s[0] + '__sample_weight': sample_weight for s in model.steps}\n",
            "model.fit(X, y, **kwargs)\n",
            "\n",
            "\n",
            "  FutureWarning,\n"
          ]
        }
      ]
    },
    {
      "cell_type": "code",
      "source": [
        "from sklearn.linear_model import SGDRegressor\n",
        "\n",
        "sgd_reg = SGDRegressor(n_iter_no_change=250, penalty=None, eta0=0.0001, max_iter=100000)\n",
        "sgd_reg.fit(X_train, y_train)\n",
        "\n",
        "test_pred = sgd_reg.predict(X_test)\n",
        "train_pred = sgd_reg.predict(X_train)\n",
        "print(\"Stochastic Gradient Descent\")\n",
        "print('---------------------------------')\n",
        "print('Test set evaluation:\\n_____________________________________')\n",
        "print_evaluate(y_test, test_pred)\n",
        "print('Train set evaluation:\\n_____________________________________')\n",
        "print_evaluate(y_train, train_pred)\n",
        "\n",
        "results_df_2 = pd.DataFrame(data=[[\"Stochastic Gradient Descent\", *evaluate(y_test, test_pred), 0]], \n",
        "                            columns=['Model', 'MAE', 'MSE', 'RMSE', 'R2 Square', 'Cross Validation'])\n",
        "results_df = results_df.append(results_df_2, ignore_index=True)\n"
      ],
      "metadata": {
        "id": "-FwCZexjsLFO",
        "colab": {
          "base_uri": "https://localhost:8080/"
        },
        "outputId": "63ab4a9b-c988-47ed-febe-e26dd29e1ce7"
      },
      "execution_count": null,
      "outputs": [
        {
          "output_type": "stream",
          "name": "stdout",
          "text": [
            "Stochastic Gradient Descent\n",
            "---------------------------------\n",
            "Test set evaluation:\n",
            "_____________________________________\n",
            "MAE: 8.361519041848837\n",
            "MSE: 91.90032964192433\n",
            "RMSE: 9.586465962069877\n",
            "R2 Square 0.3861978659805868\n",
            "__________________________________\n",
            "Train set evaluation:\n",
            "_____________________________________\n",
            "MAE: 9.345888785586801\n",
            "MSE: 107.00013746240545\n",
            "RMSE: 10.344087077282627\n",
            "R2 Square 0.35066542228896447\n",
            "__________________________________\n"
          ]
        }
      ]
    },
    {
      "cell_type": "code",
      "source": [
        "from sklearn.ensemble import RandomForestRegressor\n",
        "\n",
        "rf_reg = RandomForestRegressor(n_estimators=100)\n",
        "rf_reg.fit(X_train, y_train)\n",
        "\n",
        "test_pred = rf_reg.predict(X_test)\n",
        "train_pred = rf_reg.predict(X_train)\n",
        "\n",
        "print(\"Random Forest Regressor\")\n",
        "print('---------------------------------')\n",
        "\n",
        "print('Test set evaluation:\\n_____________________________________')\n",
        "print_evaluate(y_test, test_pred)\n",
        "\n",
        "print('Train set evaluation:\\n_____________________________________')\n",
        "print_evaluate(y_train, train_pred)\n",
        "\n",
        "results_df_2 = pd.DataFrame(data=[[\"Random Forest Regressor\", *evaluate(y_test, test_pred), 0]], \n",
        "                            columns=['Model', 'MAE', 'MSE', 'RMSE', 'R2 Square', 'Cross Validation'])\n",
        "results_df = results_df.append(results_df_2, ignore_index=True)"
      ],
      "metadata": {
        "id": "RdQoTdOusWG8",
        "colab": {
          "base_uri": "https://localhost:8080/"
        },
        "outputId": "326f7cfb-0b0c-44ff-abfd-8849be4231fb"
      },
      "execution_count": null,
      "outputs": [
        {
          "output_type": "stream",
          "name": "stdout",
          "text": [
            "Random Forest Regressor\n",
            "---------------------------------\n",
            "Test set evaluation:\n",
            "_____________________________________\n",
            "MAE: 0.12781081081081075\n",
            "MSE: 0.6934541891891891\n",
            "RMSE: 0.8327389682182461\n",
            "R2 Square 0.9953684207355133\n",
            "__________________________________\n",
            "Train set evaluation:\n",
            "_____________________________________\n",
            "MAE: 0.10525581395348832\n",
            "MSE: 0.3269252325581397\n",
            "RMSE: 0.5717737599419369\n",
            "R2 Square 0.9980160412606871\n",
            "__________________________________\n"
          ]
        }
      ]
    },
    {
      "cell_type": "code",
      "source": [
        "from sklearn.svm import SVR\n",
        "\n",
        "svm_reg = SVR(kernel='rbf', C=500, epsilon=0.001)\n",
        "svm_reg.fit(X_train, y_train)\n",
        "\n",
        "test_pred = svm_reg.predict(X_test)\n",
        "train_pred = svm_reg.predict(X_train)\n",
        "print(\"Support Vector Machine Regressor\")\n",
        "print('---------------------------------')\n",
        "print('Test set evaluation:\\n_____________________________________')\n",
        "print_evaluate(y_test, test_pred)\n",
        "\n",
        "print('Train set evaluation:\\n_____________________________________')\n",
        "print_evaluate(y_train, train_pred)\n",
        "\n",
        "results_df_2 = pd.DataFrame(data=[[\"SVM Regressor\", *evaluate(y_test, test_pred), 0]], \n",
        "                            columns=['Model', 'MAE', 'MSE', 'RMSE', 'R2 Square', 'Cross Validation'])\n",
        "results_df = results_df.append(results_df_2, ignore_index=True)"
      ],
      "metadata": {
        "id": "z5kbHkVasYMT",
        "colab": {
          "base_uri": "https://localhost:8080/"
        },
        "outputId": "05afb919-e16c-420f-83f7-779621c2d098"
      },
      "execution_count": null,
      "outputs": [
        {
          "output_type": "stream",
          "name": "stdout",
          "text": [
            "Support Vector Machine Regressor\n",
            "---------------------------------\n",
            "Test set evaluation:\n",
            "_____________________________________\n",
            "MAE: 0.636640735424902\n",
            "MSE: 3.011323901885221\n",
            "RMSE: 1.7353166575254273\n",
            "R2 Square 0.9798873731530381\n",
            "__________________________________\n",
            "Train set evaluation:\n",
            "_____________________________________\n",
            "MAE: 0.6737413009551124\n",
            "MSE: 4.06830392302736\n",
            "RMSE: 2.01700369930929\n",
            "R2 Square 0.975311336298168\n",
            "__________________________________\n"
          ]
        }
      ]
    },
    {
      "cell_type": "code",
      "source": [
        "import tensorflow as tf \n",
        "from tensorflow import keras\n",
        "from tensorflow.keras.preprocessing import image\n",
        "from tensorflow.keras.models import Sequential\n",
        "from tensorflow.keras import layers\n",
        "from tensorflow.keras.layers import Dense, Activation, Flatten, Dropout, BatchNormalization,Embedding\n",
        "from tensorflow.keras.layers import Conv2D, MaxPooling2D,LSTM,Bidirectional,Attention,Concatenate\n",
        "from tensorflow.keras.layers import DepthwiseConv2D,Add, ReLU, GlobalAveragePooling2D, GlobalMaxPooling2D\n",
        "from tensorflow.keras.layers import Activation,ActivityRegularization, AvgPool2D\n",
        "from tensorflow.keras import regularizers, optimizers,losses\n",
        "from tensorflow.keras.metrics import Recall,Precision,AUC,TruePositives,TrueNegatives,FalseNegatives,FalsePositives, SpecificityAtSensitivity,SensitivityAtSpecificity\n",
        "from tensorflow.keras.metrics import CategoricalAccuracy, BinaryAccuracy\n",
        "from tensorflow.keras.utils import plot_model\n",
        "from tensorflow.keras.utils import to_categorical\n",
        "from sklearn.model_selection import train_test_split\n",
        "\n",
        "import matplotlib.pyplot as plt\n",
        "\n",
        "\n",
        "X_train = np.array(X_train)\n",
        "X_test = np.array(X_test)\n",
        "y_train = np.array(y_train)\n",
        "y_test = np.array(y_test)\n",
        "\n",
        "model = Sequential()\n",
        "\n",
        "model.add(Dense(X_train.shape[1], activation='relu'))\n",
        "model.add(Dense(32, activation='relu'))\n",
        "model.add(Dropout(0.1))\n",
        "model.add(Dense(256, activation='relu'))\n",
        "model.add(Dropout(0.21))\n",
        "model.add(Dense(32, activation='relu'))\n",
        "model.add(Dropout(0.1))\n",
        "model.add(Dense(1))\n",
        "\n",
        "model.compile(optimizer=keras.optimizers.Adam(0.00001), loss='mse',metrics='mae')\n",
        "\n",
        "r = model.fit(X_train, y_train,\n",
        "              validation_data=(X_test,y_test),\n",
        "              batch_size=1,\n",
        "              epochs=100)\n"
      ],
      "metadata": {
        "id": "D6Lg4TVOsZ1X",
        "colab": {
          "base_uri": "https://localhost:8080/"
        },
        "outputId": "42b8658f-fd5a-42e5-f1d5-92eca9be29e9"
      },
      "execution_count": null,
      "outputs": [
        {
          "output_type": "stream",
          "name": "stdout",
          "text": [
            "Epoch 1/100\n",
            "430/430 [==============================] - 2s 3ms/step - loss: 2024.4557 - mae: 43.1140 - val_loss: 2002.9380 - val_mae: 43.0428\n",
            "Epoch 2/100\n",
            "430/430 [==============================] - 1s 2ms/step - loss: 2014.0392 - mae: 42.9934 - val_loss: 1990.1838 - val_mae: 42.9069\n",
            "Epoch 3/100\n",
            "430/430 [==============================] - 1s 2ms/step - loss: 2002.9512 - mae: 42.8588 - val_loss: 1974.9233 - val_mae: 42.7431\n",
            "Epoch 4/100\n",
            "430/430 [==============================] - 1s 2ms/step - loss: 1986.5710 - mae: 42.6706 - val_loss: 1955.0483 - val_mae: 42.5257\n",
            "Epoch 5/100\n",
            "430/430 [==============================] - 1s 2ms/step - loss: 1967.7285 - mae: 42.4538 - val_loss: 1931.4149 - val_mae: 42.2651\n",
            "Epoch 6/100\n",
            "430/430 [==============================] - 1s 2ms/step - loss: 1943.4048 - mae: 42.1853 - val_loss: 1902.3956 - val_mae: 41.9588\n",
            "Epoch 7/100\n",
            "430/430 [==============================] - 1s 3ms/step - loss: 1914.9159 - mae: 41.8959 - val_loss: 1866.5735 - val_mae: 41.5732\n",
            "Epoch 8/100\n",
            "430/430 [==============================] - 1s 2ms/step - loss: 1882.9039 - mae: 41.5640 - val_loss: 1824.3051 - val_mae: 41.1100\n",
            "Epoch 9/100\n",
            "430/430 [==============================] - 1s 2ms/step - loss: 1842.7657 - mae: 41.1329 - val_loss: 1776.1331 - val_mae: 40.5728\n",
            "Epoch 10/100\n",
            "430/430 [==============================] - 1s 2ms/step - loss: 1788.7769 - mae: 40.5748 - val_loss: 1720.1110 - val_mae: 39.9338\n",
            "Epoch 11/100\n",
            "430/430 [==============================] - 1s 2ms/step - loss: 1736.7388 - mae: 39.9427 - val_loss: 1656.2646 - val_mae: 39.1868\n",
            "Epoch 12/100\n",
            "430/430 [==============================] - 1s 2ms/step - loss: 1684.1016 - mae: 39.3877 - val_loss: 1586.3767 - val_mae: 38.3452\n",
            "Epoch 13/100\n",
            "430/430 [==============================] - 1s 3ms/step - loss: 1613.1179 - mae: 38.5057 - val_loss: 1510.3112 - val_mae: 37.3993\n",
            "Epoch 14/100\n",
            "430/430 [==============================] - 1s 3ms/step - loss: 1550.3374 - mae: 37.7328 - val_loss: 1429.9789 - val_mae: 36.3639\n",
            "Epoch 15/100\n",
            "430/430 [==============================] - 1s 2ms/step - loss: 1478.9855 - mae: 36.8097 - val_loss: 1346.5531 - val_mae: 35.2450\n",
            "Epoch 16/100\n",
            "430/430 [==============================] - 1s 2ms/step - loss: 1394.7316 - mae: 35.6780 - val_loss: 1260.4274 - val_mae: 34.0379\n",
            "Epoch 17/100\n",
            "430/430 [==============================] - 1s 2ms/step - loss: 1316.0562 - mae: 34.5590 - val_loss: 1170.7388 - val_mae: 32.7171\n",
            "Epoch 18/100\n",
            "430/430 [==============================] - 1s 2ms/step - loss: 1235.2333 - mae: 33.3124 - val_loss: 1081.0641 - val_mae: 31.3233\n",
            "Epoch 19/100\n",
            "430/430 [==============================] - 1s 2ms/step - loss: 1168.1484 - mae: 32.2423 - val_loss: 997.9940 - val_mae: 30.0007\n",
            "Epoch 20/100\n",
            "430/430 [==============================] - 1s 3ms/step - loss: 1080.2578 - mae: 30.8051 - val_loss: 911.0214 - val_mae: 28.5592\n",
            "Epoch 21/100\n",
            "430/430 [==============================] - 1s 2ms/step - loss: 1038.1797 - mae: 29.9249 - val_loss: 834.1005 - val_mae: 27.1995\n",
            "Epoch 22/100\n",
            "430/430 [==============================] - 1s 2ms/step - loss: 966.5931 - mae: 28.6907 - val_loss: 761.1285 - val_mae: 25.8187\n",
            "Epoch 23/100\n",
            "430/430 [==============================] - 1s 2ms/step - loss: 899.4600 - mae: 27.3186 - val_loss: 693.0472 - val_mae: 24.4387\n",
            "Epoch 24/100\n",
            "430/430 [==============================] - 1s 2ms/step - loss: 841.1930 - mae: 26.0996 - val_loss: 629.1425 - val_mae: 23.0508\n",
            "Epoch 25/100\n",
            "430/430 [==============================] - 1s 3ms/step - loss: 761.7712 - mae: 24.5275 - val_loss: 568.9752 - val_mae: 21.6543\n",
            "Epoch 26/100\n",
            "430/430 [==============================] - 1s 2ms/step - loss: 726.8813 - mae: 23.5503 - val_loss: 514.5588 - val_mae: 20.2852\n",
            "Epoch 27/100\n",
            "430/430 [==============================] - 1s 2ms/step - loss: 674.7554 - mae: 22.2102 - val_loss: 466.5322 - val_mae: 19.0514\n",
            "Epoch 28/100\n",
            "430/430 [==============================] - 1s 3ms/step - loss: 645.5840 - mae: 21.1388 - val_loss: 425.0774 - val_mae: 17.9045\n",
            "Epoch 29/100\n",
            "430/430 [==============================] - 1s 2ms/step - loss: 638.6394 - mae: 20.7803 - val_loss: 389.6924 - val_mae: 16.8429\n",
            "Epoch 30/100\n",
            "430/430 [==============================] - 1s 2ms/step - loss: 569.3167 - mae: 19.4963 - val_loss: 356.4552 - val_mae: 15.7373\n",
            "Epoch 31/100\n",
            "430/430 [==============================] - 1s 2ms/step - loss: 521.6857 - mae: 18.2250 - val_loss: 327.9719 - val_mae: 14.7379\n",
            "Epoch 32/100\n",
            "430/430 [==============================] - 1s 3ms/step - loss: 512.6085 - mae: 17.4629 - val_loss: 303.0379 - val_mae: 13.8031\n",
            "Epoch 33/100\n",
            "430/430 [==============================] - 1s 2ms/step - loss: 484.2017 - mae: 16.9280 - val_loss: 281.8568 - val_mae: 12.9623\n",
            "Epoch 34/100\n",
            "430/430 [==============================] - 1s 2ms/step - loss: 437.7494 - mae: 15.7893 - val_loss: 262.8903 - val_mae: 12.2559\n",
            "Epoch 35/100\n",
            "430/430 [==============================] - 1s 2ms/step - loss: 435.2246 - mae: 15.3553 - val_loss: 246.7871 - val_mae: 11.6133\n",
            "Epoch 36/100\n",
            "430/430 [==============================] - 1s 3ms/step - loss: 403.2403 - mae: 14.6902 - val_loss: 233.0226 - val_mae: 10.9972\n",
            "Epoch 37/100\n",
            "430/430 [==============================] - 1s 3ms/step - loss: 403.6108 - mae: 14.5617 - val_loss: 221.5898 - val_mae: 10.4518\n",
            "Epoch 38/100\n",
            "430/430 [==============================] - 1s 2ms/step - loss: 397.4752 - mae: 14.0376 - val_loss: 212.0559 - val_mae: 10.0121\n",
            "Epoch 39/100\n",
            "430/430 [==============================] - 1s 2ms/step - loss: 374.6147 - mae: 13.9975 - val_loss: 203.4679 - val_mae: 9.6089\n",
            "Epoch 40/100\n",
            "430/430 [==============================] - 1s 2ms/step - loss: 375.3607 - mae: 13.4507 - val_loss: 196.2214 - val_mae: 9.3229\n",
            "Epoch 41/100\n",
            "430/430 [==============================] - 1s 2ms/step - loss: 340.4032 - mae: 12.8607 - val_loss: 189.7603 - val_mae: 9.0040\n",
            "Epoch 42/100\n",
            "430/430 [==============================] - 1s 3ms/step - loss: 354.9274 - mae: 13.1699 - val_loss: 183.6342 - val_mae: 8.7657\n",
            "Epoch 43/100\n",
            "430/430 [==============================] - 1s 2ms/step - loss: 344.2948 - mae: 13.0841 - val_loss: 178.3245 - val_mae: 8.5428\n",
            "Epoch 44/100\n",
            "430/430 [==============================] - 2s 5ms/step - loss: 324.5238 - mae: 12.4339 - val_loss: 173.2690 - val_mae: 8.3283\n",
            "Epoch 45/100\n",
            "430/430 [==============================] - 3s 7ms/step - loss: 340.5464 - mae: 12.7159 - val_loss: 168.3758 - val_mae: 8.1615\n",
            "Epoch 46/100\n",
            "430/430 [==============================] - 1s 2ms/step - loss: 325.8340 - mae: 12.2489 - val_loss: 163.9219 - val_mae: 8.0054\n",
            "Epoch 47/100\n",
            "430/430 [==============================] - 1s 2ms/step - loss: 313.8013 - mae: 11.9642 - val_loss: 159.7058 - val_mae: 7.8649\n",
            "Epoch 48/100\n",
            "430/430 [==============================] - 1s 2ms/step - loss: 312.3784 - mae: 12.2431 - val_loss: 155.9204 - val_mae: 7.7717\n",
            "Epoch 49/100\n",
            "430/430 [==============================] - 1s 2ms/step - loss: 300.9809 - mae: 11.8765 - val_loss: 151.7549 - val_mae: 7.6550\n",
            "Epoch 50/100\n",
            "430/430 [==============================] - 1s 2ms/step - loss: 292.7120 - mae: 11.6715 - val_loss: 148.2920 - val_mae: 7.5621\n",
            "Epoch 51/100\n",
            "430/430 [==============================] - 1s 3ms/step - loss: 296.9459 - mae: 11.8827 - val_loss: 144.7749 - val_mae: 7.4797\n",
            "Epoch 52/100\n",
            "430/430 [==============================] - 1s 2ms/step - loss: 287.8975 - mae: 11.6169 - val_loss: 141.3073 - val_mae: 7.3988\n",
            "Epoch 53/100\n",
            "430/430 [==============================] - 1s 2ms/step - loss: 279.9217 - mae: 11.4582 - val_loss: 138.1792 - val_mae: 7.3267\n",
            "Epoch 54/100\n",
            "430/430 [==============================] - 1s 2ms/step - loss: 267.6652 - mae: 11.5874 - val_loss: 135.0999 - val_mae: 7.2649\n",
            "Epoch 55/100\n",
            "430/430 [==============================] - 1s 2ms/step - loss: 252.5258 - mae: 11.0686 - val_loss: 132.4251 - val_mae: 7.2017\n",
            "Epoch 56/100\n",
            "430/430 [==============================] - 1s 2ms/step - loss: 258.6424 - mae: 11.4670 - val_loss: 129.4832 - val_mae: 7.1538\n",
            "Epoch 57/100\n",
            "430/430 [==============================] - 1s 3ms/step - loss: 261.0632 - mae: 11.2171 - val_loss: 126.5061 - val_mae: 7.1087\n",
            "Epoch 58/100\n",
            "430/430 [==============================] - 1s 3ms/step - loss: 256.0804 - mae: 11.2291 - val_loss: 123.6388 - val_mae: 7.0670\n",
            "Epoch 59/100\n",
            "430/430 [==============================] - 1s 2ms/step - loss: 241.1736 - mae: 10.8026 - val_loss: 121.1569 - val_mae: 7.0264\n",
            "Epoch 60/100\n",
            "430/430 [==============================] - 1s 2ms/step - loss: 227.1999 - mae: 10.6394 - val_loss: 118.8121 - val_mae: 6.9856\n",
            "Epoch 61/100\n",
            "430/430 [==============================] - 1s 2ms/step - loss: 220.3037 - mae: 10.3696 - val_loss: 116.4667 - val_mae: 6.9444\n",
            "Epoch 62/100\n",
            "430/430 [==============================] - 1s 2ms/step - loss: 232.4559 - mae: 10.8166 - val_loss: 114.1811 - val_mae: 6.9031\n",
            "Epoch 63/100\n",
            "430/430 [==============================] - 1s 3ms/step - loss: 221.2334 - mae: 10.5968 - val_loss: 111.8575 - val_mae: 6.8503\n",
            "Epoch 64/100\n",
            "430/430 [==============================] - 1s 2ms/step - loss: 218.9877 - mae: 10.4930 - val_loss: 109.6262 - val_mae: 6.8078\n",
            "Epoch 65/100\n",
            "430/430 [==============================] - 1s 3ms/step - loss: 210.0999 - mae: 10.3565 - val_loss: 107.6532 - val_mae: 6.7695\n",
            "Epoch 66/100\n",
            "430/430 [==============================] - 1s 2ms/step - loss: 209.1360 - mae: 10.2410 - val_loss: 105.6654 - val_mae: 6.7273\n",
            "Epoch 67/100\n",
            "430/430 [==============================] - 1s 3ms/step - loss: 199.8364 - mae: 10.0507 - val_loss: 103.5273 - val_mae: 6.6776\n",
            "Epoch 68/100\n",
            "430/430 [==============================] - 1s 3ms/step - loss: 205.0194 - mae: 10.1323 - val_loss: 101.6249 - val_mae: 6.6332\n",
            "Epoch 69/100\n",
            "430/430 [==============================] - 1s 2ms/step - loss: 193.6769 - mae: 10.0553 - val_loss: 99.8827 - val_mae: 6.5927\n",
            "Epoch 70/100\n",
            "430/430 [==============================] - 1s 2ms/step - loss: 182.8692 - mae: 9.6654 - val_loss: 98.3845 - val_mae: 6.5592\n",
            "Epoch 71/100\n",
            "430/430 [==============================] - 1s 2ms/step - loss: 193.4386 - mae: 9.9070 - val_loss: 96.6866 - val_mae: 6.5202\n",
            "Epoch 72/100\n",
            "430/430 [==============================] - 1s 2ms/step - loss: 192.0070 - mae: 9.8889 - val_loss: 94.9873 - val_mae: 6.4851\n",
            "Epoch 73/100\n",
            "430/430 [==============================] - 1s 2ms/step - loss: 187.8485 - mae: 9.8244 - val_loss: 93.3288 - val_mae: 6.4525\n",
            "Epoch 74/100\n",
            "430/430 [==============================] - 1s 3ms/step - loss: 175.8347 - mae: 9.4426 - val_loss: 91.7841 - val_mae: 6.4256\n",
            "Epoch 75/100\n",
            "430/430 [==============================] - 1s 3ms/step - loss: 185.3535 - mae: 9.7934 - val_loss: 90.1226 - val_mae: 6.3901\n",
            "Epoch 76/100\n",
            "430/430 [==============================] - 1s 2ms/step - loss: 171.2686 - mae: 9.5640 - val_loss: 88.8852 - val_mae: 6.3668\n",
            "Epoch 77/100\n",
            "430/430 [==============================] - 1s 3ms/step - loss: 173.4853 - mae: 9.5964 - val_loss: 87.2800 - val_mae: 6.3266\n",
            "Epoch 78/100\n",
            "430/430 [==============================] - 1s 3ms/step - loss: 173.1457 - mae: 9.6120 - val_loss: 85.9941 - val_mae: 6.2879\n",
            "Epoch 79/100\n",
            "430/430 [==============================] - 1s 3ms/step - loss: 180.0676 - mae: 9.7789 - val_loss: 84.4962 - val_mae: 6.2374\n",
            "Epoch 80/100\n",
            "430/430 [==============================] - 1s 2ms/step - loss: 167.3814 - mae: 9.4081 - val_loss: 83.2778 - val_mae: 6.2054\n",
            "Epoch 81/100\n",
            "430/430 [==============================] - 1s 3ms/step - loss: 166.5908 - mae: 9.5019 - val_loss: 82.1349 - val_mae: 6.1716\n",
            "Epoch 82/100\n",
            "430/430 [==============================] - 1s 2ms/step - loss: 174.2037 - mae: 9.5071 - val_loss: 80.9998 - val_mae: 6.1449\n",
            "Epoch 83/100\n",
            "430/430 [==============================] - 1s 3ms/step - loss: 164.9567 - mae: 9.5121 - val_loss: 80.1557 - val_mae: 6.1341\n",
            "Epoch 84/100\n",
            "430/430 [==============================] - 1s 2ms/step - loss: 160.1668 - mae: 9.2388 - val_loss: 79.2012 - val_mae: 6.1087\n",
            "Epoch 85/100\n",
            "430/430 [==============================] - 1s 2ms/step - loss: 163.3183 - mae: 9.2801 - val_loss: 78.0261 - val_mae: 6.0607\n",
            "Epoch 86/100\n",
            "430/430 [==============================] - 1s 2ms/step - loss: 160.4460 - mae: 9.3819 - val_loss: 76.9495 - val_mae: 6.0192\n",
            "Epoch 87/100\n",
            "430/430 [==============================] - 1s 2ms/step - loss: 152.0556 - mae: 9.1513 - val_loss: 75.9240 - val_mae: 5.9856\n",
            "Epoch 88/100\n",
            "430/430 [==============================] - 1s 2ms/step - loss: 157.7359 - mae: 9.0188 - val_loss: 75.1013 - val_mae: 5.9648\n",
            "Epoch 89/100\n",
            "430/430 [==============================] - 1s 3ms/step - loss: 157.7580 - mae: 9.3083 - val_loss: 74.3103 - val_mae: 5.9430\n",
            "Epoch 90/100\n",
            "430/430 [==============================] - 1s 3ms/step - loss: 153.2564 - mae: 9.1669 - val_loss: 73.3419 - val_mae: 5.9017\n",
            "Epoch 91/100\n",
            "430/430 [==============================] - 1s 3ms/step - loss: 150.2684 - mae: 9.1673 - val_loss: 72.5835 - val_mae: 5.8824\n",
            "Epoch 92/100\n",
            "430/430 [==============================] - 1s 2ms/step - loss: 142.6637 - mae: 8.7573 - val_loss: 71.8217 - val_mae: 5.8569\n",
            "Epoch 93/100\n",
            "430/430 [==============================] - 1s 3ms/step - loss: 155.5041 - mae: 9.2788 - val_loss: 71.1458 - val_mae: 5.8326\n",
            "Epoch 94/100\n",
            "430/430 [==============================] - 1s 3ms/step - loss: 148.1108 - mae: 8.9496 - val_loss: 70.4082 - val_mae: 5.8029\n",
            "Epoch 95/100\n",
            "430/430 [==============================] - 1s 3ms/step - loss: 142.3288 - mae: 8.6825 - val_loss: 69.7980 - val_mae: 5.7833\n",
            "Epoch 96/100\n",
            "430/430 [==============================] - 1s 3ms/step - loss: 140.4281 - mae: 8.5565 - val_loss: 69.1652 - val_mae: 5.7593\n",
            "Epoch 97/100\n",
            "430/430 [==============================] - 1s 2ms/step - loss: 138.9813 - mae: 8.7129 - val_loss: 68.8187 - val_mae: 5.7804\n",
            "Epoch 98/100\n",
            "430/430 [==============================] - 1s 2ms/step - loss: 145.8318 - mae: 8.8130 - val_loss: 68.0742 - val_mae: 5.7173\n",
            "Epoch 99/100\n",
            "430/430 [==============================] - 1s 3ms/step - loss: 137.9520 - mae: 8.5047 - val_loss: 67.4535 - val_mae: 5.6962\n",
            "Epoch 100/100\n",
            "430/430 [==============================] - 1s 3ms/step - loss: 127.7410 - mae: 8.3554 - val_loss: 66.8705 - val_mae: 5.6598\n"
          ]
        }
      ]
    },
    {
      "cell_type": "code",
      "source": [
        "test_pred = model.predict(X_test)\n",
        "train_pred = model.predict(X_train)\n",
        "print(\"ANN1\")\n",
        "print('---------------------------------')\n",
        "print('Test set evaluation:\\n_____________________________________')\n",
        "print_evaluate(y_test, test_pred)\n",
        "\n",
        "print('Train set evaluation:\\n_____________________________________')\n",
        "print_evaluate(y_train, train_pred)\n",
        "\n",
        "results_df_2 = pd.DataFrame(data=[[\"Artficial Neural Network1\", *evaluate(y_test, test_pred), 0]], \n",
        "                            columns=['Model', 'MAE', 'MSE', 'RMSE', 'R2 Square', 'Cross Validation'])\n",
        "results_df = results_df.append(results_df_2, ignore_index=True)"
      ],
      "metadata": {
        "id": "DFySdATgsdzl",
        "colab": {
          "base_uri": "https://localhost:8080/"
        },
        "outputId": "c153d9f1-aacb-44e4-b489-4541cdcea77f"
      },
      "execution_count": null,
      "outputs": [
        {
          "output_type": "stream",
          "name": "stdout",
          "text": [
            "ANN1\n",
            "---------------------------------\n",
            "Test set evaluation:\n",
            "_____________________________________\n",
            "MAE: 5.659764459970835\n",
            "MSE: 66.87053171971266\n",
            "RMSE: 8.17744041370603\n",
            "R2 Square 0.5533718406397542\n",
            "__________________________________\n",
            "Train set evaluation:\n",
            "_____________________________________\n",
            "MAE: 7.087758348154467\n",
            "MSE: 106.90093632028875\n",
            "RMSE: 10.339290900264329\n",
            "R2 Square 0.3512674283541196\n",
            "__________________________________\n"
          ]
        }
      ]
    },
    {
      "cell_type": "code",
      "source": [
        "model = Sequential()\n",
        "\n",
        "model.add(Dense(X_train.shape[1], activation='relu'))\n",
        "model.add(Dense(512, activation='relu'))\n",
        "model.add(BatchNormalization(axis=-1))\n",
        "model.add(Dropout(0.1))\n",
        "model.add(Dense(256, activation='sigmoid'))\n",
        "model.add(Dropout(0.1))\n",
        "model.add(Dense(1))\n",
        "\n",
        "model.compile(optimizer=keras.optimizers.Adam(), loss='mse',metrics='mae')\n",
        "\n",
        "r = model.fit(X_train, y_train,\n",
        "              validation_data=(X_test,y_test),\n",
        "              batch_size=1,\n",
        "              epochs=100)"
      ],
      "metadata": {
        "id": "xcLsQv6fsvQh",
        "colab": {
          "base_uri": "https://localhost:8080/"
        },
        "outputId": "835c04da-e29f-478d-852e-363e0f088cb8"
      },
      "execution_count": null,
      "outputs": [
        {
          "output_type": "stream",
          "name": "stdout",
          "text": [
            "Epoch 1/100\n",
            "430/430 [==============================] - 2s 3ms/step - loss: 437.1468 - mae: 15.8164 - val_loss: 151.0026 - val_mae: 11.1115\n",
            "Epoch 2/100\n",
            "430/430 [==============================] - 1s 3ms/step - loss: 169.5230 - mae: 11.4182 - val_loss: 147.6148 - val_mae: 10.9194\n",
            "Epoch 3/100\n",
            "430/430 [==============================] - 1s 3ms/step - loss: 165.6619 - mae: 11.1701 - val_loss: 154.3558 - val_mae: 10.2414\n",
            "Epoch 4/100\n",
            "430/430 [==============================] - 1s 3ms/step - loss: 167.8897 - mae: 11.3401 - val_loss: 151.2909 - val_mae: 10.4133\n",
            "Epoch 5/100\n",
            "430/430 [==============================] - 1s 3ms/step - loss: 167.6780 - mae: 11.2821 - val_loss: 147.8713 - val_mae: 10.7622\n",
            "Epoch 6/100\n",
            "430/430 [==============================] - 1s 3ms/step - loss: 164.4015 - mae: 11.1986 - val_loss: 147.9277 - val_mae: 10.7373\n",
            "Epoch 7/100\n",
            "430/430 [==============================] - 1s 3ms/step - loss: 169.0370 - mae: 11.3122 - val_loss: 147.5134 - val_mae: 10.7547\n",
            "Epoch 8/100\n",
            "430/430 [==============================] - 1s 3ms/step - loss: 167.1726 - mae: 11.3020 - val_loss: 147.7643 - val_mae: 10.6575\n",
            "Epoch 9/100\n",
            "430/430 [==============================] - 1s 3ms/step - loss: 168.4057 - mae: 11.3022 - val_loss: 147.0692 - val_mae: 10.7588\n",
            "Epoch 10/100\n",
            "430/430 [==============================] - 1s 3ms/step - loss: 168.1779 - mae: 11.3721 - val_loss: 147.5362 - val_mae: 11.0024\n",
            "Epoch 11/100\n",
            "430/430 [==============================] - 1s 3ms/step - loss: 168.6402 - mae: 11.3925 - val_loss: 147.3976 - val_mae: 10.8933\n",
            "Epoch 12/100\n",
            "430/430 [==============================] - 1s 3ms/step - loss: 167.0164 - mae: 11.3165 - val_loss: 147.2348 - val_mae: 10.6212\n",
            "Epoch 13/100\n",
            "430/430 [==============================] - 1s 3ms/step - loss: 167.2332 - mae: 11.2935 - val_loss: 146.8248 - val_mae: 10.8340\n",
            "Epoch 14/100\n",
            "430/430 [==============================] - 1s 3ms/step - loss: 168.4405 - mae: 11.3568 - val_loss: 147.0362 - val_mae: 10.6265\n",
            "Epoch 15/100\n",
            "430/430 [==============================] - 1s 3ms/step - loss: 165.6606 - mae: 11.2641 - val_loss: 147.3245 - val_mae: 10.9941\n",
            "Epoch 16/100\n",
            "430/430 [==============================] - 1s 3ms/step - loss: 166.1893 - mae: 11.2891 - val_loss: 146.9913 - val_mae: 10.6437\n",
            "Epoch 17/100\n",
            "430/430 [==============================] - 1s 3ms/step - loss: 167.2812 - mae: 11.3288 - val_loss: 147.0285 - val_mae: 10.6624\n",
            "Epoch 18/100\n",
            "430/430 [==============================] - 1s 3ms/step - loss: 167.7188 - mae: 11.2690 - val_loss: 147.9347 - val_mae: 11.0113\n",
            "Epoch 19/100\n",
            "430/430 [==============================] - 1s 3ms/step - loss: 167.5411 - mae: 11.2508 - val_loss: 148.7963 - val_mae: 11.1317\n",
            "Epoch 20/100\n",
            "430/430 [==============================] - 1s 3ms/step - loss: 168.2419 - mae: 11.3644 - val_loss: 147.1707 - val_mae: 10.8437\n",
            "Epoch 21/100\n",
            "430/430 [==============================] - 1s 3ms/step - loss: 166.8884 - mae: 11.2491 - val_loss: 148.2551 - val_mae: 10.5175\n",
            "Epoch 22/100\n",
            "430/430 [==============================] - 1s 3ms/step - loss: 165.4454 - mae: 11.2713 - val_loss: 148.2217 - val_mae: 10.5421\n",
            "Epoch 23/100\n",
            "430/430 [==============================] - 1s 3ms/step - loss: 167.8302 - mae: 11.3061 - val_loss: 148.1762 - val_mae: 10.9256\n",
            "Epoch 24/100\n",
            "430/430 [==============================] - 1s 3ms/step - loss: 166.8593 - mae: 11.3588 - val_loss: 147.9138 - val_mae: 10.7994\n",
            "Epoch 25/100\n",
            "430/430 [==============================] - 1s 3ms/step - loss: 170.8214 - mae: 11.4367 - val_loss: 148.7922 - val_mae: 10.9931\n",
            "Epoch 26/100\n",
            "430/430 [==============================] - 1s 3ms/step - loss: 167.1019 - mae: 11.3340 - val_loss: 149.6183 - val_mae: 10.4672\n",
            "Epoch 27/100\n",
            "430/430 [==============================] - 1s 3ms/step - loss: 168.5148 - mae: 11.3054 - val_loss: 149.9963 - val_mae: 10.4310\n",
            "Epoch 28/100\n",
            "430/430 [==============================] - 1s 3ms/step - loss: 166.7020 - mae: 11.2767 - val_loss: 148.6142 - val_mae: 10.7017\n",
            "Epoch 29/100\n",
            "430/430 [==============================] - 1s 3ms/step - loss: 166.6775 - mae: 11.3154 - val_loss: 148.5719 - val_mae: 10.8313\n",
            "Epoch 30/100\n",
            "430/430 [==============================] - 1s 3ms/step - loss: 166.0713 - mae: 11.2378 - val_loss: 149.3447 - val_mae: 11.0000\n",
            "Epoch 31/100\n",
            "430/430 [==============================] - 1s 3ms/step - loss: 168.2552 - mae: 11.4583 - val_loss: 151.5012 - val_mae: 10.3085\n",
            "Epoch 32/100\n",
            "430/430 [==============================] - 1s 3ms/step - loss: 167.1841 - mae: 11.2530 - val_loss: 149.1024 - val_mae: 10.9337\n",
            "Epoch 33/100\n",
            "430/430 [==============================] - 1s 3ms/step - loss: 166.6040 - mae: 11.2889 - val_loss: 149.2108 - val_mae: 10.8883\n",
            "Epoch 34/100\n",
            "430/430 [==============================] - 1s 3ms/step - loss: 170.0744 - mae: 11.3457 - val_loss: 149.1821 - val_mae: 10.8197\n",
            "Epoch 35/100\n",
            "430/430 [==============================] - 1s 3ms/step - loss: 166.3518 - mae: 11.2444 - val_loss: 149.2698 - val_mae: 10.7824\n",
            "Epoch 36/100\n",
            "430/430 [==============================] - 1s 3ms/step - loss: 165.7636 - mae: 11.3259 - val_loss: 151.4484 - val_mae: 10.3803\n",
            "Epoch 37/100\n",
            "430/430 [==============================] - 1s 3ms/step - loss: 165.9159 - mae: 11.2045 - val_loss: 149.6065 - val_mae: 10.8858\n",
            "Epoch 38/100\n",
            "430/430 [==============================] - 1s 3ms/step - loss: 167.6001 - mae: 11.3222 - val_loss: 150.4203 - val_mae: 11.0437\n",
            "Epoch 39/100\n",
            "430/430 [==============================] - 1s 3ms/step - loss: 165.3898 - mae: 11.3201 - val_loss: 149.5273 - val_mae: 10.8331\n",
            "Epoch 40/100\n",
            "430/430 [==============================] - 1s 3ms/step - loss: 167.9689 - mae: 11.3451 - val_loss: 149.5946 - val_mae: 10.6894\n",
            "Epoch 41/100\n",
            "430/430 [==============================] - 1s 3ms/step - loss: 168.1307 - mae: 11.3380 - val_loss: 149.5702 - val_mae: 10.7522\n",
            "Epoch 42/100\n",
            "430/430 [==============================] - 1s 3ms/step - loss: 167.5999 - mae: 11.3017 - val_loss: 149.5972 - val_mae: 10.6902\n",
            "Epoch 43/100\n",
            "430/430 [==============================] - 1s 3ms/step - loss: 166.9208 - mae: 11.2629 - val_loss: 149.7338 - val_mae: 10.9051\n",
            "Epoch 44/100\n",
            "430/430 [==============================] - 1s 3ms/step - loss: 169.6303 - mae: 11.4310 - val_loss: 149.7963 - val_mae: 10.6445\n",
            "Epoch 45/100\n",
            "430/430 [==============================] - 2s 4ms/step - loss: 167.9566 - mae: 11.3855 - val_loss: 149.6546 - val_mae: 10.7004\n",
            "Epoch 46/100\n",
            "430/430 [==============================] - 2s 4ms/step - loss: 168.5137 - mae: 11.3867 - val_loss: 151.4532 - val_mae: 10.4009\n",
            "Epoch 47/100\n",
            "430/430 [==============================] - 1s 3ms/step - loss: 167.5228 - mae: 11.2300 - val_loss: 150.2389 - val_mae: 10.9966\n",
            "Epoch 48/100\n",
            "430/430 [==============================] - 1s 3ms/step - loss: 167.0902 - mae: 11.4121 - val_loss: 150.7601 - val_mae: 10.4841\n",
            "Epoch 49/100\n",
            "430/430 [==============================] - 2s 5ms/step - loss: 166.0852 - mae: 11.2181 - val_loss: 149.6701 - val_mae: 10.7294\n",
            "Epoch 50/100\n",
            "430/430 [==============================] - 1s 3ms/step - loss: 164.2467 - mae: 11.2083 - val_loss: 150.5779 - val_mae: 11.0441\n",
            "Epoch 51/100\n",
            "430/430 [==============================] - 1s 3ms/step - loss: 169.1773 - mae: 11.4226 - val_loss: 149.7210 - val_mae: 10.7114\n",
            "Epoch 52/100\n",
            "430/430 [==============================] - 2s 4ms/step - loss: 168.8618 - mae: 11.3954 - val_loss: 150.3560 - val_mae: 10.5509\n",
            "Epoch 53/100\n",
            "430/430 [==============================] - 2s 4ms/step - loss: 168.1117 - mae: 11.2535 - val_loss: 149.6760 - val_mae: 10.8039\n",
            "Epoch 54/100\n",
            "430/430 [==============================] - 1s 3ms/step - loss: 166.7950 - mae: 11.2867 - val_loss: 149.6729 - val_mae: 10.7536\n",
            "Epoch 55/100\n",
            "430/430 [==============================] - 1s 3ms/step - loss: 166.3780 - mae: 11.3297 - val_loss: 149.7239 - val_mae: 10.8466\n",
            "Epoch 56/100\n",
            "430/430 [==============================] - 1s 3ms/step - loss: 168.3647 - mae: 11.3278 - val_loss: 149.8396 - val_mae: 10.8941\n",
            "Epoch 57/100\n",
            "430/430 [==============================] - 1s 3ms/step - loss: 166.6253 - mae: 11.2772 - val_loss: 149.6727 - val_mae: 10.7777\n",
            "Epoch 58/100\n",
            "430/430 [==============================] - 1s 3ms/step - loss: 165.2840 - mae: 11.3077 - val_loss: 149.9026 - val_mae: 10.6456\n",
            "Epoch 59/100\n",
            "430/430 [==============================] - 1s 3ms/step - loss: 168.5822 - mae: 11.3476 - val_loss: 149.7709 - val_mae: 10.8676\n",
            "Epoch 60/100\n",
            "430/430 [==============================] - 1s 3ms/step - loss: 166.9115 - mae: 11.2961 - val_loss: 151.1179 - val_mae: 11.1100\n",
            "Epoch 61/100\n",
            "430/430 [==============================] - 1s 3ms/step - loss: 166.5086 - mae: 11.3421 - val_loss: 149.7286 - val_mae: 10.7179\n",
            "Epoch 62/100\n",
            "430/430 [==============================] - 1s 3ms/step - loss: 167.6009 - mae: 11.2650 - val_loss: 150.5009 - val_mae: 11.0288\n",
            "Epoch 63/100\n",
            "430/430 [==============================] - 1s 3ms/step - loss: 167.1385 - mae: 11.2590 - val_loss: 150.2191 - val_mae: 10.9808\n",
            "Epoch 64/100\n",
            "430/430 [==============================] - 2s 4ms/step - loss: 164.3446 - mae: 11.2601 - val_loss: 150.7954 - val_mae: 10.4891\n",
            "Epoch 65/100\n",
            "430/430 [==============================] - 2s 4ms/step - loss: 166.9079 - mae: 11.2747 - val_loss: 149.7334 - val_mae: 10.7223\n",
            "Epoch 66/100\n",
            "430/430 [==============================] - 1s 3ms/step - loss: 166.0912 - mae: 11.3384 - val_loss: 154.1141 - val_mae: 10.2105\n",
            "Epoch 67/100\n",
            "430/430 [==============================] - 2s 4ms/step - loss: 170.1316 - mae: 11.3623 - val_loss: 149.7204 - val_mae: 10.7277\n",
            "Epoch 68/100\n",
            "430/430 [==============================] - 1s 3ms/step - loss: 168.5928 - mae: 11.3173 - val_loss: 149.9776 - val_mae: 10.9262\n",
            "Epoch 69/100\n",
            "430/430 [==============================] - 1s 3ms/step - loss: 170.9262 - mae: 11.4438 - val_loss: 149.7015 - val_mae: 10.8040\n",
            "Epoch 70/100\n",
            "430/430 [==============================] - 1s 3ms/step - loss: 166.6301 - mae: 11.2360 - val_loss: 149.7178 - val_mae: 10.7186\n",
            "Epoch 71/100\n",
            "430/430 [==============================] - 1s 3ms/step - loss: 170.2045 - mae: 11.3990 - val_loss: 149.7902 - val_mae: 10.6904\n",
            "Epoch 72/100\n",
            "430/430 [==============================] - 1s 3ms/step - loss: 168.2086 - mae: 11.3391 - val_loss: 150.2196 - val_mae: 10.5776\n",
            "Epoch 73/100\n",
            "430/430 [==============================] - 1s 3ms/step - loss: 170.1093 - mae: 11.3734 - val_loss: 149.7010 - val_mae: 10.8094\n",
            "Epoch 74/100\n",
            "430/430 [==============================] - 1s 3ms/step - loss: 166.5054 - mae: 11.2160 - val_loss: 149.7686 - val_mae: 10.8535\n",
            "Epoch 75/100\n",
            "430/430 [==============================] - 1s 3ms/step - loss: 166.8355 - mae: 11.3081 - val_loss: 149.6936 - val_mae: 10.7849\n",
            "Epoch 76/100\n",
            "430/430 [==============================] - 1s 3ms/step - loss: 166.6316 - mae: 11.2340 - val_loss: 152.4309 - val_mae: 10.3297\n",
            "Epoch 77/100\n",
            "430/430 [==============================] - 1s 3ms/step - loss: 168.1214 - mae: 11.2823 - val_loss: 149.8103 - val_mae: 10.6856\n",
            "Epoch 78/100\n",
            "430/430 [==============================] - 2s 4ms/step - loss: 168.6470 - mae: 11.2764 - val_loss: 152.0516 - val_mae: 11.2025\n",
            "Epoch 79/100\n",
            "430/430 [==============================] - 2s 4ms/step - loss: 164.7362 - mae: 11.2376 - val_loss: 150.1993 - val_mae: 10.9743\n",
            "Epoch 80/100\n",
            "430/430 [==============================] - 2s 4ms/step - loss: 167.9067 - mae: 11.4138 - val_loss: 149.7196 - val_mae: 10.7409\n",
            "Epoch 81/100\n",
            "430/430 [==============================] - 2s 4ms/step - loss: 166.5418 - mae: 11.3316 - val_loss: 152.3029 - val_mae: 10.3404\n",
            "Epoch 82/100\n",
            "430/430 [==============================] - 1s 3ms/step - loss: 167.3067 - mae: 11.2358 - val_loss: 150.4626 - val_mae: 10.5385\n",
            "Epoch 83/100\n",
            "430/430 [==============================] - 1s 3ms/step - loss: 165.8779 - mae: 11.1649 - val_loss: 150.5112 - val_mae: 11.0275\n",
            "Epoch 84/100\n",
            "430/430 [==============================] - 2s 4ms/step - loss: 168.4622 - mae: 11.4357 - val_loss: 149.7023 - val_mae: 10.7852\n",
            "Epoch 85/100\n",
            "430/430 [==============================] - 1s 3ms/step - loss: 166.2431 - mae: 11.3180 - val_loss: 151.5638 - val_mae: 10.4065\n",
            "Epoch 86/100\n",
            "430/430 [==============================] - 1s 3ms/step - loss: 166.8961 - mae: 11.3384 - val_loss: 149.7199 - val_mae: 10.8096\n",
            "Epoch 87/100\n",
            "430/430 [==============================] - 1s 3ms/step - loss: 165.9448 - mae: 11.2900 - val_loss: 149.7229 - val_mae: 10.8117\n",
            "Epoch 88/100\n",
            "430/430 [==============================] - 1s 3ms/step - loss: 168.2539 - mae: 11.3567 - val_loss: 149.8380 - val_mae: 10.8763\n",
            "Epoch 89/100\n",
            "430/430 [==============================] - 1s 3ms/step - loss: 168.6113 - mae: 11.3636 - val_loss: 149.8274 - val_mae: 10.6888\n",
            "Epoch 90/100\n",
            "430/430 [==============================] - 1s 3ms/step - loss: 167.8971 - mae: 11.3754 - val_loss: 149.7780 - val_mae: 10.7121\n",
            "Epoch 91/100\n",
            "430/430 [==============================] - 1s 3ms/step - loss: 165.0331 - mae: 11.2259 - val_loss: 150.3557 - val_mae: 11.0000\n",
            "Epoch 92/100\n",
            "430/430 [==============================] - 1s 3ms/step - loss: 169.3886 - mae: 11.4025 - val_loss: 149.7808 - val_mae: 10.8491\n",
            "Epoch 93/100\n",
            "430/430 [==============================] - 1s 3ms/step - loss: 167.8002 - mae: 11.2904 - val_loss: 150.3833 - val_mae: 11.0046\n",
            "Epoch 94/100\n",
            "430/430 [==============================] - 1s 3ms/step - loss: 168.0548 - mae: 11.2825 - val_loss: 151.1472 - val_mae: 11.1091\n",
            "Epoch 95/100\n",
            "430/430 [==============================] - 1s 3ms/step - loss: 165.5252 - mae: 11.3540 - val_loss: 152.8542 - val_mae: 10.2989\n",
            "Epoch 96/100\n",
            "430/430 [==============================] - 1s 3ms/step - loss: 168.3419 - mae: 11.2330 - val_loss: 149.7240 - val_mae: 10.7921\n",
            "Epoch 97/100\n",
            "430/430 [==============================] - 2s 4ms/step - loss: 167.5925 - mae: 11.2822 - val_loss: 149.8600 - val_mae: 10.8814\n",
            "Epoch 98/100\n",
            "430/430 [==============================] - 1s 3ms/step - loss: 169.1142 - mae: 11.4044 - val_loss: 151.7491 - val_mae: 10.3911\n",
            "Epoch 99/100\n",
            "430/430 [==============================] - 1s 3ms/step - loss: 167.1213 - mae: 11.2077 - val_loss: 150.2131 - val_mae: 10.5871\n",
            "Epoch 100/100\n",
            "430/430 [==============================] - 1s 3ms/step - loss: 166.6067 - mae: 11.2208 - val_loss: 150.0654 - val_mae: 10.9403\n"
          ]
        }
      ]
    },
    {
      "cell_type": "code",
      "source": [
        "test_pred = model.predict(X_test)\n",
        "train_pred = model.predict(X_train)\n",
        "print(\"ANN2\")\n",
        "print('---------------------------------')\n",
        "print('Test set evaluation:\\n_____________________________________')\n",
        "print_evaluate(y_test, test_pred)\n",
        "\n",
        "print('Train set evaluation:\\n_____________________________________')\n",
        "print_evaluate(y_train, train_pred)\n",
        "\n",
        "results_df_2 = pd.DataFrame(data=[[\"Artficial Neural Network2\", *evaluate(y_test, test_pred), 0]], \n",
        "                            columns=['Model', 'MAE', 'MSE', 'RMSE', 'R2 Square', 'Cross Validation'])\n",
        "results_df = results_df.append(results_df_2, ignore_index=True)"
      ],
      "metadata": {
        "id": "OFPlV0vDtXLW",
        "colab": {
          "base_uri": "https://localhost:8080/"
        },
        "outputId": "771e344d-3465-4926-f2b1-5a03139b4bbf"
      },
      "execution_count": null,
      "outputs": [
        {
          "output_type": "stream",
          "name": "stdout",
          "text": [
            "ANN2\n",
            "---------------------------------\n",
            "Test set evaluation:\n",
            "_____________________________________\n",
            "MAE: 10.940315494021855\n",
            "MSE: 150.06531699294652\n",
            "RMSE: 12.250114978764342\n",
            "R2 Square -0.002285978423195223\n",
            "__________________________________\n",
            "Train set evaluation:\n",
            "_____________________________________\n",
            "MAE: 11.398956990796465\n",
            "MSE: 165.10333621151932\n",
            "RMSE: 12.849254305659894\n",
            "R2 Square -0.0019361436358653616\n",
            "__________________________________\n"
          ]
        }
      ]
    },
    {
      "cell_type": "code",
      "source": [
        "results_df"
      ],
      "metadata": {
        "id": "PnnycEKOucva",
        "colab": {
          "base_uri": "https://localhost:8080/",
          "height": 394
        },
        "outputId": "3b6767ff-df72-46d2-fe08-46086d116ee2"
      },
      "execution_count": null,
      "outputs": [
        {
          "output_type": "execute_result",
          "data": {
            "text/plain": [
              "                          Model        MAE         MSE       RMSE  R2 Square  \\\n",
              "0             Linear Regression   8.300234   90.336899   9.504573   0.396640   \n",
              "1             Robust Regression  10.082309  296.479681  17.218585  -0.980187   \n",
              "2              Ridge Regression   8.803736   96.298680   9.813189   0.356821   \n",
              "3              Lasso Regression  10.892963  144.069502  12.002896   0.037760   \n",
              "4        Elastic Net Regression   8.402193   91.357270   9.558100   0.389825   \n",
              "5         Polynomail Regression   3.970723   26.969561   5.193223   0.819870   \n",
              "6   Stochastic Gradient Descent   8.361519   91.900330   9.586466   0.386198   \n",
              "7       Random Forest Regressor   0.127811    0.693454   0.832739   0.995368   \n",
              "8                 SVM Regressor   0.636641    3.011324   1.735317   0.979887   \n",
              "9     Artficial Neural Network1   5.659764   66.870532   8.177440   0.553372   \n",
              "10    Artficial Neural Network2  10.940315  150.065317  12.250115  -0.002286   \n",
              "\n",
              "    Cross Validation  \n",
              "0        -213.620414  \n",
              "1        -318.809609  \n",
              "2        -213.587405  \n",
              "3        -204.850350  \n",
              "4        -202.301352  \n",
              "5           0.000000  \n",
              "6           0.000000  \n",
              "7           0.000000  \n",
              "8           0.000000  \n",
              "9           0.000000  \n",
              "10          0.000000  "
            ],
            "text/html": [
              "\n",
              "  <div id=\"df-c256c1d0-643f-4ddc-9113-ce29821ed1d0\">\n",
              "    <div class=\"colab-df-container\">\n",
              "      <div>\n",
              "<style scoped>\n",
              "    .dataframe tbody tr th:only-of-type {\n",
              "        vertical-align: middle;\n",
              "    }\n",
              "\n",
              "    .dataframe tbody tr th {\n",
              "        vertical-align: top;\n",
              "    }\n",
              "\n",
              "    .dataframe thead th {\n",
              "        text-align: right;\n",
              "    }\n",
              "</style>\n",
              "<table border=\"1\" class=\"dataframe\">\n",
              "  <thead>\n",
              "    <tr style=\"text-align: right;\">\n",
              "      <th></th>\n",
              "      <th>Model</th>\n",
              "      <th>MAE</th>\n",
              "      <th>MSE</th>\n",
              "      <th>RMSE</th>\n",
              "      <th>R2 Square</th>\n",
              "      <th>Cross Validation</th>\n",
              "    </tr>\n",
              "  </thead>\n",
              "  <tbody>\n",
              "    <tr>\n",
              "      <th>0</th>\n",
              "      <td>Linear Regression</td>\n",
              "      <td>8.300234</td>\n",
              "      <td>90.336899</td>\n",
              "      <td>9.504573</td>\n",
              "      <td>0.396640</td>\n",
              "      <td>-213.620414</td>\n",
              "    </tr>\n",
              "    <tr>\n",
              "      <th>1</th>\n",
              "      <td>Robust Regression</td>\n",
              "      <td>10.082309</td>\n",
              "      <td>296.479681</td>\n",
              "      <td>17.218585</td>\n",
              "      <td>-0.980187</td>\n",
              "      <td>-318.809609</td>\n",
              "    </tr>\n",
              "    <tr>\n",
              "      <th>2</th>\n",
              "      <td>Ridge Regression</td>\n",
              "      <td>8.803736</td>\n",
              "      <td>96.298680</td>\n",
              "      <td>9.813189</td>\n",
              "      <td>0.356821</td>\n",
              "      <td>-213.587405</td>\n",
              "    </tr>\n",
              "    <tr>\n",
              "      <th>3</th>\n",
              "      <td>Lasso Regression</td>\n",
              "      <td>10.892963</td>\n",
              "      <td>144.069502</td>\n",
              "      <td>12.002896</td>\n",
              "      <td>0.037760</td>\n",
              "      <td>-204.850350</td>\n",
              "    </tr>\n",
              "    <tr>\n",
              "      <th>4</th>\n",
              "      <td>Elastic Net Regression</td>\n",
              "      <td>8.402193</td>\n",
              "      <td>91.357270</td>\n",
              "      <td>9.558100</td>\n",
              "      <td>0.389825</td>\n",
              "      <td>-202.301352</td>\n",
              "    </tr>\n",
              "    <tr>\n",
              "      <th>5</th>\n",
              "      <td>Polynomail Regression</td>\n",
              "      <td>3.970723</td>\n",
              "      <td>26.969561</td>\n",
              "      <td>5.193223</td>\n",
              "      <td>0.819870</td>\n",
              "      <td>0.000000</td>\n",
              "    </tr>\n",
              "    <tr>\n",
              "      <th>6</th>\n",
              "      <td>Stochastic Gradient Descent</td>\n",
              "      <td>8.361519</td>\n",
              "      <td>91.900330</td>\n",
              "      <td>9.586466</td>\n",
              "      <td>0.386198</td>\n",
              "      <td>0.000000</td>\n",
              "    </tr>\n",
              "    <tr>\n",
              "      <th>7</th>\n",
              "      <td>Random Forest Regressor</td>\n",
              "      <td>0.127811</td>\n",
              "      <td>0.693454</td>\n",
              "      <td>0.832739</td>\n",
              "      <td>0.995368</td>\n",
              "      <td>0.000000</td>\n",
              "    </tr>\n",
              "    <tr>\n",
              "      <th>8</th>\n",
              "      <td>SVM Regressor</td>\n",
              "      <td>0.636641</td>\n",
              "      <td>3.011324</td>\n",
              "      <td>1.735317</td>\n",
              "      <td>0.979887</td>\n",
              "      <td>0.000000</td>\n",
              "    </tr>\n",
              "    <tr>\n",
              "      <th>9</th>\n",
              "      <td>Artficial Neural Network1</td>\n",
              "      <td>5.659764</td>\n",
              "      <td>66.870532</td>\n",
              "      <td>8.177440</td>\n",
              "      <td>0.553372</td>\n",
              "      <td>0.000000</td>\n",
              "    </tr>\n",
              "    <tr>\n",
              "      <th>10</th>\n",
              "      <td>Artficial Neural Network2</td>\n",
              "      <td>10.940315</td>\n",
              "      <td>150.065317</td>\n",
              "      <td>12.250115</td>\n",
              "      <td>-0.002286</td>\n",
              "      <td>0.000000</td>\n",
              "    </tr>\n",
              "  </tbody>\n",
              "</table>\n",
              "</div>\n",
              "      <button class=\"colab-df-convert\" onclick=\"convertToInteractive('df-c256c1d0-643f-4ddc-9113-ce29821ed1d0')\"\n",
              "              title=\"Convert this dataframe to an interactive table.\"\n",
              "              style=\"display:none;\">\n",
              "        \n",
              "  <svg xmlns=\"http://www.w3.org/2000/svg\" height=\"24px\"viewBox=\"0 0 24 24\"\n",
              "       width=\"24px\">\n",
              "    <path d=\"M0 0h24v24H0V0z\" fill=\"none\"/>\n",
              "    <path d=\"M18.56 5.44l.94 2.06.94-2.06 2.06-.94-2.06-.94-.94-2.06-.94 2.06-2.06.94zm-11 1L8.5 8.5l.94-2.06 2.06-.94-2.06-.94L8.5 2.5l-.94 2.06-2.06.94zm10 10l.94 2.06.94-2.06 2.06-.94-2.06-.94-.94-2.06-.94 2.06-2.06.94z\"/><path d=\"M17.41 7.96l-1.37-1.37c-.4-.4-.92-.59-1.43-.59-.52 0-1.04.2-1.43.59L10.3 9.45l-7.72 7.72c-.78.78-.78 2.05 0 2.83L4 21.41c.39.39.9.59 1.41.59.51 0 1.02-.2 1.41-.59l7.78-7.78 2.81-2.81c.8-.78.8-2.07 0-2.86zM5.41 20L4 18.59l7.72-7.72 1.47 1.35L5.41 20z\"/>\n",
              "  </svg>\n",
              "      </button>\n",
              "      \n",
              "  <style>\n",
              "    .colab-df-container {\n",
              "      display:flex;\n",
              "      flex-wrap:wrap;\n",
              "      gap: 12px;\n",
              "    }\n",
              "\n",
              "    .colab-df-convert {\n",
              "      background-color: #E8F0FE;\n",
              "      border: none;\n",
              "      border-radius: 50%;\n",
              "      cursor: pointer;\n",
              "      display: none;\n",
              "      fill: #1967D2;\n",
              "      height: 32px;\n",
              "      padding: 0 0 0 0;\n",
              "      width: 32px;\n",
              "    }\n",
              "\n",
              "    .colab-df-convert:hover {\n",
              "      background-color: #E2EBFA;\n",
              "      box-shadow: 0px 1px 2px rgba(60, 64, 67, 0.3), 0px 1px 3px 1px rgba(60, 64, 67, 0.15);\n",
              "      fill: #174EA6;\n",
              "    }\n",
              "\n",
              "    [theme=dark] .colab-df-convert {\n",
              "      background-color: #3B4455;\n",
              "      fill: #D2E3FC;\n",
              "    }\n",
              "\n",
              "    [theme=dark] .colab-df-convert:hover {\n",
              "      background-color: #434B5C;\n",
              "      box-shadow: 0px 1px 3px 1px rgba(0, 0, 0, 0.15);\n",
              "      filter: drop-shadow(0px 1px 2px rgba(0, 0, 0, 0.3));\n",
              "      fill: #FFFFFF;\n",
              "    }\n",
              "  </style>\n",
              "\n",
              "      <script>\n",
              "        const buttonEl =\n",
              "          document.querySelector('#df-c256c1d0-643f-4ddc-9113-ce29821ed1d0 button.colab-df-convert');\n",
              "        buttonEl.style.display =\n",
              "          google.colab.kernel.accessAllowed ? 'block' : 'none';\n",
              "\n",
              "        async function convertToInteractive(key) {\n",
              "          const element = document.querySelector('#df-c256c1d0-643f-4ddc-9113-ce29821ed1d0');\n",
              "          const dataTable =\n",
              "            await google.colab.kernel.invokeFunction('convertToInteractive',\n",
              "                                                     [key], {});\n",
              "          if (!dataTable) return;\n",
              "\n",
              "          const docLinkHtml = 'Like what you see? Visit the ' +\n",
              "            '<a target=\"_blank\" href=https://colab.research.google.com/notebooks/data_table.ipynb>data table notebook</a>'\n",
              "            + ' to learn more about interactive tables.';\n",
              "          element.innerHTML = '';\n",
              "          dataTable['output_type'] = 'display_data';\n",
              "          await google.colab.output.renderOutput(dataTable, element);\n",
              "          const docLink = document.createElement('div');\n",
              "          docLink.innerHTML = docLinkHtml;\n",
              "          element.appendChild(docLink);\n",
              "        }\n",
              "      </script>\n",
              "    </div>\n",
              "  </div>\n",
              "  "
            ]
          },
          "metadata": {},
          "execution_count": 38
        }
      ]
    },
    {
      "cell_type": "code",
      "source": [
        "pd.DataFrame.from_dict(results_df).to_csv('results_shaim.csv',index=False)"
      ],
      "metadata": {
        "id": "DuF5KEZdu_XA"
      },
      "execution_count": null,
      "outputs": []
    },
    {
      "cell_type": "code",
      "source": [],
      "metadata": {
        "id": "9Ez0HbSCvrmZ"
      },
      "execution_count": null,
      "outputs": []
    },
    {
      "cell_type": "code",
      "source": [
        "test_pred = svm_reg.predict(X_test)\n",
        "sns.regplot(test_pred,y_test,ci=None)\n",
        "#plt.plot(test_pred,y_test)\n",
        "plt.title(\"SVR Test\")\n",
        "plt.xlabel('Prediction')\n",
        "plt.ylabel('Actual')"
      ],
      "metadata": {
        "id": "NLMp6GNmvGLo",
        "colab": {
          "base_uri": "https://localhost:8080/",
          "height": 369
        },
        "outputId": "bb7e9ec9-88e4-4b72-b5c4-cb629a1edb3b"
      },
      "execution_count": null,
      "outputs": [
        {
          "output_type": "stream",
          "name": "stderr",
          "text": [
            "/usr/local/lib/python3.7/dist-packages/seaborn/_decorators.py:43: FutureWarning: Pass the following variables as keyword args: x, y. From version 0.12, the only valid positional argument will be `data`, and passing other arguments without an explicit keyword will result in an error or misinterpretation.\n",
            "  FutureWarning\n"
          ]
        },
        {
          "output_type": "execute_result",
          "data": {
            "text/plain": [
              "Text(0, 0.5, 'Actual')"
            ]
          },
          "metadata": {},
          "execution_count": 40
        },
        {
          "output_type": "display_data",
          "data": {
            "text/plain": [
              "<Figure size 432x288 with 1 Axes>"
            ],
            "image/png": "[encoded data removed]"
          },
          "metadata": {
            "needs_background": "light"
          }
        }
      ]
    },
    {
      "cell_type": "code",
      "source": [
        "test_pred = svm_reg.predict(X_train)\n",
        "sns.regplot(test_pred,y_train,ci=None)\n",
        "#plt.plot(test_pred,y_test)\n",
        "plt.title(\"SVR Train\")\n",
        "plt.xlabel('Prediction')\n",
        "plt.ylabel('Actual')"
      ],
      "metadata": {
        "id": "Gt2PcQd8y9YR",
        "colab": {
          "base_uri": "https://localhost:8080/",
          "height": 369
        },
        "outputId": "e502c8cc-9c89-4600-a906-9c7b2bc4023e"
      },
      "execution_count": null,
      "outputs": [
        {
          "output_type": "stream",
          "name": "stderr",
          "text": [
            "/usr/local/lib/python3.7/dist-packages/seaborn/_decorators.py:43: FutureWarning: Pass the following variables as keyword args: x, y. From version 0.12, the only valid positional argument will be `data`, and passing other arguments without an explicit keyword will result in an error or misinterpretation.\n",
            "  FutureWarning\n"
          ]
        },
        {
          "output_type": "execute_result",
          "data": {
            "text/plain": [
              "Text(0, 0.5, 'Actual')"
            ]
          },
          "metadata": {},
          "execution_count": 41
        },
        {
          "output_type": "display_data",
          "data": {
            "text/plain": [
              "<Figure size 432x288 with 1 Axes>"
            ],
            "image/png": "[encoded data removed]"
          },
          "metadata": {
            "needs_background": "light"
          }
        }
      ]
    },
    {
      "cell_type": "code",
      "source": [
        "test_pred = rf_reg.predict(X_test)\n",
        "sns.regplot(test_pred,y_test,ci=None)\n",
        "#plt.plot(test_pred,y_test)\n",
        "plt.title(\"RF Test\")\n",
        "plt.xlabel('Prediction')\n",
        "plt.ylabel('Actual')"
      ],
      "metadata": {
        "id": "IPDrgtjTw6Dz",
        "colab": {
          "base_uri": "https://localhost:8080/",
          "height": 369
        },
        "outputId": "31896523-be30-44b0-e57c-b8b49dd9e618"
      },
      "execution_count": null,
      "outputs": [
        {
          "output_type": "stream",
          "name": "stderr",
          "text": [
            "/usr/local/lib/python3.7/dist-packages/seaborn/_decorators.py:43: FutureWarning: Pass the following variables as keyword args: x, y. From version 0.12, the only valid positional argument will be `data`, and passing other arguments without an explicit keyword will result in an error or misinterpretation.\n",
            "  FutureWarning\n"
          ]
        },
        {
          "output_type": "execute_result",
          "data": {
            "text/plain": [
              "Text(0, 0.5, 'Actual')"
            ]
          },
          "metadata": {},
          "execution_count": 42
        },
        {
          "output_type": "display_data",
          "data": {
            "text/plain": [
              "<Figure size 432x288 with 1 Axes>"
            ],
            "image/png": "[encoded data removed]"
          },
          "metadata": {
            "needs_background": "light"
          }
        }
      ]
    },
    {
      "cell_type": "code",
      "source": [
        "test_pred = rf_reg.predict(X_train)\n",
        "sns.regplot(test_pred,y_train,ci=None)\n",
        "#plt.plot(test_pred,y_test)\n",
        "plt.title(\"RF Train\")\n",
        "plt.xlabel('Prediction')\n",
        "plt.ylabel('Actual')"
      ],
      "metadata": {
        "id": "kQMJ0ZEszHdL",
        "colab": {
          "base_uri": "https://localhost:8080/",
          "height": 369
        },
        "outputId": "767466f0-701c-479c-a20b-4f3d06a7f7a8"
      },
      "execution_count": null,
      "outputs": [
        {
          "output_type": "stream",
          "name": "stderr",
          "text": [
            "/usr/local/lib/python3.7/dist-packages/seaborn/_decorators.py:43: FutureWarning: Pass the following variables as keyword args: x, y. From version 0.12, the only valid positional argument will be `data`, and passing other arguments without an explicit keyword will result in an error or misinterpretation.\n",
            "  FutureWarning\n"
          ]
        },
        {
          "output_type": "execute_result",
          "data": {
            "text/plain": [
              "Text(0, 0.5, 'Actual')"
            ]
          },
          "metadata": {},
          "execution_count": 43
        },
        {
          "output_type": "display_data",
          "data": {
            "text/plain": [
              "<Figure size 432x288 with 1 Axes>"
            ],
            "image/png": "[encoded data removed]"
          },
          "metadata": {
            "needs_background": "light"
          }
        }
      ]
    },
    {
      "cell_type": "code",
      "source": [],
      "metadata": {
        "id": "LA1iqY6nzO2J"
      },
      "execution_count": null,
      "outputs": []
    }
  ]
}