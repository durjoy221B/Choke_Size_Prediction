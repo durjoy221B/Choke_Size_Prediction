{
  "nbformat": 4,
  "nbformat_minor": 0,
  "metadata": {
    "colab": {
      "provenance": [],
      "include_colab_link": true
    },
    "kernelspec": {
      "name": "python3",
      "display_name": "Python 3"
    },
    "language_info": {
      "name": "python"
    }
  },
  "cells": [
    {
      "cell_type": "markdown",
      "metadata": {
        "id": "view-in-github",
        "colab_type": "text"
      },
      "source": [
        "<a href=\"https://colab.research.google.com/github/1o-o1/Choke-size-prediction/blob/main/chokev4.ipynb\" target=\"_parent\"><img src=\"https://colab.research.google.com/assets/colab-badge.svg\" alt=\"Open In Colab\"/></a>"
      ]
    },
    {
      "cell_type": "code",
      "execution_count": null,
      "metadata": {
        "id": "4RiAYvpk0AJa"
      },
      "outputs": [],
      "source": [
        "import pandas as pd\n",
        "import seaborn as sns\n",
        "import matplotlib.pyplot as plt\n",
        "import numpy as np"
      ]
    },
    {
      "cell_type": "code",
      "source": [
        "# Google Drive Mount\n",
        "from google.colab import drive\n",
        "drive.mount('/content/drive')\n",
        "\n",
        "%cd /content/drive/MyDrive/Colab Notebooks/\n",
        "%ls"
      ],
      "metadata": {
        "id": "7sTgCDMj0jIR",
        "colab": {
          "base_uri": "https://localhost:8080/"
        },
        "outputId": "bde18a13-797f-4801-df8b-bb2edef1b1df"
      },
      "execution_count": null,
      "outputs": [
        {
          "output_type": "stream",
          "name": "stdout",
          "text": [
            "Mounted at /content/drive\n",
            "/content/drive/MyDrive/Colab Notebooks\n",
            " 000009.jpg\n",
            " Accuracy.ipynb\n",
            " Accuracy.png\n",
            "'attention nusaiba.ipynb'\n",
            "'attention RawData.ipynb'\n",
            " \u001b[0m\u001b[01;34mcatdog\u001b[0m/\n",
            " Catdog1F1.png\n",
            " Catdog1loss.png\n",
            " catdogmodel.h5\n",
            " catdogt1.ipynb\n",
            "\u001b[01;36m'Colab Notebooks'\u001b[0m@\n",
            "'Copy of catdogt1.ipynb'\n",
            "'Copy of deduplication Final.ipynb'\n",
            "'Copy of image_classification_part1.ipynb'\n",
            "'Copy of Machine Learning Engineer | Sabbir.ipynb'\n",
            " datachoke.csv\n",
            " datapreproc.ipynb\n",
            " dedupli2.pdf\n",
            "'deduplication Final.ipynb'\n",
            "'Deduplication in Redundant Server.ipynb'\n",
            " deduplication.ipynb\n",
            " \u001b[01;34mdup\u001b[0m/\n",
            " F1Score.ipynb\n",
            " F1Score.png\n",
            "'Final Results - f1.csv'\n",
            "'Final Results - Sheet2.csv'\n",
            " heart.ipynb\n",
            " \u001b[01;34mhorse\u001b[0m/\n",
            " image.png\n",
            " img2.PNG\n",
            " img3.PNG\n",
            " Inpainting.ipynb\n",
            "'Machine Learning Engineer | Sabbir.ipynb'\n",
            " MC.ipynb\n",
            "'No PreProc Seq3CNN.ipynb'\n",
            " ocr2.ipynb\n",
            " ocr.ipynb\n",
            "'Predict Efficient.ipynb'\n",
            " Resultgen2.csv\n",
            " Resultgen3.csv\n",
            " Resultgen.csv\n",
            " Resultgen.gsheet\n",
            " results_40.csv\n",
            " results.csv\n",
            " results_shaim.csv\n",
            "'selfcite (1).ipynb'\n",
            " selfcite.ipynb\n",
            " Seq3CNN.ipynb\n",
            " shaim-chokev2.ipynb\n",
            " shaim-chokev3.ipynb\n",
            " shaim-chokev4.ipynb\n",
            " Shaim.ipynb\n",
            " Untitled\n",
            " Untitled0.ipynb\n",
            " Untitled1.ipynb\n",
            " \u001b[01;34mvolvo\u001b[0m/\n"
          ]
        }
      ]
    },
    {
      "cell_type": "code",
      "source": [
        "df=pd.read_csv('datachoke.csv')"
      ],
      "metadata": {
        "id": "dUJLuwnOgmb6"
      },
      "execution_count": null,
      "outputs": []
    },
    {
      "cell_type": "code",
      "source": [
        "df.head()"
      ],
      "metadata": {
        "id": "IpMxpFbYg53p",
        "colab": {
          "base_uri": "https://localhost:8080/",
          "height": 206
        },
        "outputId": "3d6e5a0d-950e-44e3-d03e-00155db22d5e"
      },
      "execution_count": null,
      "outputs": [
        {
          "output_type": "execute_result",
          "data": {
            "text/plain": [
              "  Pressure U/S of Choke  Choke  Pressure D/S of Choke  Gas Rate  \\\n",
              "0                 2,175   47.0                 1028.2     43.16   \n",
              "1                 2,171   47.0                 1027.6     43.05   \n",
              "2                 2,169   47.0                 1026.9     43.02   \n",
              "3                 2,167   47.0                 1026.9     43.01   \n",
              "4                 2,166   47.0                 1024.9     42.98   \n",
              "\n",
              "   Condensate Rate  Water Rate  \n",
              "0            44.95       24.71  \n",
              "1            42.54       27.96  \n",
              "2            45.77       24.70  \n",
              "3            43.08       25.71  \n",
              "4            43.57       25.67  "
            ],
            "text/html": [
              "\n",
              "  <div id=\"df-5801736b-31d4-47f7-8ae4-e5b86b0e18c8\">\n",
              "    <div class=\"colab-df-container\">\n",
              "      <div>\n",
              "<style scoped>\n",
              "    .dataframe tbody tr th:only-of-type {\n",
              "        vertical-align: middle;\n",
              "    }\n",
              "\n",
              "    .dataframe tbody tr th {\n",
              "        vertical-align: top;\n",
              "    }\n",
              "\n",
              "    .dataframe thead th {\n",
              "        text-align: right;\n",
              "    }\n",
              "</style>\n",
              "<table border=\"1\" class=\"dataframe\">\n",
              "  <thead>\n",
              "    <tr style=\"text-align: right;\">\n",
              "      <th></th>\n",
              "      <th>Pressure U/S of Choke</th>\n",
              "      <th>Choke</th>\n",
              "      <th>Pressure D/S of Choke</th>\n",
              "      <th>Gas Rate</th>\n",
              "      <th>Condensate Rate</th>\n",
              "      <th>Water Rate</th>\n",
              "    </tr>\n",
              "  </thead>\n",
              "  <tbody>\n",
              "    <tr>\n",
              "      <th>0</th>\n",
              "      <td>2,175</td>\n",
              "      <td>47.0</td>\n",
              "      <td>1028.2</td>\n",
              "      <td>43.16</td>\n",
              "      <td>44.95</td>\n",
              "      <td>24.71</td>\n",
              "    </tr>\n",
              "    <tr>\n",
              "      <th>1</th>\n",
              "      <td>2,171</td>\n",
              "      <td>47.0</td>\n",
              "      <td>1027.6</td>\n",
              "      <td>43.05</td>\n",
              "      <td>42.54</td>\n",
              "      <td>27.96</td>\n",
              "    </tr>\n",
              "    <tr>\n",
              "      <th>2</th>\n",
              "      <td>2,169</td>\n",
              "      <td>47.0</td>\n",
              "      <td>1026.9</td>\n",
              "      <td>43.02</td>\n",
              "      <td>45.77</td>\n",
              "      <td>24.70</td>\n",
              "    </tr>\n",
              "    <tr>\n",
              "      <th>3</th>\n",
              "      <td>2,167</td>\n",
              "      <td>47.0</td>\n",
              "      <td>1026.9</td>\n",
              "      <td>43.01</td>\n",
              "      <td>43.08</td>\n",
              "      <td>25.71</td>\n",
              "    </tr>\n",
              "    <tr>\n",
              "      <th>4</th>\n",
              "      <td>2,166</td>\n",
              "      <td>47.0</td>\n",
              "      <td>1024.9</td>\n",
              "      <td>42.98</td>\n",
              "      <td>43.57</td>\n",
              "      <td>25.67</td>\n",
              "    </tr>\n",
              "  </tbody>\n",
              "</table>\n",
              "</div>\n",
              "      <button class=\"colab-df-convert\" onclick=\"convertToInteractive('df-5801736b-31d4-47f7-8ae4-e5b86b0e18c8')\"\n",
              "              title=\"Convert this dataframe to an interactive table.\"\n",
              "              style=\"display:none;\">\n",
              "        \n",
              "  <svg xmlns=\"http://www.w3.org/2000/svg\" height=\"24px\"viewBox=\"0 0 24 24\"\n",
              "       width=\"24px\">\n",
              "    <path d=\"M0 0h24v24H0V0z\" fill=\"none\"/>\n",
              "    <path d=\"M18.56 5.44l.94 2.06.94-2.06 2.06-.94-2.06-.94-.94-2.06-.94 2.06-2.06.94zm-11 1L8.5 8.5l.94-2.06 2.06-.94-2.06-.94L8.5 2.5l-.94 2.06-2.06.94zm10 10l.94 2.06.94-2.06 2.06-.94-2.06-.94-.94-2.06-.94 2.06-2.06.94z\"/><path d=\"M17.41 7.96l-1.37-1.37c-.4-.4-.92-.59-1.43-.59-.52 0-1.04.2-1.43.59L10.3 9.45l-7.72 7.72c-.78.78-.78 2.05 0 2.83L4 21.41c.39.39.9.59 1.41.59.51 0 1.02-.2 1.41-.59l7.78-7.78 2.81-2.81c.8-.78.8-2.07 0-2.86zM5.41 20L4 18.59l7.72-7.72 1.47 1.35L5.41 20z\"/>\n",
              "  </svg>\n",
              "      </button>\n",
              "      \n",
              "  <style>\n",
              "    .colab-df-container {\n",
              "      display:flex;\n",
              "      flex-wrap:wrap;\n",
              "      gap: 12px;\n",
              "    }\n",
              "\n",
              "    .colab-df-convert {\n",
              "      background-color: #E8F0FE;\n",
              "      border: none;\n",
              "      border-radius: 50%;\n",
              "      cursor: pointer;\n",
              "      display: none;\n",
              "      fill: #1967D2;\n",
              "      height: 32px;\n",
              "      padding: 0 0 0 0;\n",
              "      width: 32px;\n",
              "    }\n",
              "\n",
              "    .colab-df-convert:hover {\n",
              "      background-color: #E2EBFA;\n",
              "      box-shadow: 0px 1px 2px rgba(60, 64, 67, 0.3), 0px 1px 3px 1px rgba(60, 64, 67, 0.15);\n",
              "      fill: #174EA6;\n",
              "    }\n",
              "\n",
              "    [theme=dark] .colab-df-convert {\n",
              "      background-color: #3B4455;\n",
              "      fill: #D2E3FC;\n",
              "    }\n",
              "\n",
              "    [theme=dark] .colab-df-convert:hover {\n",
              "      background-color: #434B5C;\n",
              "      box-shadow: 0px 1px 3px 1px rgba(0, 0, 0, 0.15);\n",
              "      filter: drop-shadow(0px 1px 2px rgba(0, 0, 0, 0.3));\n",
              "      fill: #FFFFFF;\n",
              "    }\n",
              "  </style>\n",
              "\n",
              "      <script>\n",
              "        const buttonEl =\n",
              "          document.querySelector('#df-5801736b-31d4-47f7-8ae4-e5b86b0e18c8 button.colab-df-convert');\n",
              "        buttonEl.style.display =\n",
              "          google.colab.kernel.accessAllowed ? 'block' : 'none';\n",
              "\n",
              "        async function convertToInteractive(key) {\n",
              "          const element = document.querySelector('#df-5801736b-31d4-47f7-8ae4-e5b86b0e18c8');\n",
              "          const dataTable =\n",
              "            await google.colab.kernel.invokeFunction('convertToInteractive',\n",
              "                                                     [key], {});\n",
              "          if (!dataTable) return;\n",
              "\n",
              "          const docLinkHtml = 'Like what you see? Visit the ' +\n",
              "            '<a target=\"_blank\" href=https://colab.research.google.com/notebooks/data_table.ipynb>data table notebook</a>'\n",
              "            + ' to learn more about interactive tables.';\n",
              "          element.innerHTML = '';\n",
              "          dataTable['output_type'] = 'display_data';\n",
              "          await google.colab.output.renderOutput(dataTable, element);\n",
              "          const docLink = document.createElement('div');\n",
              "          docLink.innerHTML = docLinkHtml;\n",
              "          element.appendChild(docLink);\n",
              "        }\n",
              "      </script>\n",
              "    </div>\n",
              "  </div>\n",
              "  "
            ]
          },
          "metadata": {},
          "execution_count": 4
        }
      ]
    },
    {
      "cell_type": "code",
      "source": [
        "df['Pressure U/S of Choke'] = df['Pressure U/S of Choke'].str.replace(',', '').astype(float)"
      ],
      "metadata": {
        "id": "jpo7UxLwlWjK"
      },
      "execution_count": null,
      "outputs": []
    },
    {
      "cell_type": "code",
      "source": [
        "missing_values_count = df.isnull().sum()\n",
        "missing_values_count"
      ],
      "metadata": {
        "id": "XohbCjjtg9L_",
        "colab": {
          "base_uri": "https://localhost:8080/"
        },
        "outputId": "af52e70d-bf64-46e0-a184-a03a520c968f"
      },
      "execution_count": null,
      "outputs": [
        {
          "output_type": "execute_result",
          "data": {
            "text/plain": [
              "Pressure U/S of Choke    0\n",
              "Choke                    0\n",
              "Pressure D/S of Choke    0\n",
              "Gas Rate                 0\n",
              "Condensate Rate          0\n",
              "Water Rate               0\n",
              "dtype: int64"
            ]
          },
          "metadata": {},
          "execution_count": 6
        }
      ]
    },
    {
      "cell_type": "code",
      "source": [
        "glr = df['Gas Rate']/ ( df['Condensate Rate'] +  df['Water Rate'] )"
      ],
      "metadata": {
        "id": "np7Hhk4yhAID"
      },
      "execution_count": null,
      "outputs": []
    },
    {
      "cell_type": "code",
      "source": [
        "df['glr']=glr"
      ],
      "metadata": {
        "id": "CpkBpTjghM-B"
      },
      "execution_count": null,
      "outputs": []
    },
    {
      "cell_type": "code",
      "source": [
        "df.head()"
      ],
      "metadata": {
        "id": "ExcjQW8yhOp1",
        "colab": {
          "base_uri": "https://localhost:8080/",
          "height": 206
        },
        "outputId": "9e6628f2-5d3b-49bd-bdd5-8a638357396d"
      },
      "execution_count": null,
      "outputs": [
        {
          "output_type": "execute_result",
          "data": {
            "text/plain": [
              "   Pressure U/S of Choke  Choke  Pressure D/S of Choke  Gas Rate  \\\n",
              "0                 2175.0   47.0                 1028.2     43.16   \n",
              "1                 2171.0   47.0                 1027.6     43.05   \n",
              "2                 2169.0   47.0                 1026.9     43.02   \n",
              "3                 2167.0   47.0                 1026.9     43.01   \n",
              "4                 2166.0   47.0                 1024.9     42.98   \n",
              "\n",
              "   Condensate Rate  Water Rate       glr  \n",
              "0            44.95       24.71  0.619581  \n",
              "1            42.54       27.96  0.610638  \n",
              "2            45.77       24.70  0.610473  \n",
              "3            43.08       25.71  0.625236  \n",
              "4            43.57       25.67  0.620739  "
            ],
            "text/html": [
              "\n",
              "  <div id=\"df-0934fabc-2248-4ee6-99d9-48cc81d269ad\">\n",
              "    <div class=\"colab-df-container\">\n",
              "      <div>\n",
              "<style scoped>\n",
              "    .dataframe tbody tr th:only-of-type {\n",
              "        vertical-align: middle;\n",
              "    }\n",
              "\n",
              "    .dataframe tbody tr th {\n",
              "        vertical-align: top;\n",
              "    }\n",
              "\n",
              "    .dataframe thead th {\n",
              "        text-align: right;\n",
              "    }\n",
              "</style>\n",
              "<table border=\"1\" class=\"dataframe\">\n",
              "  <thead>\n",
              "    <tr style=\"text-align: right;\">\n",
              "      <th></th>\n",
              "      <th>Pressure U/S of Choke</th>\n",
              "      <th>Choke</th>\n",
              "      <th>Pressure D/S of Choke</th>\n",
              "      <th>Gas Rate</th>\n",
              "      <th>Condensate Rate</th>\n",
              "      <th>Water Rate</th>\n",
              "      <th>glr</th>\n",
              "    </tr>\n",
              "  </thead>\n",
              "  <tbody>\n",
              "    <tr>\n",
              "      <th>0</th>\n",
              "      <td>2175.0</td>\n",
              "      <td>47.0</td>\n",
              "      <td>1028.2</td>\n",
              "      <td>43.16</td>\n",
              "      <td>44.95</td>\n",
              "      <td>24.71</td>\n",
              "      <td>0.619581</td>\n",
              "    </tr>\n",
              "    <tr>\n",
              "      <th>1</th>\n",
              "      <td>2171.0</td>\n",
              "      <td>47.0</td>\n",
              "      <td>1027.6</td>\n",
              "      <td>43.05</td>\n",
              "      <td>42.54</td>\n",
              "      <td>27.96</td>\n",
              "      <td>0.610638</td>\n",
              "    </tr>\n",
              "    <tr>\n",
              "      <th>2</th>\n",
              "      <td>2169.0</td>\n",
              "      <td>47.0</td>\n",
              "      <td>1026.9</td>\n",
              "      <td>43.02</td>\n",
              "      <td>45.77</td>\n",
              "      <td>24.70</td>\n",
              "      <td>0.610473</td>\n",
              "    </tr>\n",
              "    <tr>\n",
              "      <th>3</th>\n",
              "      <td>2167.0</td>\n",
              "      <td>47.0</td>\n",
              "      <td>1026.9</td>\n",
              "      <td>43.01</td>\n",
              "      <td>43.08</td>\n",
              "      <td>25.71</td>\n",
              "      <td>0.625236</td>\n",
              "    </tr>\n",
              "    <tr>\n",
              "      <th>4</th>\n",
              "      <td>2166.0</td>\n",
              "      <td>47.0</td>\n",
              "      <td>1024.9</td>\n",
              "      <td>42.98</td>\n",
              "      <td>43.57</td>\n",
              "      <td>25.67</td>\n",
              "      <td>0.620739</td>\n",
              "    </tr>\n",
              "  </tbody>\n",
              "</table>\n",
              "</div>\n",
              "      <button class=\"colab-df-convert\" onclick=\"convertToInteractive('df-0934fabc-2248-4ee6-99d9-48cc81d269ad')\"\n",
              "              title=\"Convert this dataframe to an interactive table.\"\n",
              "              style=\"display:none;\">\n",
              "        \n",
              "  <svg xmlns=\"http://www.w3.org/2000/svg\" height=\"24px\"viewBox=\"0 0 24 24\"\n",
              "       width=\"24px\">\n",
              "    <path d=\"M0 0h24v24H0V0z\" fill=\"none\"/>\n",
              "    <path d=\"M18.56 5.44l.94 2.06.94-2.06 2.06-.94-2.06-.94-.94-2.06-.94 2.06-2.06.94zm-11 1L8.5 8.5l.94-2.06 2.06-.94-2.06-.94L8.5 2.5l-.94 2.06-2.06.94zm10 10l.94 2.06.94-2.06 2.06-.94-2.06-.94-.94-2.06-.94 2.06-2.06.94z\"/><path d=\"M17.41 7.96l-1.37-1.37c-.4-.4-.92-.59-1.43-.59-.52 0-1.04.2-1.43.59L10.3 9.45l-7.72 7.72c-.78.78-.78 2.05 0 2.83L4 21.41c.39.39.9.59 1.41.59.51 0 1.02-.2 1.41-.59l7.78-7.78 2.81-2.81c.8-.78.8-2.07 0-2.86zM5.41 20L4 18.59l7.72-7.72 1.47 1.35L5.41 20z\"/>\n",
              "  </svg>\n",
              "      </button>\n",
              "      \n",
              "  <style>\n",
              "    .colab-df-container {\n",
              "      display:flex;\n",
              "      flex-wrap:wrap;\n",
              "      gap: 12px;\n",
              "    }\n",
              "\n",
              "    .colab-df-convert {\n",
              "      background-color: #E8F0FE;\n",
              "      border: none;\n",
              "      border-radius: 50%;\n",
              "      cursor: pointer;\n",
              "      display: none;\n",
              "      fill: #1967D2;\n",
              "      height: 32px;\n",
              "      padding: 0 0 0 0;\n",
              "      width: 32px;\n",
              "    }\n",
              "\n",
              "    .colab-df-convert:hover {\n",
              "      background-color: #E2EBFA;\n",
              "      box-shadow: 0px 1px 2px rgba(60, 64, 67, 0.3), 0px 1px 3px 1px rgba(60, 64, 67, 0.15);\n",
              "      fill: #174EA6;\n",
              "    }\n",
              "\n",
              "    [theme=dark] .colab-df-convert {\n",
              "      background-color: #3B4455;\n",
              "      fill: #D2E3FC;\n",
              "    }\n",
              "\n",
              "    [theme=dark] .colab-df-convert:hover {\n",
              "      background-color: #434B5C;\n",
              "      box-shadow: 0px 1px 3px 1px rgba(0, 0, 0, 0.15);\n",
              "      filter: drop-shadow(0px 1px 2px rgba(0, 0, 0, 0.3));\n",
              "      fill: #FFFFFF;\n",
              "    }\n",
              "  </style>\n",
              "\n",
              "      <script>\n",
              "        const buttonEl =\n",
              "          document.querySelector('#df-0934fabc-2248-4ee6-99d9-48cc81d269ad button.colab-df-convert');\n",
              "        buttonEl.style.display =\n",
              "          google.colab.kernel.accessAllowed ? 'block' : 'none';\n",
              "\n",
              "        async function convertToInteractive(key) {\n",
              "          const element = document.querySelector('#df-0934fabc-2248-4ee6-99d9-48cc81d269ad');\n",
              "          const dataTable =\n",
              "            await google.colab.kernel.invokeFunction('convertToInteractive',\n",
              "                                                     [key], {});\n",
              "          if (!dataTable) return;\n",
              "\n",
              "          const docLinkHtml = 'Like what you see? Visit the ' +\n",
              "            '<a target=\"_blank\" href=https://colab.research.google.com/notebooks/data_table.ipynb>data table notebook</a>'\n",
              "            + ' to learn more about interactive tables.';\n",
              "          element.innerHTML = '';\n",
              "          dataTable['output_type'] = 'display_data';\n",
              "          await google.colab.output.renderOutput(dataTable, element);\n",
              "          const docLink = document.createElement('div');\n",
              "          docLink.innerHTML = docLinkHtml;\n",
              "          element.appendChild(docLink);\n",
              "        }\n",
              "      </script>\n",
              "    </div>\n",
              "  </div>\n",
              "  "
            ]
          },
          "metadata": {},
          "execution_count": 10
        }
      ]
    },
    {
      "cell_type": "code",
      "source": [
        "df=df.drop('Condensate Rate', axis=1)\n",
        "df=df.drop('Water Rate', axis=1)"
      ],
      "metadata": {
        "id": "ZzN3KRy9lUfz"
      },
      "execution_count": null,
      "outputs": []
    },
    {
      "cell_type": "code",
      "source": [
        "df.describe()"
      ],
      "metadata": {
        "id": "EkrkcYRUky0X",
        "colab": {
          "base_uri": "https://localhost:8080/",
          "height": 300
        },
        "outputId": "df4e74aa-6e60-4b3f-fd46-17f8393ac854"
      },
      "execution_count": null,
      "outputs": [
        {
          "output_type": "execute_result",
          "data": {
            "text/plain": [
              "       Pressure U/S of Choke       Choke  Pressure D/S of Choke    Gas Rate  \\\n",
              "count             615.000000  615.000000             615.000000  615.000000   \n",
              "mean             1828.591870   43.089431            1007.397724   42.214098   \n",
              "std               134.935964   12.669443              27.666515    3.156580   \n",
              "min              1647.000000    5.000000             917.000000   14.520000   \n",
              "25%              1726.000000   33.000000             984.500000   42.080000   \n",
              "50%              1817.000000   36.000000            1011.900000   42.420000   \n",
              "75%              1877.000000   60.000000            1031.800000   43.040000   \n",
              "max              2423.000000   64.000000            1080.600000   45.170000   \n",
              "\n",
              "              glr  \n",
              "count  615.000000  \n",
              "mean     0.653220  \n",
              "std      0.031860  \n",
              "min      0.538743  \n",
              "25%      0.628657  \n",
              "50%      0.650376  \n",
              "75%      0.672162  \n",
              "max      0.751537  "
            ],
            "text/html": [
              "\n",
              "  <div id=\"df-c135d1c2-93c5-428e-af89-437905fcede8\">\n",
              "    <div class=\"colab-df-container\">\n",
              "      <div>\n",
              "<style scoped>\n",
              "    .dataframe tbody tr th:only-of-type {\n",
              "        vertical-align: middle;\n",
              "    }\n",
              "\n",
              "    .dataframe tbody tr th {\n",
              "        vertical-align: top;\n",
              "    }\n",
              "\n",
              "    .dataframe thead th {\n",
              "        text-align: right;\n",
              "    }\n",
              "</style>\n",
              "<table border=\"1\" class=\"dataframe\">\n",
              "  <thead>\n",
              "    <tr style=\"text-align: right;\">\n",
              "      <th></th>\n",
              "      <th>Pressure U/S of Choke</th>\n",
              "      <th>Choke</th>\n",
              "      <th>Pressure D/S of Choke</th>\n",
              "      <th>Gas Rate</th>\n",
              "      <th>glr</th>\n",
              "    </tr>\n",
              "  </thead>\n",
              "  <tbody>\n",
              "    <tr>\n",
              "      <th>count</th>\n",
              "      <td>615.000000</td>\n",
              "      <td>615.000000</td>\n",
              "      <td>615.000000</td>\n",
              "      <td>615.000000</td>\n",
              "      <td>615.000000</td>\n",
              "    </tr>\n",
              "    <tr>\n",
              "      <th>mean</th>\n",
              "      <td>1828.591870</td>\n",
              "      <td>43.089431</td>\n",
              "      <td>1007.397724</td>\n",
              "      <td>42.214098</td>\n",
              "      <td>0.653220</td>\n",
              "    </tr>\n",
              "    <tr>\n",
              "      <th>std</th>\n",
              "      <td>134.935964</td>\n",
              "      <td>12.669443</td>\n",
              "      <td>27.666515</td>\n",
              "      <td>3.156580</td>\n",
              "      <td>0.031860</td>\n",
              "    </tr>\n",
              "    <tr>\n",
              "      <th>min</th>\n",
              "      <td>1647.000000</td>\n",
              "      <td>5.000000</td>\n",
              "      <td>917.000000</td>\n",
              "      <td>14.520000</td>\n",
              "      <td>0.538743</td>\n",
              "    </tr>\n",
              "    <tr>\n",
              "      <th>25%</th>\n",
              "      <td>1726.000000</td>\n",
              "      <td>33.000000</td>\n",
              "      <td>984.500000</td>\n",
              "      <td>42.080000</td>\n",
              "      <td>0.628657</td>\n",
              "    </tr>\n",
              "    <tr>\n",
              "      <th>50%</th>\n",
              "      <td>1817.000000</td>\n",
              "      <td>36.000000</td>\n",
              "      <td>1011.900000</td>\n",
              "      <td>42.420000</td>\n",
              "      <td>0.650376</td>\n",
              "    </tr>\n",
              "    <tr>\n",
              "      <th>75%</th>\n",
              "      <td>1877.000000</td>\n",
              "      <td>60.000000</td>\n",
              "      <td>1031.800000</td>\n",
              "      <td>43.040000</td>\n",
              "      <td>0.672162</td>\n",
              "    </tr>\n",
              "    <tr>\n",
              "      <th>max</th>\n",
              "      <td>2423.000000</td>\n",
              "      <td>64.000000</td>\n",
              "      <td>1080.600000</td>\n",
              "      <td>45.170000</td>\n",
              "      <td>0.751537</td>\n",
              "    </tr>\n",
              "  </tbody>\n",
              "</table>\n",
              "</div>\n",
              "      <button class=\"colab-df-convert\" onclick=\"convertToInteractive('df-c135d1c2-93c5-428e-af89-437905fcede8')\"\n",
              "              title=\"Convert this dataframe to an interactive table.\"\n",
              "              style=\"display:none;\">\n",
              "        \n",
              "  <svg xmlns=\"http://www.w3.org/2000/svg\" height=\"24px\"viewBox=\"0 0 24 24\"\n",
              "       width=\"24px\">\n",
              "    <path d=\"M0 0h24v24H0V0z\" fill=\"none\"/>\n",
              "    <path d=\"M18.56 5.44l.94 2.06.94-2.06 2.06-.94-2.06-.94-.94-2.06-.94 2.06-2.06.94zm-11 1L8.5 8.5l.94-2.06 2.06-.94-2.06-.94L8.5 2.5l-.94 2.06-2.06.94zm10 10l.94 2.06.94-2.06 2.06-.94-2.06-.94-.94-2.06-.94 2.06-2.06.94z\"/><path d=\"M17.41 7.96l-1.37-1.37c-.4-.4-.92-.59-1.43-.59-.52 0-1.04.2-1.43.59L10.3 9.45l-7.72 7.72c-.78.78-.78 2.05 0 2.83L4 21.41c.39.39.9.59 1.41.59.51 0 1.02-.2 1.41-.59l7.78-7.78 2.81-2.81c.8-.78.8-2.07 0-2.86zM5.41 20L4 18.59l7.72-7.72 1.47 1.35L5.41 20z\"/>\n",
              "  </svg>\n",
              "      </button>\n",
              "      \n",
              "  <style>\n",
              "    .colab-df-container {\n",
              "      display:flex;\n",
              "      flex-wrap:wrap;\n",
              "      gap: 12px;\n",
              "    }\n",
              "\n",
              "    .colab-df-convert {\n",
              "      background-color: #E8F0FE;\n",
              "      border: none;\n",
              "      border-radius: 50%;\n",
              "      cursor: pointer;\n",
              "      display: none;\n",
              "      fill: #1967D2;\n",
              "      height: 32px;\n",
              "      padding: 0 0 0 0;\n",
              "      width: 32px;\n",
              "    }\n",
              "\n",
              "    .colab-df-convert:hover {\n",
              "      background-color: #E2EBFA;\n",
              "      box-shadow: 0px 1px 2px rgba(60, 64, 67, 0.3), 0px 1px 3px 1px rgba(60, 64, 67, 0.15);\n",
              "      fill: #174EA6;\n",
              "    }\n",
              "\n",
              "    [theme=dark] .colab-df-convert {\n",
              "      background-color: #3B4455;\n",
              "      fill: #D2E3FC;\n",
              "    }\n",
              "\n",
              "    [theme=dark] .colab-df-convert:hover {\n",
              "      background-color: #434B5C;\n",
              "      box-shadow: 0px 1px 3px 1px rgba(0, 0, 0, 0.15);\n",
              "      filter: drop-shadow(0px 1px 2px rgba(0, 0, 0, 0.3));\n",
              "      fill: #FFFFFF;\n",
              "    }\n",
              "  </style>\n",
              "\n",
              "      <script>\n",
              "        const buttonEl =\n",
              "          document.querySelector('#df-c135d1c2-93c5-428e-af89-437905fcede8 button.colab-df-convert');\n",
              "        buttonEl.style.display =\n",
              "          google.colab.kernel.accessAllowed ? 'block' : 'none';\n",
              "\n",
              "        async function convertToInteractive(key) {\n",
              "          const element = document.querySelector('#df-c135d1c2-93c5-428e-af89-437905fcede8');\n",
              "          const dataTable =\n",
              "            await google.colab.kernel.invokeFunction('convertToInteractive',\n",
              "                                                     [key], {});\n",
              "          if (!dataTable) return;\n",
              "\n",
              "          const docLinkHtml = 'Like what you see? Visit the ' +\n",
              "            '<a target=\"_blank\" href=https://colab.research.google.com/notebooks/data_table.ipynb>data table notebook</a>'\n",
              "            + ' to learn more about interactive tables.';\n",
              "          element.innerHTML = '';\n",
              "          dataTable['output_type'] = 'display_data';\n",
              "          await google.colab.output.renderOutput(dataTable, element);\n",
              "          const docLink = document.createElement('div');\n",
              "          docLink.innerHTML = docLinkHtml;\n",
              "          element.appendChild(docLink);\n",
              "        }\n",
              "      </script>\n",
              "    </div>\n",
              "  </div>\n",
              "  "
            ]
          },
          "metadata": {},
          "execution_count": 12
        }
      ]
    },
    {
      "cell_type": "code",
      "source": [
        "sns.pairplot(df)"
      ],
      "metadata": {
        "id": "78JakBwzhj6X",
        "colab": {
          "base_uri": "https://localhost:8080/",
          "height": 921
        },
        "outputId": "7a74bac3-e207-4236-d78d-9e8d0f2e5cf6"
      },
      "execution_count": null,
      "outputs": [
        {
          "output_type": "execute_result",
          "data": {
            "text/plain": [
              "<seaborn.axisgrid.PairGrid at 0x7ff946107c50>"
            ]
          },
          "metadata": {},
          "execution_count": 13
        },
        {
          "output_type": "display_data",
          "data": {
            "text/plain": [
              "<Figure size 900x900 with 30 Axes>"
            ],
            "image/png": "[encoded data removed]"
          },
          "metadata": {
            "needs_background": "light"
          }
        }
      ]
    },
    {
      "cell_type": "code",
      "source": [
        "#plt.figure(figsize=(10,10))\n",
        "\n",
        "ax=sns.scatterplot(data=df , x=\"Pressure U/S of Choke\", y=\"Choke\")\n",
        "#ax.set(xlim=(29,65))"
      ],
      "metadata": {
        "id": "3UGiein-ik82",
        "colab": {
          "base_uri": "https://localhost:8080/",
          "height": 279
        },
        "outputId": "b8391921-057c-4948-bac0-3dac65fff6db"
      },
      "execution_count": null,
      "outputs": [
        {
          "output_type": "display_data",
          "data": {
            "text/plain": [
              "<Figure size 432x288 with 1 Axes>"
            ],
            "image/png": "[encoded data removed]"
          },
          "metadata": {
            "needs_background": "light"
          }
        }
      ]
    },
    {
      "cell_type": "code",
      "source": [
        "\n",
        "ax=sns.scatterplot(data=df, x=\"Pressure D/S of Choke\", y=\"Choke\")"
      ],
      "metadata": {
        "id": "bGjeMiqgmaOz",
        "colab": {
          "base_uri": "https://localhost:8080/",
          "height": 279
        },
        "outputId": "99e9c604-442d-4c33-8a6a-524a0bf842ff"
      },
      "execution_count": null,
      "outputs": [
        {
          "output_type": "display_data",
          "data": {
            "text/plain": [
              "<Figure size 432x288 with 1 Axes>"
            ],
            "image/png": "[encoded data removed]"
          },
          "metadata": {
            "needs_background": "light"
          }
        }
      ]
    },
    {
      "cell_type": "code",
      "source": [
        "\n",
        "ax=sns.scatterplot(data=df, x=\"Gas Rate\", y=\"Choke\")"
      ],
      "metadata": {
        "id": "e6_Vrd9imeVM",
        "colab": {
          "base_uri": "https://localhost:8080/",
          "height": 279
        },
        "outputId": "b2f3e8ce-9075-4f5b-f004-df2456a4e0e0"
      },
      "execution_count": null,
      "outputs": [
        {
          "output_type": "display_data",
          "data": {
            "text/plain": [
              "<Figure size 432x288 with 1 Axes>"
            ],
            "image/png": "[encoded data removed]"
          },
          "metadata": {
            "needs_background": "light"
          }
        }
      ]
    },
    {
      "cell_type": "code",
      "source": [
        "\n",
        "ax=sns.scatterplot(data=df, y=\"Choke\", x=\"glr\")"
      ],
      "metadata": {
        "id": "8eNxrPVImrnd",
        "colab": {
          "base_uri": "https://localhost:8080/",
          "height": 279
        },
        "outputId": "d427427a-2b86-4e8d-f341-16166037288c"
      },
      "execution_count": null,
      "outputs": [
        {
          "output_type": "display_data",
          "data": {
            "text/plain": [
              "<Figure size 432x288 with 1 Axes>"
            ],
            "image/png": "[encoded data removed]"
          },
          "metadata": {
            "needs_background": "light"
          }
        }
      ]
    },
    {
      "cell_type": "code",
      "source": [
        "tmp=df[['Choke','Pressure U/S of Choke']]\n",
        "sns.heatmap(tmp)"
      ],
      "metadata": {
        "id": "mEd-sbW9oxNX",
        "colab": {
          "base_uri": "https://localhost:8080/",
          "height": 288
        },
        "outputId": "0013f712-ec30-42e1-b458-53ea5084186e"
      },
      "execution_count": null,
      "outputs": [
        {
          "output_type": "execute_result",
          "data": {
            "text/plain": [
              "<matplotlib.axes._subplots.AxesSubplot at 0x7f035d7d0550>"
            ]
          },
          "metadata": {},
          "execution_count": 17
        },
        {
          "output_type": "display_data",
          "data": {
            "text/plain": [
              "<Figure size 432x288 with 2 Axes>"
            ],
            "image/png": "[encoded data removed]"
          },
          "metadata": {
            "needs_background": "light"
          }
        }
      ]
    },
    {
      "cell_type": "code",
      "source": [
        "f, ax = plt.subplots(5, figsize=(12,36))\n",
        "sns.distplot(df['Choke'],color='c',ax=ax[0])\n",
        "sns.distplot(df['Pressure U/S of Choke'],color='c',ax=ax[1])\n",
        "sns.distplot(df['Pressure D/S of Choke'],color='c',ax=ax[2])\n",
        "sns.distplot(df['Gas Rate'],color='c',ax=ax[3])\n",
        "sns.distplot(df['glr'],color='c',ax=ax[4])\n",
        "ax[0].set_title('AVG CHOKE SIZE')\n",
        "ax[1].set_title('Pressure U/S of Choke')\n",
        "ax[2].set_title('Pressure D/S of Choke')\n",
        "ax[3].set_title('Gas Rate')\n",
        "ax[4].set_title('GLR')"
      ],
      "metadata": {
        "id": "TsUstFiTjQEg",
        "colab": {
          "base_uri": "https://localhost:8080/",
          "height": 1000
        },
        "outputId": "4af82c75-e552-4f7e-8583-7bfb840b4507"
      },
      "execution_count": null,
      "outputs": [
        {
          "output_type": "stream",
          "name": "stderr",
          "text": [
            "/usr/local/lib/python3.7/dist-packages/seaborn/distributions.py:2619: FutureWarning: `distplot` is a deprecated function and will be removed in a future version. Please adapt your code to use either `displot` (a figure-level function with similar flexibility) or `histplot` (an axes-level function for histograms).\n",
            "  warnings.warn(msg, FutureWarning)\n",
            "/usr/local/lib/python3.7/dist-packages/seaborn/distributions.py:2619: FutureWarning: `distplot` is a deprecated function and will be removed in a future version. Please adapt your code to use either `displot` (a figure-level function with similar flexibility) or `histplot` (an axes-level function for histograms).\n",
            "  warnings.warn(msg, FutureWarning)\n",
            "/usr/local/lib/python3.7/dist-packages/seaborn/distributions.py:2619: FutureWarning: `distplot` is a deprecated function and will be removed in a future version. Please adapt your code to use either `displot` (a figure-level function with similar flexibility) or `histplot` (an axes-level function for histograms).\n",
            "  warnings.warn(msg, FutureWarning)\n",
            "/usr/local/lib/python3.7/dist-packages/seaborn/distributions.py:2619: FutureWarning: `distplot` is a deprecated function and will be removed in a future version. Please adapt your code to use either `displot` (a figure-level function with similar flexibility) or `histplot` (an axes-level function for histograms).\n",
            "  warnings.warn(msg, FutureWarning)\n",
            "/usr/local/lib/python3.7/dist-packages/seaborn/distributions.py:2619: FutureWarning: `distplot` is a deprecated function and will be removed in a future version. Please adapt your code to use either `displot` (a figure-level function with similar flexibility) or `histplot` (an axes-level function for histograms).\n",
            "  warnings.warn(msg, FutureWarning)\n"
          ]
        },
        {
          "output_type": "execute_result",
          "data": {
            "text/plain": [
              "Text(0.5, 1.0, 'GLR')"
            ]
          },
          "metadata": {},
          "execution_count": 18
        },
        {
          "output_type": "display_data",
          "data": {
            "text/plain": [
              "<Figure size 864x2592 with 5 Axes>"
            ],
            "image/png": "[encoded data removed]"
          },
          "metadata": {
            "needs_background": "light"
          }
        }
      ]
    },
    {
      "cell_type": "code",
      "source": [
        "plt.figure(figsize=(10,10))\n",
        "sns.heatmap(df.corr(), annot=True,cmap='RdBu',square=True)"
      ],
      "metadata": {
        "id": "oF9bhI3endNe",
        "colab": {
          "base_uri": "https://localhost:8080/",
          "height": 596
        },
        "outputId": "3ad6e18c-149f-4399-a14f-09c99c456503"
      },
      "execution_count": null,
      "outputs": [
        {
          "output_type": "execute_result",
          "data": {
            "text/plain": [
              "<matplotlib.axes._subplots.AxesSubplot at 0x7ff942b50510>"
            ]
          },
          "metadata": {},
          "execution_count": 14
        },
        {
          "output_type": "display_data",
          "data": {
            "text/plain": [
              "<Figure size 720x720 with 2 Axes>"
            ],
            "image/png": "[encoded data removed]"
          },
          "metadata": {
            "needs_background": "light"
          }
        }
      ]
    },
    {
      "cell_type": "code",
      "source": [
        "x=df.drop('Choke', axis=1)\n",
        "y=df['Choke']\n",
        "print(x.shape)\n",
        "print(y.shape)"
      ],
      "metadata": {
        "id": "HzoQ_1cMowRe",
        "colab": {
          "base_uri": "https://localhost:8080/"
        },
        "outputId": "0de707db-781a-4abb-aa1b-e29b6f476522"
      },
      "execution_count": null,
      "outputs": [
        {
          "output_type": "stream",
          "name": "stdout",
          "text": [
            "(615, 4)\n",
            "(615,)\n"
          ]
        }
      ]
    },
    {
      "cell_type": "code",
      "source": [
        "from sklearn.model_selection import train_test_split\n",
        "X_train, X_test, y_train, y_test = train_test_split(x, y, test_size=0.3, random_state=42)\n",
        "print(\"train Size:\" +str(y_train.shape))\n",
        "print(\"test Size:\" +str(y_test.shape))"
      ],
      "metadata": {
        "id": "jQ-PhZzJrOKJ",
        "colab": {
          "base_uri": "https://localhost:8080/"
        },
        "outputId": "05a0cf59-b17f-4000-fca6-2a736ffaa636"
      },
      "execution_count": null,
      "outputs": [
        {
          "output_type": "stream",
          "name": "stdout",
          "text": [
            "train Size:(430,)\n",
            "test Size:(185,)\n"
          ]
        }
      ]
    },
    {
      "cell_type": "code",
      "source": [
        "from sklearn import metrics\n",
        "from sklearn.model_selection import cross_val_score\n",
        "\n",
        "def cross_val(model):\n",
        "    pred = cross_val_score(model, x, y, cv=10)\n",
        "    return pred.mean()\n",
        "\n",
        "def print_evaluate(true, predicted):  \n",
        "    mae = metrics.mean_absolute_error(true, predicted)\n",
        "    mse = metrics.mean_squared_error(true, predicted)\n",
        "    rmse = np.sqrt(metrics.mean_squared_error(true, predicted))\n",
        "    r2_square = metrics.r2_score(true, predicted)\n",
        "    print('MAE:', mae)\n",
        "    print('MSE:', mse)\n",
        "    print('RMSE:', rmse)\n",
        "    print('R2 Square', r2_square)\n",
        "    print('__________________________________')\n",
        "    \n",
        "def evaluate(true, predicted):\n",
        "    mae = metrics.mean_absolute_error(true, predicted)\n",
        "    mse = metrics.mean_squared_error(true, predicted)\n",
        "    rmse = np.sqrt(metrics.mean_squared_error(true, predicted))\n",
        "    r2_square = metrics.r2_score(true, predicted)\n",
        "    return mae, mse, rmse, r2_square"
      ],
      "metadata": {
        "id": "ZJZLcIjIrjwL"
      },
      "execution_count": null,
      "outputs": []
    },
    {
      "cell_type": "code",
      "source": [
        "from sklearn.preprocessing import StandardScaler\n",
        "from sklearn.pipeline import Pipeline\n",
        "\n",
        "pipeline = Pipeline([\n",
        "    ('std_scalar', StandardScaler())\n",
        "])\n",
        "\n",
        "X_train = pipeline.fit_transform(X_train)\n",
        "X_test = pipeline.transform(X_test)"
      ],
      "metadata": {
        "id": "uDIoV7bGrpYl"
      },
      "execution_count": null,
      "outputs": []
    },
    {
      "cell_type": "code",
      "source": [
        "from sklearn.linear_model import LinearRegression\n",
        "\n",
        "lin_reg = LinearRegression(normalize=True)\n",
        "lin_reg.fit(X_train,y_train)\n",
        "coeff_df = pd.DataFrame(lin_reg.coef_, x.columns, columns=['Coefficient'])\n",
        "coeff_df"
      ],
      "metadata": {
        "id": "PBidE9l4rs0V",
        "colab": {
          "base_uri": "https://localhost:8080/",
          "height": 430
        },
        "outputId": "300c1f9d-52bd-402f-bd09-5221e7e451fb"
      },
      "execution_count": null,
      "outputs": [
        {
          "output_type": "stream",
          "name": "stderr",
          "text": [
            "/usr/local/lib/python3.7/dist-packages/sklearn/linear_model/_base.py:145: FutureWarning: 'normalize' was deprecated in version 1.0 and will be removed in 1.2.\n",
            "If you wish to scale the data, use Pipeline with a StandardScaler in a preprocessing stage. To reproduce the previous behavior:\n",
            "\n",
            "from sklearn.pipeline import make_pipeline\n",
            "\n",
            "model = make_pipeline(StandardScaler(with_mean=False), LinearRegression())\n",
            "\n",
            "If you wish to pass a sample_weight parameter, you need to pass it as a fit parameter to each step of the pipeline as follows:\n",
            "\n",
            "kwargs = {s[0] + '__sample_weight': sample_weight for s in model.steps}\n",
            "model.fit(X, y, **kwargs)\n",
            "\n",
            "\n",
            "  FutureWarning,\n"
          ]
        },
        {
          "output_type": "execute_result",
          "data": {
            "text/plain": [
              "                       Coefficient\n",
              "Pressure U/S of Choke    -3.745839\n",
              "Pressure D/S of Choke    -4.274005\n",
              "Gas Rate                  5.002349\n",
              "glr                      -2.081839"
            ],
            "text/html": [
              "\n",
              "  <div id=\"df-3bd96b60-37ae-46e4-9881-e08d925b176a\">\n",
              "    <div class=\"colab-df-container\">\n",
              "      <div>\n",
              "<style scoped>\n",
              "    .dataframe tbody tr th:only-of-type {\n",
              "        vertical-align: middle;\n",
              "    }\n",
              "\n",
              "    .dataframe tbody tr th {\n",
              "        vertical-align: top;\n",
              "    }\n",
              "\n",
              "    .dataframe thead th {\n",
              "        text-align: right;\n",
              "    }\n",
              "</style>\n",
              "<table border=\"1\" class=\"dataframe\">\n",
              "  <thead>\n",
              "    <tr style=\"text-align: right;\">\n",
              "      <th></th>\n",
              "      <th>Coefficient</th>\n",
              "    </tr>\n",
              "  </thead>\n",
              "  <tbody>\n",
              "    <tr>\n",
              "      <th>Pressure U/S of Choke</th>\n",
              "      <td>-3.745839</td>\n",
              "    </tr>\n",
              "    <tr>\n",
              "      <th>Pressure D/S of Choke</th>\n",
              "      <td>-4.274005</td>\n",
              "    </tr>\n",
              "    <tr>\n",
              "      <th>Gas Rate</th>\n",
              "      <td>5.002349</td>\n",
              "    </tr>\n",
              "    <tr>\n",
              "      <th>glr</th>\n",
              "      <td>-2.081839</td>\n",
              "    </tr>\n",
              "  </tbody>\n",
              "</table>\n",
              "</div>\n",
              "      <button class=\"colab-df-convert\" onclick=\"convertToInteractive('df-3bd96b60-37ae-46e4-9881-e08d925b176a')\"\n",
              "              title=\"Convert this dataframe to an interactive table.\"\n",
              "              style=\"display:none;\">\n",
              "        \n",
              "  <svg xmlns=\"http://www.w3.org/2000/svg\" height=\"24px\"viewBox=\"0 0 24 24\"\n",
              "       width=\"24px\">\n",
              "    <path d=\"M0 0h24v24H0V0z\" fill=\"none\"/>\n",
              "    <path d=\"M18.56 5.44l.94 2.06.94-2.06 2.06-.94-2.06-.94-.94-2.06-.94 2.06-2.06.94zm-11 1L8.5 8.5l.94-2.06 2.06-.94-2.06-.94L8.5 2.5l-.94 2.06-2.06.94zm10 10l.94 2.06.94-2.06 2.06-.94-2.06-.94-.94-2.06-.94 2.06-2.06.94z\"/><path d=\"M17.41 7.96l-1.37-1.37c-.4-.4-.92-.59-1.43-.59-.52 0-1.04.2-1.43.59L10.3 9.45l-7.72 7.72c-.78.78-.78 2.05 0 2.83L4 21.41c.39.39.9.59 1.41.59.51 0 1.02-.2 1.41-.59l7.78-7.78 2.81-2.81c.8-.78.8-2.07 0-2.86zM5.41 20L4 18.59l7.72-7.72 1.47 1.35L5.41 20z\"/>\n",
              "  </svg>\n",
              "      </button>\n",
              "      \n",
              "  <style>\n",
              "    .colab-df-container {\n",
              "      display:flex;\n",
              "      flex-wrap:wrap;\n",
              "      gap: 12px;\n",
              "    }\n",
              "\n",
              "    .colab-df-convert {\n",
              "      background-color: #E8F0FE;\n",
              "      border: none;\n",
              "      border-radius: 50%;\n",
              "      cursor: pointer;\n",
              "      display: none;\n",
              "      fill: #1967D2;\n",
              "      height: 32px;\n",
              "      padding: 0 0 0 0;\n",
              "      width: 32px;\n",
              "    }\n",
              "\n",
              "    .colab-df-convert:hover {\n",
              "      background-color: #E2EBFA;\n",
              "      box-shadow: 0px 1px 2px rgba(60, 64, 67, 0.3), 0px 1px 3px 1px rgba(60, 64, 67, 0.15);\n",
              "      fill: #174EA6;\n",
              "    }\n",
              "\n",
              "    [theme=dark] .colab-df-convert {\n",
              "      background-color: #3B4455;\n",
              "      fill: #D2E3FC;\n",
              "    }\n",
              "\n",
              "    [theme=dark] .colab-df-convert:hover {\n",
              "      background-color: #434B5C;\n",
              "      box-shadow: 0px 1px 3px 1px rgba(0, 0, 0, 0.15);\n",
              "      filter: drop-shadow(0px 1px 2px rgba(0, 0, 0, 0.3));\n",
              "      fill: #FFFFFF;\n",
              "    }\n",
              "  </style>\n",
              "\n",
              "      <script>\n",
              "        const buttonEl =\n",
              "          document.querySelector('#df-3bd96b60-37ae-46e4-9881-e08d925b176a button.colab-df-convert');\n",
              "        buttonEl.style.display =\n",
              "          google.colab.kernel.accessAllowed ? 'block' : 'none';\n",
              "\n",
              "        async function convertToInteractive(key) {\n",
              "          const element = document.querySelector('#df-3bd96b60-37ae-46e4-9881-e08d925b176a');\n",
              "          const dataTable =\n",
              "            await google.colab.kernel.invokeFunction('convertToInteractive',\n",
              "                                                     [key], {});\n",
              "          if (!dataTable) return;\n",
              "\n",
              "          const docLinkHtml = 'Like what you see? Visit the ' +\n",
              "            '<a target=\"_blank\" href=https://colab.research.google.com/notebooks/data_table.ipynb>data table notebook</a>'\n",
              "            + ' to learn more about interactive tables.';\n",
              "          element.innerHTML = '';\n",
              "          dataTable['output_type'] = 'display_data';\n",
              "          await google.colab.output.renderOutput(dataTable, element);\n",
              "          const docLink = document.createElement('div');\n",
              "          docLink.innerHTML = docLinkHtml;\n",
              "          element.appendChild(docLink);\n",
              "        }\n",
              "      </script>\n",
              "    </div>\n",
              "  </div>\n",
              "  "
            ]
          },
          "metadata": {},
          "execution_count": 19
        }
      ]
    },
    {
      "cell_type": "code",
      "source": [
        "test_pred = lin_reg.predict(X_test)\n",
        "train_pred = lin_reg.predict(X_train)\n",
        "\n",
        "print(\"Liner Regression\")\n",
        "print('---------------------------------')\n",
        "print('Test set evaluation:\\n__________________________________')\n",
        "print_evaluate(y_test, test_pred)\n",
        "print('Train set evaluation:\\n__________________________________')\n",
        "print_evaluate(y_train, train_pred)\n",
        "\n",
        "results_df = pd.DataFrame(data=[[\"Linear Regression\", *evaluate(y_test, test_pred) , cross_val(LinearRegression())]], \n",
        "                          columns=['Model', 'MAE', 'MSE', 'RMSE', 'R2 Square', \"Cross Validation\"])"
      ],
      "metadata": {
        "id": "urK6m543ryLM",
        "colab": {
          "base_uri": "https://localhost:8080/"
        },
        "outputId": "e495674e-a896-405d-e230-1ad9451cabd7"
      },
      "execution_count": null,
      "outputs": [
        {
          "output_type": "stream",
          "name": "stdout",
          "text": [
            "Liner Regression\n",
            "---------------------------------\n",
            "Test set evaluation:\n",
            "__________________________________\n",
            "MAE: 8.300233786684787\n",
            "MSE: 90.33689908512305\n",
            "RMSE: 9.504572535633732\n",
            "R2 Square 0.3966400158172072\n",
            "__________________________________\n",
            "Train set evaluation:\n",
            "__________________________________\n",
            "MAE: 9.308247657375402\n",
            "MSE: 106.28000321917224\n",
            "RMSE: 10.309219331218646\n",
            "R2 Square 0.3550355855038425\n",
            "__________________________________\n"
          ]
        }
      ]
    },
    {
      "cell_type": "code",
      "source": [
        "from sklearn.linear_model import RANSACRegressor\n",
        "\n",
        "model = RANSACRegressor(base_estimator=LinearRegression(), max_trials=100)\n",
        "model.fit(X_train, y_train)\n",
        "\n",
        "test_pred = model.predict(X_test)\n",
        "train_pred = model.predict(X_train)\n",
        "print(\"Random Sample Consensus\")\n",
        "print('----------------------------')\n",
        "print('Test set evaluation:\\n_____________________________________')\n",
        "print_evaluate(y_test, test_pred)\n",
        "\n",
        "print('Train set evaluation:\\n_____________________________________')\n",
        "print_evaluate(y_train, train_pred)\n",
        "\n",
        "results_df_2 = pd.DataFrame(data=[[\"Robust Regression\", *evaluate(y_test, test_pred) , cross_val(RANSACRegressor())]], \n",
        "                            columns=['Model', 'MAE', 'MSE', 'RMSE', 'R2 Square', \"Cross Validation\"])\n",
        "results_df = results_df.append(results_df_2, ignore_index=True)"
      ],
      "metadata": {
        "id": "Th9eHUO_r0xF",
        "colab": {
          "base_uri": "https://localhost:8080/"
        },
        "outputId": "a30c136a-bd7d-47d5-a83c-84097855abb3"
      },
      "execution_count": null,
      "outputs": [
        {
          "output_type": "stream",
          "name": "stdout",
          "text": [
            "Random Sample Consensus\n",
            "----------------------------\n",
            "Test set evaluation:\n",
            "_____________________________________\n",
            "MAE: 10.708935943388258\n",
            "MSE: 339.87407688518414\n",
            "RMSE: 18.435674028502028\n",
            "R2 Square -1.270018339464532\n",
            "__________________________________\n",
            "Train set evaluation:\n",
            "_____________________________________\n",
            "MAE: 11.668454338721284\n",
            "MSE: 383.3727601376983\n",
            "RMSE: 19.579907051303852\n",
            "R2 Square -1.3265127990829981\n",
            "__________________________________\n"
          ]
        }
      ]
    },
    {
      "cell_type": "code",
      "source": [
        "from sklearn.linear_model import Ridge\n",
        "\n",
        "model = Ridge(alpha=100, solver='cholesky', tol=0.0001, random_state=42)\n",
        "model.fit(X_train, y_train)\n",
        "pred = model.predict(X_test)\n",
        "\n",
        "test_pred = model.predict(X_test)\n",
        "train_pred = model.predict(X_train)\n",
        "print(\"Ridge Regression\")\n",
        "print('---------------------------------')\n",
        "print('Test set evaluation:\\n_____________________________________')\n",
        "print_evaluate(y_test, test_pred)\n",
        "print('Train set evaluation:\\n_____________________________________')\n",
        "print_evaluate(y_train, train_pred)\n",
        "\n",
        "results_df_2 = pd.DataFrame(data=[[\"Ridge Regression\", *evaluate(y_test, test_pred) , cross_val(Ridge())]], \n",
        "                            columns=['Model', 'MAE', 'MSE', 'RMSE', 'R2 Square', \"Cross Validation\"])\n",
        "results_df = results_df.append(results_df_2, ignore_index=True)"
      ],
      "metadata": {
        "id": "64L6pikPsBl1",
        "colab": {
          "base_uri": "https://localhost:8080/"
        },
        "outputId": "1d56ae51-c394-4782-8b6d-01f9482a943d"
      },
      "execution_count": null,
      "outputs": [
        {
          "output_type": "stream",
          "name": "stdout",
          "text": [
            "Ridge Regression\n",
            "---------------------------------\n",
            "Test set evaluation:\n",
            "_____________________________________\n",
            "MAE: 8.80373597857814\n",
            "MSE: 96.29868033728965\n",
            "RMSE: 9.813189101270272\n",
            "R2 Square 0.35682128971040317\n",
            "__________________________________\n",
            "Train set evaluation:\n",
            "_____________________________________\n",
            "MAE: 9.6698021574755\n",
            "MSE: 108.71751618183262\n",
            "RMSE: 10.426769211113893\n",
            "R2 Square 0.3402434414205664\n",
            "__________________________________\n"
          ]
        }
      ]
    },
    {
      "cell_type": "code",
      "source": [
        "from sklearn.linear_model import Lasso\n",
        "\n",
        "model = Lasso(alpha=0.1, \n",
        "              precompute=True, \n",
        "#               warm_start=True, \n",
        "              positive=True, \n",
        "              selection='random',\n",
        "              random_state=42)\n",
        "model.fit(X_train, y_train)\n",
        "\n",
        "test_pred = model.predict(X_test)\n",
        "train_pred = model.predict(X_train)\n",
        "print(\"LASSO Regression\")\n",
        "print('---------------------------------')\n",
        "print('Test set evaluation:\\n_____________________________________')\n",
        "print_evaluate(y_test, test_pred)\n",
        "print('Train set evaluation:\\n_____________________________________')\n",
        "print_evaluate(y_train, train_pred)\n",
        "\n",
        "results_df_2 = pd.DataFrame(data=[[\"Lasso Regression\", *evaluate(y_test, test_pred) , cross_val(Lasso())]], \n",
        "                            columns=['Model', 'MAE', 'MSE', 'RMSE', 'R2 Square', \"Cross Validation\"])\n",
        "results_df = results_df.append(results_df_2, ignore_index=True)"
      ],
      "metadata": {
        "id": "pd7Uxr1CsDZN",
        "colab": {
          "base_uri": "https://localhost:8080/"
        },
        "outputId": "06504c89-0c0e-4611-b0a7-b811e4944067"
      },
      "execution_count": null,
      "outputs": [
        {
          "output_type": "stream",
          "name": "stdout",
          "text": [
            "LASSO Regression\n",
            "---------------------------------\n",
            "Test set evaluation:\n",
            "_____________________________________\n",
            "MAE: 10.892963012670533\n",
            "MSE: 144.06950201014084\n",
            "RMSE: 12.002895567742845\n",
            "R2 Square 0.03776005890845757\n",
            "__________________________________\n",
            "Train set evaluation:\n",
            "_____________________________________\n",
            "MAE: 10.826072634481497\n",
            "MSE: 143.3223921948469\n",
            "RMSE: 11.971733048930172\n",
            "R2 Square 0.1302423789401722\n",
            "__________________________________\n"
          ]
        }
      ]
    },
    {
      "cell_type": "code",
      "source": [
        "from sklearn.linear_model import ElasticNet\n",
        "\n",
        "model = ElasticNet(alpha=0.1, l1_ratio=0.9, selection='random', random_state=42)\n",
        "model.fit(X_train, y_train)\n",
        "\n",
        "test_pred = model.predict(X_test)\n",
        "train_pred = model.predict(X_train)\n",
        "print(\"Elastic Net Regression\")\n",
        "print('---------------------------------')\n",
        "print('Test set evaluation:\\n_____________________________________')\n",
        "print_evaluate(y_test, test_pred)\n",
        "print('Train set evaluation:\\n_____________________________________')\n",
        "print_evaluate(y_train, train_pred)\n",
        "\n",
        "results_df_2 = pd.DataFrame(data=[[\"Elastic Net Regression\", *evaluate(y_test, test_pred) , cross_val(ElasticNet())]], \n",
        "                            columns=['Model', 'MAE', 'MSE', 'RMSE', 'R2 Square', \"Cross Validation\"])\n",
        "results_df = results_df.append(results_df_2, ignore_index=True)"
      ],
      "metadata": {
        "id": "iwarpQKCsFbG"
      },
      "execution_count": null,
      "outputs": []
    },
    {
      "cell_type": "code",
      "source": [
        "from sklearn.preprocessing import PolynomialFeatures\n",
        "\n",
        "poly_reg = PolynomialFeatures(degree=2)\n",
        "\n",
        "X_train_2_d = poly_reg.fit_transform(X_train)\n",
        "X_test_2_d = poly_reg.transform(X_test)\n",
        "\n",
        "lin_reg = LinearRegression(normalize=True)\n",
        "lin_reg.fit(X_train_2_d,y_train)\n",
        "\n",
        "test_pred = lin_reg.predict(X_test_2_d)\n",
        "train_pred = lin_reg.predict(X_train_2_d)\n",
        "print(\" Polynomial Regression\")\n",
        "print('---------------------------------')\n",
        "print('Test set evaluation:\\n_____________________________________')\n",
        "print_evaluate(y_test, test_pred)\n",
        "print('Train set evaluation:\\n_____________________________________')\n",
        "print_evaluate(y_train, train_pred)\n",
        "\n",
        "results_df_2 = pd.DataFrame(data=[[\"Polynomail Regression\", *evaluate(y_test, test_pred), 0]], \n",
        "                            columns=['Model', 'MAE', 'MSE', 'RMSE', 'R2 Square', 'Cross Validation'])\n",
        "results_df = results_df.append(results_df_2, ignore_index=True)"
      ],
      "metadata": {
        "id": "vBWuRE6EsIxg",
        "colab": {
          "base_uri": "https://localhost:8080/"
        },
        "outputId": "57c767d3-844d-4484-b908-0f182e89e13d"
      },
      "execution_count": null,
      "outputs": [
        {
          "output_type": "stream",
          "name": "stdout",
          "text": [
            " Polynomial Regression\n",
            "---------------------------------\n",
            "Test set evaluation:\n",
            "_____________________________________\n",
            "MAE: 3.970723424627408\n",
            "MSE: 26.96956074178546\n",
            "RMSE: 5.1932225777243035\n",
            "R2 Square 0.8198703530077188\n",
            "__________________________________\n",
            "Train set evaluation:\n",
            "_____________________________________\n",
            "MAE: 4.761480315210264\n",
            "MSE: 35.44077013722264\n",
            "RMSE: 5.95321510926849\n",
            "R2 Square 0.7849262808761069\n",
            "__________________________________\n"
          ]
        },
        {
          "output_type": "stream",
          "name": "stderr",
          "text": [
            "/usr/local/lib/python3.7/dist-packages/sklearn/linear_model/_base.py:145: FutureWarning: 'normalize' was deprecated in version 1.0 and will be removed in 1.2.\n",
            "If you wish to scale the data, use Pipeline with a StandardScaler in a preprocessing stage. To reproduce the previous behavior:\n",
            "\n",
            "from sklearn.pipeline import make_pipeline\n",
            "\n",
            "model = make_pipeline(StandardScaler(with_mean=False), LinearRegression())\n",
            "\n",
            "If you wish to pass a sample_weight parameter, you need to pass it as a fit parameter to each step of the pipeline as follows:\n",
            "\n",
            "kwargs = {s[0] + '__sample_weight': sample_weight for s in model.steps}\n",
            "model.fit(X, y, **kwargs)\n",
            "\n",
            "\n",
            "  FutureWarning,\n"
          ]
        }
      ]
    },
    {
      "cell_type": "code",
      "source": [
        "from sklearn.linear_model import SGDRegressor\n",
        "\n",
        "sgd_reg = SGDRegressor(n_iter_no_change=250, penalty=None, eta0=0.0001, max_iter=100000)\n",
        "sgd_reg.fit(X_train, y_train)\n",
        "\n",
        "test_pred = sgd_reg.predict(X_test)\n",
        "train_pred = sgd_reg.predict(X_train)\n",
        "print(\"Stochastic Gradient Descent\")\n",
        "print('---------------------------------')\n",
        "print('Test set evaluation:\\n_____________________________________')\n",
        "print_evaluate(y_test, test_pred)\n",
        "print('Train set evaluation:\\n_____________________________________')\n",
        "print_evaluate(y_train, train_pred)\n",
        "\n",
        "results_df_2 = pd.DataFrame(data=[[\"Stochastic Gradient Descent\", *evaluate(y_test, test_pred), 0]], \n",
        "                            columns=['Model', 'MAE', 'MSE', 'RMSE', 'R2 Square', 'Cross Validation'])\n",
        "results_df = results_df.append(results_df_2, ignore_index=True)\n"
      ],
      "metadata": {
        "id": "-FwCZexjsLFO",
        "colab": {
          "base_uri": "https://localhost:8080/"
        },
        "outputId": "85e17630-5997-4a81-f7c1-fa0ddffbb774"
      },
      "execution_count": null,
      "outputs": [
        {
          "output_type": "stream",
          "name": "stdout",
          "text": [
            "Stochastic Gradient Descent\n",
            "---------------------------------\n",
            "Test set evaluation:\n",
            "_____________________________________\n",
            "MAE: 8.361714965576565\n",
            "MSE: 91.90258169023808\n",
            "RMSE: 9.586583421127575\n",
            "R2 Square 0.38618282455400776\n",
            "__________________________________\n",
            "Train set evaluation:\n",
            "_____________________________________\n",
            "MAE: 9.346011486256694\n",
            "MSE: 107.00098184302804\n",
            "RMSE: 10.344127891853814\n",
            "R2 Square 0.350660298131669\n",
            "__________________________________\n"
          ]
        }
      ]
    },
    {
      "cell_type": "code",
      "source": [
        "from sklearn.ensemble import RandomForestRegressor\n",
        "\n",
        "rf_reg = RandomForestRegressor(n_estimators=100)\n",
        "rf_reg.fit(X_train, y_train)\n",
        "\n",
        "test_pred = rf_reg.predict(X_test)\n",
        "train_pred = rf_reg.predict(X_train)\n",
        "\n",
        "print(\"Random Forest Regressor\")\n",
        "print('---------------------------------')\n",
        "\n",
        "print('Test set evaluation:\\n_____________________________________')\n",
        "print_evaluate(y_test, test_pred)\n",
        "\n",
        "print('Train set evaluation:\\n_____________________________________')\n",
        "print_evaluate(y_train, train_pred)\n",
        "\n",
        "results_df_2 = pd.DataFrame(data=[[\"Random Forest Regressor\", *evaluate(y_test, test_pred), 0]], \n",
        "                            columns=['Model', 'MAE', 'MSE', 'RMSE', 'R2 Square', 'Cross Validation'])\n",
        "results_df = results_df.append(results_df_2, ignore_index=True)"
      ],
      "metadata": {
        "id": "RdQoTdOusWG8",
        "colab": {
          "base_uri": "https://localhost:8080/"
        },
        "outputId": "8aec0e1b-8ebb-4c0a-c2e8-c92d4e0dad14"
      },
      "execution_count": null,
      "outputs": [
        {
          "output_type": "stream",
          "name": "stdout",
          "text": [
            "Random Forest Regressor\n",
            "---------------------------------\n",
            "Test set evaluation:\n",
            "_____________________________________\n",
            "MAE: 0.14764864864864863\n",
            "MSE: 0.9117787837837837\n",
            "RMSE: 0.9548710822848201\n",
            "R2 Square 0.993910231166518\n",
            "__________________________________\n",
            "Train set evaluation:\n",
            "_____________________________________\n",
            "MAE: 0.09930232558139532\n",
            "MSE: 0.2637515116279069\n",
            "RMSE: 0.5135674363001483\n",
            "R2 Square 0.99839941349156\n",
            "__________________________________\n"
          ]
        }
      ]
    },
    {
      "cell_type": "code",
      "source": [
        "from sklearn.svm import SVR\n",
        "\n",
        "svm_reg = SVR(kernel='rbf', C=500, epsilon=0.001)\n",
        "svm_reg.fit(X_train, y_train)\n",
        "\n",
        "test_pred = svm_reg.predict(X_test)\n",
        "train_pred = svm_reg.predict(X_train)\n",
        "print(\"Support Vector Machine Regressor\")\n",
        "print('---------------------------------')\n",
        "print('Test set evaluation:\\n_____________________________________')\n",
        "print_evaluate(y_test, test_pred)\n",
        "\n",
        "print('Train set evaluation:\\n_____________________________________')\n",
        "print_evaluate(y_train, train_pred)\n",
        "\n",
        "results_df_2 = pd.DataFrame(data=[[\"SVM Regressor\", *evaluate(y_test, test_pred), 0]], \n",
        "                            columns=['Model', 'MAE', 'MSE', 'RMSE', 'R2 Square', 'Cross Validation'])\n",
        "results_df = results_df.append(results_df_2, ignore_index=True)"
      ],
      "metadata": {
        "id": "z5kbHkVasYMT",
        "colab": {
          "base_uri": "https://localhost:8080/"
        },
        "outputId": "b1a6c87b-4d9c-432a-d0b8-f8ac876faf07"
      },
      "execution_count": null,
      "outputs": [
        {
          "output_type": "stream",
          "name": "stdout",
          "text": [
            "Support Vector Machine Regressor\n",
            "---------------------------------\n",
            "Test set evaluation:\n",
            "_____________________________________\n",
            "MAE: 0.6366407354246996\n",
            "MSE: 3.011323901885845\n",
            "RMSE: 1.7353166575256072\n",
            "R2 Square 0.979887373153034\n",
            "__________________________________\n",
            "Train set evaluation:\n",
            "_____________________________________\n",
            "MAE: 0.6737413009548782\n",
            "MSE: 4.068303923028641\n",
            "RMSE: 2.0170036993096074\n",
            "R2 Square 0.9753113362981602\n",
            "__________________________________\n"
          ]
        }
      ]
    },
    {
      "cell_type": "code",
      "source": [
        "import tensorflow as tf \n",
        "from tensorflow import keras\n",
        "from tensorflow.keras.preprocessing import image\n",
        "from tensorflow.keras.models import Sequential\n",
        "from tensorflow.keras import layers\n",
        "from tensorflow.keras.layers import Dense, Activation, Flatten, Dropout, BatchNormalization,Embedding\n",
        "from tensorflow.keras.layers import Conv2D, MaxPooling2D,LSTM,Bidirectional,Attention,Concatenate\n",
        "from tensorflow.keras.layers import DepthwiseConv2D,Add, ReLU, GlobalAveragePooling2D, GlobalMaxPooling2D\n",
        "from tensorflow.keras.layers import Activation,ActivityRegularization, AvgPool2D\n",
        "from tensorflow.keras import regularizers, optimizers,losses\n",
        "from tensorflow.keras.metrics import Recall,Precision,AUC,TruePositives,TrueNegatives,FalseNegatives,FalsePositives, SpecificityAtSensitivity,SensitivityAtSpecificity\n",
        "from tensorflow.keras.metrics import CategoricalAccuracy, BinaryAccuracy\n",
        "from tensorflow.keras.utils import plot_model\n",
        "from tensorflow.keras.utils import to_categorical\n",
        "from sklearn.model_selection import train_test_split\n",
        "\n",
        "import matplotlib.pyplot as plt\n",
        "\n",
        "\n",
        "X_train = np.array(X_train)\n",
        "X_test = np.array(X_test)\n",
        "y_train = np.array(y_train)\n",
        "y_test = np.array(y_test)\n",
        "\n",
        "model = Sequential()\n",
        "\n",
        "model.add(Dense(X_train.shape[1], activation='relu'))\n",
        "model.add(Dense(32, activation='relu'))\n",
        "model.add(Dropout(0.1))\n",
        "model.add(Dense(256, activation='relu'))\n",
        "model.add(Dropout(0.21))\n",
        "model.add(Dense(32, activation='relu'))\n",
        "model.add(Dropout(0.1))\n",
        "model.add(Dense(1))\n",
        "\n",
        "model.compile(optimizer=keras.optimizers.Adam(0.00001), loss='mse',metrics='mae')\n",
        "\n",
        "r = model.fit(X_train, y_train,\n",
        "              validation_data=(X_test,y_test),\n",
        "              batch_size=1,\n",
        "              epochs=100)\n"
      ],
      "metadata": {
        "id": "D6Lg4TVOsZ1X",
        "colab": {
          "base_uri": "https://localhost:8080/"
        },
        "outputId": "405f3113-20e0-4e49-86dd-ce38001018bb"
      },
      "execution_count": null,
      "outputs": [
        {
          "output_type": "stream",
          "name": "stdout",
          "text": [
            "Epoch 1/100\n",
            "430/430 [==============================] - 2s 3ms/step - loss: 2015.0907 - mae: 43.0012 - val_loss: 1995.2094 - val_mae: 42.9512\n",
            "Epoch 2/100\n",
            "430/430 [==============================] - 1s 2ms/step - loss: 2007.6547 - mae: 42.9064 - val_loss: 1986.0994 - val_mae: 42.8417\n",
            "Epoch 3/100\n",
            "430/430 [==============================] - 1s 2ms/step - loss: 1997.5668 - mae: 42.7802 - val_loss: 1974.4630 - val_mae: 42.7025\n",
            "Epoch 4/100\n",
            "430/430 [==============================] - 1s 2ms/step - loss: 1984.2681 - mae: 42.6092 - val_loss: 1959.4086 - val_mae: 42.5235\n",
            "Epoch 5/100\n",
            "430/430 [==============================] - 1s 2ms/step - loss: 1967.0439 - mae: 42.4009 - val_loss: 1938.9878 - val_mae: 42.2839\n",
            "Epoch 6/100\n",
            "430/430 [==============================] - 1s 2ms/step - loss: 1943.7163 - mae: 42.1447 - val_loss: 1910.9636 - val_mae: 41.9648\n",
            "Epoch 7/100\n",
            "430/430 [==============================] - 1s 2ms/step - loss: 1912.7308 - mae: 41.8127 - val_loss: 1876.0172 - val_mae: 41.5629\n",
            "Epoch 8/100\n",
            "430/430 [==============================] - 1s 3ms/step - loss: 1877.1146 - mae: 41.4266 - val_loss: 1834.9412 - val_mae: 41.0839\n",
            "Epoch 9/100\n",
            "430/430 [==============================] - 1s 2ms/step - loss: 1832.0851 - mae: 40.9074 - val_loss: 1785.4973 - val_mae: 40.4966\n",
            "Epoch 10/100\n",
            "430/430 [==============================] - 1s 2ms/step - loss: 1786.8738 - mae: 40.4176 - val_loss: 1730.2919 - val_mae: 39.8283\n",
            "Epoch 11/100\n",
            "430/430 [==============================] - 1s 3ms/step - loss: 1725.1198 - mae: 39.6903 - val_loss: 1665.7966 - val_mae: 39.0287\n",
            "Epoch 12/100\n",
            "430/430 [==============================] - 1s 2ms/step - loss: 1665.7637 - mae: 38.9419 - val_loss: 1593.6685 - val_mae: 38.1086\n",
            "Epoch 13/100\n",
            "430/430 [==============================] - 1s 2ms/step - loss: 1589.6768 - mae: 38.0031 - val_loss: 1514.5419 - val_mae: 37.0651\n",
            "Epoch 14/100\n",
            "430/430 [==============================] - 1s 2ms/step - loss: 1513.1887 - mae: 36.9596 - val_loss: 1431.6973 - val_mae: 35.9351\n",
            "Epoch 15/100\n",
            "430/430 [==============================] - 1s 2ms/step - loss: 1434.0848 - mae: 35.9311 - val_loss: 1347.5144 - val_mae: 34.7483\n",
            "Epoch 16/100\n",
            "430/430 [==============================] - 1s 2ms/step - loss: 1361.0616 - mae: 34.8398 - val_loss: 1261.0272 - val_mae: 33.4749\n",
            "Epoch 17/100\n",
            "430/430 [==============================] - 1s 2ms/step - loss: 1281.6506 - mae: 33.6650 - val_loss: 1177.0015 - val_mae: 32.2068\n",
            "Epoch 18/100\n",
            "430/430 [==============================] - 1s 3ms/step - loss: 1206.6932 - mae: 32.4589 - val_loss: 1094.2008 - val_mae: 30.9126\n",
            "Epoch 19/100\n",
            "430/430 [==============================] - 1s 3ms/step - loss: 1134.6101 - mae: 31.2648 - val_loss: 1012.8636 - val_mae: 29.5875\n",
            "Epoch 20/100\n",
            "430/430 [==============================] - 1s 2ms/step - loss: 1062.7489 - mae: 29.9954 - val_loss: 935.2348 - val_mae: 28.2650\n",
            "Epoch 21/100\n",
            "430/430 [==============================] - 1s 2ms/step - loss: 985.6556 - mae: 28.5208 - val_loss: 860.5682 - val_mae: 26.9333\n",
            "Epoch 22/100\n",
            "430/430 [==============================] - 1s 2ms/step - loss: 900.2473 - mae: 27.1607 - val_loss: 788.5049 - val_mae: 25.5762\n",
            "Epoch 23/100\n",
            "430/430 [==============================] - 1s 3ms/step - loss: 860.9919 - mae: 26.0724 - val_loss: 720.9073 - val_mae: 24.2438\n",
            "Epoch 24/100\n",
            "430/430 [==============================] - 1s 2ms/step - loss: 783.6556 - mae: 24.7153 - val_loss: 656.3841 - val_mae: 22.9072\n",
            "Epoch 25/100\n",
            "430/430 [==============================] - 1s 2ms/step - loss: 743.9105 - mae: 23.5807 - val_loss: 595.3950 - val_mae: 21.5707\n",
            "Epoch 26/100\n",
            "430/430 [==============================] - 1s 2ms/step - loss: 670.3854 - mae: 22.1190 - val_loss: 534.8297 - val_mae: 20.1382\n",
            "Epoch 27/100\n",
            "430/430 [==============================] - 1s 2ms/step - loss: 602.8330 - mae: 20.7938 - val_loss: 483.5563 - val_mae: 18.8825\n",
            "Epoch 28/100\n",
            "430/430 [==============================] - 1s 2ms/step - loss: 617.1949 - mae: 19.8486 - val_loss: 437.0423 - val_mae: 17.6892\n",
            "Epoch 29/100\n",
            "430/430 [==============================] - 1s 2ms/step - loss: 531.5001 - mae: 18.2844 - val_loss: 393.0931 - val_mae: 16.4648\n",
            "Epoch 30/100\n",
            "430/430 [==============================] - 1s 2ms/step - loss: 491.6589 - mae: 17.2538 - val_loss: 352.8220 - val_mae: 15.2703\n",
            "Epoch 31/100\n",
            "430/430 [==============================] - 1s 2ms/step - loss: 471.4115 - mae: 16.1931 - val_loss: 317.9918 - val_mae: 14.1986\n",
            "Epoch 32/100\n",
            "430/430 [==============================] - 1s 2ms/step - loss: 422.1887 - mae: 15.2848 - val_loss: 285.4735 - val_mae: 13.1581\n",
            "Epoch 33/100\n",
            "430/430 [==============================] - 1s 2ms/step - loss: 412.1747 - mae: 14.1912 - val_loss: 255.8837 - val_mae: 12.1924\n",
            "Epoch 34/100\n",
            "430/430 [==============================] - 2s 4ms/step - loss: 367.0431 - mae: 13.3521 - val_loss: 230.2236 - val_mae: 11.3012\n",
            "Epoch 35/100\n",
            "430/430 [==============================] - 1s 2ms/step - loss: 352.9326 - mae: 12.4073 - val_loss: 208.7799 - val_mae: 10.5363\n",
            "Epoch 36/100\n",
            "430/430 [==============================] - 1s 2ms/step - loss: 331.3697 - mae: 11.8643 - val_loss: 189.2579 - val_mae: 9.7918\n",
            "Epoch 37/100\n",
            "430/430 [==============================] - 1s 2ms/step - loss: 346.4416 - mae: 11.2119 - val_loss: 174.3725 - val_mae: 9.2661\n",
            "Epoch 38/100\n",
            "430/430 [==============================] - 1s 2ms/step - loss: 303.5568 - mae: 11.2635 - val_loss: 159.2794 - val_mae: 8.6712\n",
            "Epoch 39/100\n",
            "430/430 [==============================] - 1s 2ms/step - loss: 278.0069 - mae: 10.5272 - val_loss: 146.9356 - val_mae: 8.2002\n",
            "Epoch 40/100\n",
            "430/430 [==============================] - 1s 2ms/step - loss: 267.6760 - mae: 10.0628 - val_loss: 136.1212 - val_mae: 7.7863\n",
            "Epoch 41/100\n",
            "430/430 [==============================] - 1s 2ms/step - loss: 263.7709 - mae: 9.7690 - val_loss: 126.7274 - val_mae: 7.4091\n",
            "Epoch 42/100\n",
            "430/430 [==============================] - 1s 3ms/step - loss: 265.6567 - mae: 9.5840 - val_loss: 119.0185 - val_mae: 7.1074\n",
            "Epoch 43/100\n",
            "430/430 [==============================] - 1s 2ms/step - loss: 260.6852 - mae: 9.4627 - val_loss: 111.9590 - val_mae: 6.8166\n",
            "Epoch 44/100\n",
            "430/430 [==============================] - 1s 3ms/step - loss: 246.0190 - mae: 9.4796 - val_loss: 106.6331 - val_mae: 6.5847\n",
            "Epoch 45/100\n",
            "430/430 [==============================] - 1s 3ms/step - loss: 227.1591 - mae: 9.0777 - val_loss: 101.8458 - val_mae: 6.3620\n",
            "Epoch 46/100\n",
            "430/430 [==============================] - 1s 3ms/step - loss: 232.8535 - mae: 8.9925 - val_loss: 98.1822 - val_mae: 6.2312\n",
            "Epoch 47/100\n",
            "430/430 [==============================] - 1s 2ms/step - loss: 235.9701 - mae: 9.0772 - val_loss: 95.1305 - val_mae: 6.1421\n",
            "Epoch 48/100\n",
            "430/430 [==============================] - 1s 2ms/step - loss: 225.4483 - mae: 8.9076 - val_loss: 92.4325 - val_mae: 6.0659\n",
            "Epoch 49/100\n",
            "430/430 [==============================] - 1s 2ms/step - loss: 199.2950 - mae: 8.5000 - val_loss: 90.1217 - val_mae: 5.9839\n",
            "Epoch 50/100\n",
            "430/430 [==============================] - 1s 2ms/step - loss: 202.5918 - mae: 8.4308 - val_loss: 88.2312 - val_mae: 5.9494\n",
            "Epoch 51/100\n",
            "430/430 [==============================] - 1s 2ms/step - loss: 176.7473 - mae: 8.0191 - val_loss: 85.9630 - val_mae: 5.8309\n",
            "Epoch 52/100\n",
            "430/430 [==============================] - 1s 2ms/step - loss: 212.9768 - mae: 8.8035 - val_loss: 84.0468 - val_mae: 5.7938\n",
            "Epoch 53/100\n",
            "430/430 [==============================] - 1s 2ms/step - loss: 170.9040 - mae: 8.4037 - val_loss: 82.3652 - val_mae: 5.7568\n",
            "Epoch 54/100\n",
            "430/430 [==============================] - 1s 3ms/step - loss: 199.4466 - mae: 8.5301 - val_loss: 81.1965 - val_mae: 5.7867\n",
            "Epoch 55/100\n",
            "430/430 [==============================] - 1s 3ms/step - loss: 192.9814 - mae: 8.6134 - val_loss: 80.5768 - val_mae: 5.8603\n",
            "Epoch 56/100\n",
            "430/430 [==============================] - 1s 3ms/step - loss: 210.2670 - mae: 8.9115 - val_loss: 79.3998 - val_mae: 5.8682\n",
            "Epoch 57/100\n",
            "430/430 [==============================] - 1s 3ms/step - loss: 172.8969 - mae: 8.0928 - val_loss: 78.3807 - val_mae: 5.8738\n",
            "Epoch 58/100\n",
            "430/430 [==============================] - 1s 2ms/step - loss: 181.5586 - mae: 8.4633 - val_loss: 77.9641 - val_mae: 5.9340\n",
            "Epoch 59/100\n",
            "430/430 [==============================] - 1s 2ms/step - loss: 168.4998 - mae: 8.1869 - val_loss: 76.8572 - val_mae: 5.9146\n",
            "Epoch 60/100\n",
            "430/430 [==============================] - 1s 3ms/step - loss: 164.1065 - mae: 8.3909 - val_loss: 76.1682 - val_mae: 5.9130\n",
            "Epoch 61/100\n",
            "430/430 [==============================] - 1s 3ms/step - loss: 186.6981 - mae: 8.6628 - val_loss: 75.8113 - val_mae: 5.9691\n",
            "Epoch 62/100\n",
            "430/430 [==============================] - 1s 3ms/step - loss: 163.8109 - mae: 8.3377 - val_loss: 74.9677 - val_mae: 5.9520\n",
            "Epoch 63/100\n",
            "430/430 [==============================] - 1s 3ms/step - loss: 149.2446 - mae: 8.2904 - val_loss: 74.4875 - val_mae: 5.9636\n",
            "Epoch 64/100\n",
            "430/430 [==============================] - 1s 3ms/step - loss: 164.1801 - mae: 8.1864 - val_loss: 74.0778 - val_mae: 6.0027\n",
            "Epoch 65/100\n",
            "430/430 [==============================] - 1s 2ms/step - loss: 150.3489 - mae: 8.1403 - val_loss: 73.6710 - val_mae: 6.0152\n",
            "Epoch 66/100\n",
            "430/430 [==============================] - 1s 2ms/step - loss: 160.9711 - mae: 8.1774 - val_loss: 73.1210 - val_mae: 6.0396\n",
            "Epoch 67/100\n",
            "430/430 [==============================] - 1s 2ms/step - loss: 164.9349 - mae: 8.4382 - val_loss: 72.7030 - val_mae: 6.0740\n",
            "Epoch 68/100\n",
            "430/430 [==============================] - 1s 3ms/step - loss: 160.0062 - mae: 8.7889 - val_loss: 71.9264 - val_mae: 6.0510\n",
            "Epoch 69/100\n",
            "430/430 [==============================] - 1s 2ms/step - loss: 149.0411 - mae: 8.2508 - val_loss: 71.4868 - val_mae: 6.0892\n",
            "Epoch 70/100\n",
            "430/430 [==============================] - 1s 2ms/step - loss: 149.0834 - mae: 8.0599 - val_loss: 71.2964 - val_mae: 6.1200\n",
            "Epoch 71/100\n",
            "430/430 [==============================] - 1s 3ms/step - loss: 163.0903 - mae: 8.5186 - val_loss: 71.0117 - val_mae: 6.1465\n",
            "Epoch 72/100\n",
            "430/430 [==============================] - 1s 2ms/step - loss: 156.4067 - mae: 8.5236 - val_loss: 70.7411 - val_mae: 6.1686\n",
            "Epoch 73/100\n",
            "430/430 [==============================] - 1s 2ms/step - loss: 141.2346 - mae: 8.2742 - val_loss: 70.5045 - val_mae: 6.1725\n",
            "Epoch 74/100\n",
            "430/430 [==============================] - 1s 2ms/step - loss: 149.3011 - mae: 8.1700 - val_loss: 70.1844 - val_mae: 6.2038\n",
            "Epoch 75/100\n",
            "430/430 [==============================] - 1s 2ms/step - loss: 143.1561 - mae: 8.4194 - val_loss: 69.8805 - val_mae: 6.2174\n",
            "Epoch 76/100\n",
            "430/430 [==============================] - 1s 2ms/step - loss: 155.8404 - mae: 8.6772 - val_loss: 69.6481 - val_mae: 6.2324\n",
            "Epoch 77/100\n",
            "430/430 [==============================] - 1s 2ms/step - loss: 151.6644 - mae: 8.5937 - val_loss: 69.2116 - val_mae: 6.2540\n",
            "Epoch 78/100\n",
            "430/430 [==============================] - 1s 2ms/step - loss: 139.4370 - mae: 8.3925 - val_loss: 69.0615 - val_mae: 6.2529\n",
            "Epoch 79/100\n",
            "430/430 [==============================] - 1s 2ms/step - loss: 138.1894 - mae: 8.0935 - val_loss: 68.7118 - val_mae: 6.2585\n",
            "Epoch 80/100\n",
            "430/430 [==============================] - 1s 2ms/step - loss: 137.6193 - mae: 8.3198 - val_loss: 68.4175 - val_mae: 6.2671\n",
            "Epoch 81/100\n",
            "430/430 [==============================] - 1s 2ms/step - loss: 138.2920 - mae: 8.3348 - val_loss: 68.1448 - val_mae: 6.2717\n",
            "Epoch 82/100\n",
            "430/430 [==============================] - 1s 3ms/step - loss: 136.5838 - mae: 8.3676 - val_loss: 67.6361 - val_mae: 6.2677\n",
            "Epoch 83/100\n",
            "430/430 [==============================] - 1s 2ms/step - loss: 130.7250 - mae: 8.3176 - val_loss: 67.0790 - val_mae: 6.2580\n",
            "Epoch 84/100\n",
            "430/430 [==============================] - 1s 2ms/step - loss: 143.4346 - mae: 8.5885 - val_loss: 66.8176 - val_mae: 6.2587\n",
            "Epoch 85/100\n",
            "430/430 [==============================] - 1s 2ms/step - loss: 132.8383 - mae: 8.3008 - val_loss: 66.5990 - val_mae: 6.2498\n",
            "Epoch 86/100\n",
            "430/430 [==============================] - 1s 2ms/step - loss: 135.3813 - mae: 8.2703 - val_loss: 66.7962 - val_mae: 6.2472\n",
            "Epoch 87/100\n",
            "430/430 [==============================] - 1s 2ms/step - loss: 131.3562 - mae: 8.3287 - val_loss: 66.0594 - val_mae: 6.2624\n",
            "Epoch 88/100\n",
            "430/430 [==============================] - 1s 2ms/step - loss: 133.0829 - mae: 8.1280 - val_loss: 65.8181 - val_mae: 6.2544\n",
            "Epoch 89/100\n",
            "430/430 [==============================] - 1s 2ms/step - loss: 122.6251 - mae: 7.9952 - val_loss: 65.3662 - val_mae: 6.2501\n",
            "Epoch 90/100\n",
            "430/430 [==============================] - 1s 2ms/step - loss: 131.3668 - mae: 8.4461 - val_loss: 65.0178 - val_mae: 6.2468\n",
            "Epoch 91/100\n",
            "430/430 [==============================] - 1s 3ms/step - loss: 134.1271 - mae: 8.2739 - val_loss: 64.6554 - val_mae: 6.2373\n",
            "Epoch 92/100\n",
            "430/430 [==============================] - 1s 2ms/step - loss: 132.6074 - mae: 8.0234 - val_loss: 64.5048 - val_mae: 6.2307\n",
            "Epoch 93/100\n",
            "430/430 [==============================] - 1s 2ms/step - loss: 123.6648 - mae: 8.0119 - val_loss: 64.2062 - val_mae: 6.2196\n",
            "Epoch 94/100\n",
            "430/430 [==============================] - 1s 3ms/step - loss: 129.6483 - mae: 8.1086 - val_loss: 63.3863 - val_mae: 6.2171\n",
            "Epoch 95/100\n",
            "430/430 [==============================] - 1s 2ms/step - loss: 131.8579 - mae: 8.5293 - val_loss: 63.2191 - val_mae: 6.2060\n",
            "Epoch 96/100\n",
            "430/430 [==============================] - 1s 2ms/step - loss: 126.0200 - mae: 8.0469 - val_loss: 62.8244 - val_mae: 6.1944\n",
            "Epoch 97/100\n",
            "430/430 [==============================] - 1s 2ms/step - loss: 124.9525 - mae: 8.2331 - val_loss: 62.3638 - val_mae: 6.1796\n",
            "Epoch 98/100\n",
            "430/430 [==============================] - 1s 2ms/step - loss: 118.7557 - mae: 7.8448 - val_loss: 61.8198 - val_mae: 6.1686\n",
            "Epoch 99/100\n",
            "430/430 [==============================] - 1s 3ms/step - loss: 130.8246 - mae: 8.4689 - val_loss: 61.1271 - val_mae: 6.1623\n",
            "Epoch 100/100\n",
            "430/430 [==============================] - 1s 2ms/step - loss: 134.2127 - mae: 8.4834 - val_loss: 61.1363 - val_mae: 6.1638\n"
          ]
        }
      ]
    },
    {
      "cell_type": "code",
      "source": [
        "test_pred = model.predict(X_test)\n",
        "train_pred = model.predict(X_train)\n",
        "print(\"ANN1\")\n",
        "print('---------------------------------')\n",
        "print('Test set evaluation:\\n_____________________________________')\n",
        "print_evaluate(y_test, test_pred)\n",
        "\n",
        "print('Train set evaluation:\\n_____________________________________')\n",
        "print_evaluate(y_train, train_pred)\n",
        "\n",
        "results_df_2 = pd.DataFrame(data=[[\"Artficial Neural Network1\", *evaluate(y_test, test_pred), 0]], \n",
        "                            columns=['Model', 'MAE', 'MSE', 'RMSE', 'R2 Square', 'Cross Validation'])\n",
        "results_df = results_df.append(results_df_2, ignore_index=True)"
      ],
      "metadata": {
        "id": "DFySdATgsdzl",
        "colab": {
          "base_uri": "https://localhost:8080/"
        },
        "outputId": "a6b600a6-8014-4f11-b889-3dcc18e14c18"
      },
      "execution_count": null,
      "outputs": [
        {
          "output_type": "stream",
          "name": "stdout",
          "text": [
            "ANN1\n",
            "---------------------------------\n",
            "Test set evaluation:\n",
            "_____________________________________\n",
            "MAE: 6.363095154633394\n",
            "MSE: 61.48894162268336\n",
            "RMSE: 7.8414884825958495\n",
            "R2 Square 0.589315471079872\n",
            "__________________________________\n",
            "Train set evaluation:\n",
            "_____________________________________\n",
            "MAE: 7.209026372155478\n",
            "MSE: 77.17846201769531\n",
            "RMSE: 8.785127319378775\n",
            "R2 Square 0.5316394424235653\n",
            "__________________________________\n"
          ]
        }
      ]
    },
    {
      "cell_type": "code",
      "source": [
        "model = Sequential()\n",
        "\n",
        "model.add(Dense(X_train.shape[1], activation='relu'))\n",
        "model.add(Dense(512, activation='relu'))\n",
        "model.add(BatchNormalization(axis=-1))\n",
        "model.add(Dropout(0.1))\n",
        "model.add(Dense(256, activation='sigmoid'))\n",
        "model.add(Dropout(0.1))\n",
        "model.add(Dense(1))\n",
        "\n",
        "model.compile(optimizer=keras.optimizers.Adam(), loss='mse',metrics='mae')\n",
        "\n",
        "r = model.fit(X_train, y_train,\n",
        "              validation_data=(X_test,y_test),\n",
        "              batch_size=1,\n",
        "              epochs=100)"
      ],
      "metadata": {
        "id": "xcLsQv6fsvQh",
        "colab": {
          "base_uri": "https://localhost:8080/"
        },
        "outputId": "e51769a4-ab94-441b-d589-84ef0b198b38"
      },
      "execution_count": null,
      "outputs": [
        {
          "output_type": "stream",
          "name": "stdout",
          "text": [
            "Epoch 1/100\n",
            "430/430 [==============================] - 2s 3ms/step - loss: 471.7986 - mae: 16.5464 - val_loss: 150.7639 - val_mae: 10.4974\n",
            "Epoch 2/100\n",
            "430/430 [==============================] - 1s 3ms/step - loss: 168.8352 - mae: 11.2779 - val_loss: 153.2591 - val_mae: 10.8486\n",
            "Epoch 3/100\n",
            "430/430 [==============================] - 1s 3ms/step - loss: 167.3180 - mae: 11.3855 - val_loss: 156.3817 - val_mae: 10.4363\n",
            "Epoch 4/100\n",
            "430/430 [==============================] - 1s 3ms/step - loss: 168.7637 - mae: 11.3594 - val_loss: 156.5488 - val_mae: 10.4361\n",
            "Epoch 5/100\n",
            "430/430 [==============================] - 1s 3ms/step - loss: 167.5949 - mae: 11.3354 - val_loss: 154.1444 - val_mae: 10.7500\n",
            "Epoch 6/100\n",
            "430/430 [==============================] - 1s 3ms/step - loss: 167.1133 - mae: 11.2145 - val_loss: 154.7359 - val_mae: 11.1637\n",
            "Epoch 7/100\n",
            "430/430 [==============================] - 1s 3ms/step - loss: 167.2596 - mae: 11.3213 - val_loss: 153.7274 - val_mae: 11.0271\n",
            "Epoch 8/100\n",
            "430/430 [==============================] - 1s 3ms/step - loss: 166.3367 - mae: 11.2686 - val_loss: 153.0222 - val_mae: 10.7521\n",
            "Epoch 9/100\n",
            "430/430 [==============================] - 1s 3ms/step - loss: 167.8936 - mae: 11.3607 - val_loss: 152.6718 - val_mae: 10.8047\n",
            "Epoch 10/100\n",
            "430/430 [==============================] - 1s 3ms/step - loss: 168.7604 - mae: 11.3506 - val_loss: 152.6446 - val_mae: 10.7865\n",
            "Epoch 11/100\n",
            "430/430 [==============================] - 1s 3ms/step - loss: 167.0302 - mae: 11.2765 - val_loss: 152.5900 - val_mae: 10.8225\n",
            "Epoch 12/100\n",
            "430/430 [==============================] - 1s 3ms/step - loss: 167.3481 - mae: 11.3372 - val_loss: 152.6373 - val_mae: 10.9722\n",
            "Epoch 13/100\n",
            "430/430 [==============================] - 1s 3ms/step - loss: 169.5228 - mae: 11.4091 - val_loss: 152.3227 - val_mae: 10.7698\n",
            "Epoch 14/100\n",
            "430/430 [==============================] - 1s 3ms/step - loss: 164.9857 - mae: 11.2253 - val_loss: 153.0663 - val_mae: 10.6250\n",
            "Epoch 15/100\n",
            "430/430 [==============================] - 1s 3ms/step - loss: 166.9156 - mae: 11.3612 - val_loss: 155.0252 - val_mae: 10.3941\n",
            "Epoch 16/100\n",
            "430/430 [==============================] - 1s 3ms/step - loss: 167.6390 - mae: 11.0591 - val_loss: 152.2020 - val_mae: 10.8967\n",
            "Epoch 17/100\n",
            "430/430 [==============================] - 1s 3ms/step - loss: 167.7877 - mae: 11.3435 - val_loss: 152.1173 - val_mae: 10.9021\n",
            "Epoch 18/100\n",
            "430/430 [==============================] - 1s 3ms/step - loss: 169.8107 - mae: 11.4154 - val_loss: 151.8413 - val_mae: 10.7291\n",
            "Epoch 19/100\n",
            "430/430 [==============================] - 1s 3ms/step - loss: 170.4777 - mae: 11.4442 - val_loss: 151.7002 - val_mae: 10.7462\n",
            "Epoch 20/100\n",
            "430/430 [==============================] - 1s 3ms/step - loss: 166.2695 - mae: 11.2800 - val_loss: 151.7811 - val_mae: 10.7937\n",
            "Epoch 21/100\n",
            "430/430 [==============================] - 1s 3ms/step - loss: 167.8336 - mae: 11.3000 - val_loss: 151.4266 - val_mae: 10.7624\n",
            "Epoch 22/100\n",
            "430/430 [==============================] - 1s 3ms/step - loss: 166.5572 - mae: 11.2517 - val_loss: 152.1317 - val_mae: 11.0866\n",
            "Epoch 23/100\n",
            "430/430 [==============================] - 1s 3ms/step - loss: 166.1599 - mae: 11.2728 - val_loss: 152.1341 - val_mae: 11.1254\n",
            "Epoch 24/100\n",
            "430/430 [==============================] - 1s 3ms/step - loss: 169.7895 - mae: 11.4115 - val_loss: 151.1983 - val_mae: 10.7111\n",
            "Epoch 25/100\n",
            "430/430 [==============================] - 1s 3ms/step - loss: 169.0699 - mae: 11.3175 - val_loss: 150.8913 - val_mae: 10.7780\n",
            "Epoch 26/100\n",
            "430/430 [==============================] - 1s 3ms/step - loss: 166.0057 - mae: 11.2619 - val_loss: 151.0402 - val_mae: 10.6795\n",
            "Epoch 27/100\n",
            "430/430 [==============================] - 1s 3ms/step - loss: 167.1390 - mae: 11.1964 - val_loss: 152.0677 - val_mae: 11.1390\n",
            "Epoch 28/100\n",
            "430/430 [==============================] - 1s 3ms/step - loss: 169.0218 - mae: 11.4392 - val_loss: 150.6001 - val_mae: 10.7945\n",
            "Epoch 29/100\n",
            "430/430 [==============================] - 1s 3ms/step - loss: 170.4553 - mae: 11.4825 - val_loss: 151.2800 - val_mae: 10.5810\n",
            "Epoch 30/100\n",
            "430/430 [==============================] - 1s 3ms/step - loss: 170.0179 - mae: 11.3491 - val_loss: 150.5589 - val_mae: 10.9038\n",
            "Epoch 31/100\n",
            "430/430 [==============================] - 1s 3ms/step - loss: 168.2132 - mae: 11.3524 - val_loss: 151.5584 - val_mae: 10.5209\n",
            "Epoch 32/100\n",
            "430/430 [==============================] - 1s 3ms/step - loss: 165.9053 - mae: 11.2270 - val_loss: 150.3996 - val_mae: 10.8757\n",
            "Epoch 33/100\n",
            "430/430 [==============================] - 1s 3ms/step - loss: 168.2583 - mae: 11.3562 - val_loss: 150.4108 - val_mae: 10.6757\n",
            "Epoch 34/100\n",
            "430/430 [==============================] - 1s 3ms/step - loss: 165.2134 - mae: 11.2324 - val_loss: 151.5488 - val_mae: 10.4630\n",
            "Epoch 35/100\n",
            "430/430 [==============================] - 1s 3ms/step - loss: 166.4211 - mae: 11.2317 - val_loss: 151.1271 - val_mae: 10.4990\n",
            "Epoch 36/100\n",
            "430/430 [==============================] - 1s 3ms/step - loss: 167.9249 - mae: 11.2485 - val_loss: 151.6209 - val_mae: 11.1387\n",
            "Epoch 37/100\n",
            "430/430 [==============================] - 1s 3ms/step - loss: 166.0934 - mae: 11.3427 - val_loss: 151.7848 - val_mae: 10.4238\n",
            "Epoch 38/100\n",
            "430/430 [==============================] - 1s 3ms/step - loss: 169.7446 - mae: 11.4281 - val_loss: 151.8416 - val_mae: 10.4118\n",
            "Epoch 39/100\n",
            "430/430 [==============================] - 1s 3ms/step - loss: 167.1514 - mae: 11.2177 - val_loss: 149.9484 - val_mae: 10.8525\n",
            "Epoch 40/100\n",
            "430/430 [==============================] - 1s 3ms/step - loss: 169.7127 - mae: 11.3955 - val_loss: 149.8351 - val_mae: 10.7909\n",
            "Epoch 41/100\n",
            "430/430 [==============================] - 1s 3ms/step - loss: 164.8116 - mae: 11.1648 - val_loss: 152.5062 - val_mae: 11.2330\n",
            "Epoch 42/100\n",
            "430/430 [==============================] - 1s 3ms/step - loss: 166.6363 - mae: 11.3717 - val_loss: 150.2280 - val_mae: 10.6087\n",
            "Epoch 43/100\n",
            "430/430 [==============================] - 1s 3ms/step - loss: 168.5141 - mae: 11.3222 - val_loss: 150.2507 - val_mae: 10.6100\n",
            "Epoch 44/100\n",
            "430/430 [==============================] - 1s 3ms/step - loss: 168.6035 - mae: 11.3934 - val_loss: 150.0413 - val_mae: 10.6508\n",
            "Epoch 45/100\n",
            "430/430 [==============================] - 1s 3ms/step - loss: 164.1402 - mae: 11.2016 - val_loss: 150.5355 - val_mae: 10.5553\n",
            "Epoch 46/100\n",
            "430/430 [==============================] - 1s 3ms/step - loss: 167.2964 - mae: 11.3501 - val_loss: 152.0926 - val_mae: 10.3690\n",
            "Epoch 47/100\n",
            "430/430 [==============================] - 1s 3ms/step - loss: 167.0339 - mae: 11.2993 - val_loss: 149.8229 - val_mae: 10.7427\n",
            "Epoch 48/100\n",
            "430/430 [==============================] - 1s 3ms/step - loss: 166.4169 - mae: 11.2472 - val_loss: 149.7921 - val_mae: 10.7530\n",
            "Epoch 49/100\n",
            "430/430 [==============================] - 1s 3ms/step - loss: 166.0455 - mae: 11.2578 - val_loss: 149.8840 - val_mae: 10.6977\n",
            "Epoch 50/100\n",
            "430/430 [==============================] - 1s 3ms/step - loss: 167.8117 - mae: 11.3162 - val_loss: 150.9297 - val_mae: 10.4847\n",
            "Epoch 51/100\n",
            "430/430 [==============================] - 1s 3ms/step - loss: 171.2088 - mae: 11.4605 - val_loss: 150.0216 - val_mae: 10.6386\n",
            "Epoch 52/100\n",
            "430/430 [==============================] - 1s 3ms/step - loss: 167.6487 - mae: 11.2489 - val_loss: 150.6981 - val_mae: 11.0475\n",
            "Epoch 53/100\n",
            "430/430 [==============================] - 1s 3ms/step - loss: 170.1229 - mae: 11.5109 - val_loss: 151.0513 - val_mae: 10.4693\n",
            "Epoch 54/100\n",
            "430/430 [==============================] - 1s 3ms/step - loss: 169.0567 - mae: 11.2646 - val_loss: 150.5335 - val_mae: 11.0235\n",
            "Epoch 55/100\n",
            "430/430 [==============================] - 1s 3ms/step - loss: 167.5190 - mae: 11.2649 - val_loss: 149.8676 - val_mae: 10.8713\n",
            "Epoch 56/100\n",
            "430/430 [==============================] - 1s 3ms/step - loss: 168.8454 - mae: 11.3773 - val_loss: 149.8198 - val_mae: 10.8531\n",
            "Epoch 57/100\n",
            "430/430 [==============================] - 1s 3ms/step - loss: 166.8369 - mae: 11.4030 - val_loss: 157.0268 - val_mae: 10.0540\n",
            "Epoch 58/100\n",
            "430/430 [==============================] - 1s 3ms/step - loss: 170.0741 - mae: 11.2799 - val_loss: 149.8003 - val_mae: 10.7238\n",
            "Epoch 59/100\n",
            "430/430 [==============================] - 1s 3ms/step - loss: 168.3666 - mae: 11.3541 - val_loss: 149.8010 - val_mae: 10.7237\n",
            "Epoch 60/100\n",
            "430/430 [==============================] - 1s 3ms/step - loss: 165.4822 - mae: 11.1801 - val_loss: 151.1434 - val_mae: 11.1059\n",
            "Epoch 61/100\n",
            "430/430 [==============================] - 1s 3ms/step - loss: 168.6587 - mae: 11.4244 - val_loss: 151.1106 - val_mae: 10.4601\n",
            "Epoch 62/100\n",
            "430/430 [==============================] - 1s 3ms/step - loss: 165.6123 - mae: 11.0703 - val_loss: 151.7623 - val_mae: 11.1719\n",
            "Epoch 63/100\n",
            "430/430 [==============================] - 1s 3ms/step - loss: 167.2266 - mae: 11.3957 - val_loss: 149.7524 - val_mae: 10.7521\n",
            "Epoch 64/100\n",
            "430/430 [==============================] - 1s 3ms/step - loss: 164.2355 - mae: 11.1175 - val_loss: 151.7969 - val_mae: 11.1751\n",
            "Epoch 65/100\n",
            "430/430 [==============================] - 1s 3ms/step - loss: 167.3376 - mae: 11.4038 - val_loss: 150.2495 - val_mae: 10.5844\n",
            "Epoch 66/100\n",
            "430/430 [==============================] - 1s 3ms/step - loss: 168.9634 - mae: 11.3449 - val_loss: 149.7441 - val_mae: 10.7741\n",
            "Epoch 67/100\n",
            "430/430 [==============================] - 1s 3ms/step - loss: 168.6021 - mae: 11.3622 - val_loss: 149.7407 - val_mae: 10.7800\n",
            "Epoch 68/100\n",
            "430/430 [==============================] - 1s 3ms/step - loss: 167.1125 - mae: 11.3642 - val_loss: 151.1760 - val_mae: 10.4505\n",
            "Epoch 69/100\n",
            "430/430 [==============================] - 1s 3ms/step - loss: 168.8555 - mae: 11.2489 - val_loss: 150.2480 - val_mae: 10.9776\n",
            "Epoch 70/100\n",
            "430/430 [==============================] - 1s 3ms/step - loss: 166.8982 - mae: 11.3041 - val_loss: 150.3684 - val_mae: 10.9999\n",
            "Epoch 71/100\n",
            "430/430 [==============================] - 1s 3ms/step - loss: 167.2184 - mae: 11.3875 - val_loss: 149.7863 - val_mae: 10.7167\n",
            "Epoch 72/100\n",
            "430/430 [==============================] - 1s 3ms/step - loss: 167.0403 - mae: 11.2811 - val_loss: 149.7323 - val_mae: 10.7717\n",
            "Epoch 73/100\n",
            "430/430 [==============================] - 1s 3ms/step - loss: 166.0800 - mae: 11.2265 - val_loss: 149.9801 - val_mae: 10.9173\n",
            "Epoch 74/100\n",
            "430/430 [==============================] - 1s 3ms/step - loss: 168.4884 - mae: 11.3768 - val_loss: 149.9705 - val_mae: 10.6439\n",
            "Epoch 75/100\n",
            "430/430 [==============================] - 1s 3ms/step - loss: 168.4356 - mae: 11.3374 - val_loss: 149.7777 - val_mae: 10.8405\n",
            "Epoch 76/100\n",
            "430/430 [==============================] - 1s 3ms/step - loss: 168.1919 - mae: 11.4033 - val_loss: 150.1074 - val_mae: 10.6107\n",
            "Epoch 77/100\n",
            "430/430 [==============================] - 1s 3ms/step - loss: 166.5634 - mae: 11.2240 - val_loss: 149.7524 - val_mae: 10.8230\n",
            "Epoch 78/100\n",
            "430/430 [==============================] - 1s 3ms/step - loss: 169.7850 - mae: 11.3694 - val_loss: 149.7543 - val_mae: 10.8251\n",
            "Epoch 79/100\n",
            "430/430 [==============================] - 1s 3ms/step - loss: 167.1854 - mae: 11.2742 - val_loss: 150.7455 - val_mae: 11.0580\n",
            "Epoch 80/100\n",
            "430/430 [==============================] - 1s 3ms/step - loss: 167.1926 - mae: 11.3597 - val_loss: 149.8267 - val_mae: 10.6922\n",
            "Epoch 81/100\n",
            "430/430 [==============================] - 1s 3ms/step - loss: 166.9174 - mae: 11.2351 - val_loss: 150.1324 - val_mae: 10.9556\n",
            "Epoch 82/100\n",
            "430/430 [==============================] - 1s 3ms/step - loss: 170.3322 - mae: 11.4441 - val_loss: 149.9826 - val_mae: 10.9195\n",
            "Epoch 83/100\n",
            "430/430 [==============================] - 1s 3ms/step - loss: 170.0722 - mae: 11.4140 - val_loss: 149.8192 - val_mae: 10.8640\n",
            "Epoch 84/100\n",
            "430/430 [==============================] - 1s 3ms/step - loss: 169.4689 - mae: 11.3766 - val_loss: 149.9367 - val_mae: 10.6527\n",
            "Epoch 85/100\n",
            "430/430 [==============================] - 1s 3ms/step - loss: 166.4766 - mae: 11.2645 - val_loss: 149.7269 - val_mae: 10.7937\n",
            "Epoch 86/100\n",
            "430/430 [==============================] - 1s 3ms/step - loss: 167.6345 - mae: 11.3299 - val_loss: 153.3440 - val_mae: 10.2641\n",
            "Epoch 87/100\n",
            "430/430 [==============================] - 1s 3ms/step - loss: 166.7382 - mae: 11.2799 - val_loss: 150.1945 - val_mae: 10.5905\n",
            "Epoch 88/100\n",
            "430/430 [==============================] - 1s 3ms/step - loss: 167.9189 - mae: 11.2093 - val_loss: 151.8034 - val_mae: 11.1771\n",
            "Epoch 89/100\n",
            "430/430 [==============================] - 1s 3ms/step - loss: 166.1163 - mae: 11.3313 - val_loss: 149.8522 - val_mae: 10.6808\n",
            "Epoch 90/100\n",
            "430/430 [==============================] - 1s 3ms/step - loss: 166.3215 - mae: 11.2138 - val_loss: 149.7237 - val_mae: 10.7818\n",
            "Epoch 91/100\n",
            "430/430 [==============================] - 1s 3ms/step - loss: 170.1330 - mae: 11.5000 - val_loss: 149.7308 - val_mae: 10.8029\n",
            "Epoch 92/100\n",
            "430/430 [==============================] - 1s 3ms/step - loss: 168.0339 - mae: 11.3645 - val_loss: 149.7283 - val_mae: 10.7977\n",
            "Epoch 93/100\n",
            "430/430 [==============================] - 1s 3ms/step - loss: 165.7193 - mae: 11.3168 - val_loss: 150.0871 - val_mae: 10.6135\n",
            "Epoch 94/100\n",
            "430/430 [==============================] - 1s 3ms/step - loss: 166.9392 - mae: 11.2580 - val_loss: 150.2415 - val_mae: 10.9779\n",
            "Epoch 95/100\n",
            "430/430 [==============================] - 1s 3ms/step - loss: 168.9573 - mae: 11.4228 - val_loss: 150.8876 - val_mae: 10.4823\n",
            "Epoch 96/100\n",
            "430/430 [==============================] - 1s 3ms/step - loss: 166.0919 - mae: 11.2574 - val_loss: 152.5982 - val_mae: 10.3189\n",
            "Epoch 97/100\n",
            "430/430 [==============================] - 1s 3ms/step - loss: 166.7848 - mae: 11.1776 - val_loss: 150.0965 - val_mae: 10.9479\n",
            "Epoch 98/100\n",
            "430/430 [==============================] - 1s 3ms/step - loss: 167.4007 - mae: 11.3957 - val_loss: 151.7975 - val_mae: 10.3866\n",
            "Epoch 99/100\n",
            "430/430 [==============================] - 1s 3ms/step - loss: 169.5698 - mae: 11.3594 - val_loss: 149.7323 - val_mae: 10.7535\n",
            "Epoch 100/100\n",
            "430/430 [==============================] - 1s 3ms/step - loss: 165.0616 - mae: 11.3250 - val_loss: 153.5454 - val_mae: 10.2502\n"
          ]
        }
      ]
    },
    {
      "cell_type": "code",
      "source": [
        "test_pred = model.predict(X_test)\n",
        "train_pred = model.predict(X_train)\n",
        "print(\"ANN2\")\n",
        "print('---------------------------------')\n",
        "print('Test set evaluation:\\n_____________________________________')\n",
        "print_evaluate(y_test, test_pred)\n",
        "\n",
        "print('Train set evaluation:\\n_____________________________________')\n",
        "print_evaluate(y_train, train_pred)\n",
        "\n",
        "results_df_2 = pd.DataFrame(data=[[\"Artficial Neural Network2\", *evaluate(y_test, test_pred), 0]], \n",
        "                            columns=['Model', 'MAE', 'MSE', 'RMSE', 'R2 Square', 'Cross Validation'])\n",
        "results_df = results_df.append(results_df_2, ignore_index=True)"
      ],
      "metadata": {
        "id": "OFPlV0vDtXLW",
        "colab": {
          "base_uri": "https://localhost:8080/"
        },
        "outputId": "7191f617-f0f1-400a-a74c-56c397e962f8"
      },
      "execution_count": null,
      "outputs": [
        {
          "output_type": "stream",
          "name": "stdout",
          "text": [
            "ANN2\n",
            "---------------------------------\n",
            "Test set evaluation:\n",
            "_____________________________________\n",
            "MAE: 10.250193415461359\n",
            "MSE: 153.54546752998658\n",
            "RMSE: 12.391346477682987\n",
            "R2 Square -0.02552989751104917\n",
            "__________________________________\n",
            "Train set evaluation:\n",
            "_____________________________________\n",
            "MAE: 10.877167129516602\n",
            "MSE: 168.75093547897166\n",
            "RMSE: 12.990417063319086\n",
            "R2 Square -0.02407174445060667\n",
            "__________________________________\n"
          ]
        }
      ]
    },
    {
      "cell_type": "code",
      "source": [
        "results_df"
      ],
      "metadata": {
        "id": "PnnycEKOucva",
        "colab": {
          "base_uri": "https://localhost:8080/",
          "height": 457
        },
        "outputId": "e5bb7d1a-c123-41b9-d4bf-b85b83a7b1fb"
      },
      "execution_count": null,
      "outputs": [
        {
          "output_type": "execute_result",
          "data": {
            "text/plain": [
              "                          Model        MAE         MSE       RMSE  R2 Square  \\\n",
              "0             Linear Regression   8.300234   90.336899   9.504573   0.396640   \n",
              "1             Robust Regression   9.690742  274.468983  16.567105  -0.833178   \n",
              "2              Ridge Regression   8.803736   96.298680   9.813189   0.356821   \n",
              "3              Lasso Regression  10.892963  144.069502  12.002896   0.037760   \n",
              "4              Lasso Regression  10.892963  144.069502  12.002896   0.037760   \n",
              "5        Elastic Net Regression   8.402193   91.357270   9.558100   0.389825   \n",
              "6         Polynomail Regression   3.970723   26.969561   5.193223   0.819870   \n",
              "7         Polynomail Regression   3.970723   26.969561   5.193223   0.819870   \n",
              "8   Stochastic Gradient Descent   8.361794   91.903137   9.586612   0.386179   \n",
              "9       Random Forest Regressor   0.142919    0.907732   0.952750   0.993937   \n",
              "10                SVM Regressor   0.636641    3.011324   1.735317   0.979887   \n",
              "11    Artficial Neural Network1   6.363095   61.488942   7.841488   0.589315   \n",
              "12    Artficial Neural Network2  10.250193  153.545468  12.391346  -0.025530   \n",
              "\n",
              "    Cross Validation  \n",
              "0        -213.620414  \n",
              "1        -381.458418  \n",
              "2        -232.681748  \n",
              "3        -230.474677  \n",
              "4        -230.474677  \n",
              "5        -228.369711  \n",
              "6           0.000000  \n",
              "7           0.000000  \n",
              "8           0.000000  \n",
              "9           0.000000  \n",
              "10          0.000000  \n",
              "11          0.000000  \n",
              "12          0.000000  "
            ],
            "text/html": [
              "\n",
              "  <div id=\"df-1bd557ba-11de-4ede-bcd6-441b629c4b92\">\n",
              "    <div class=\"colab-df-container\">\n",
              "      <div>\n",
              "<style scoped>\n",
              "    .dataframe tbody tr th:only-of-type {\n",
              "        vertical-align: middle;\n",
              "    }\n",
              "\n",
              "    .dataframe tbody tr th {\n",
              "        vertical-align: top;\n",
              "    }\n",
              "\n",
              "    .dataframe thead th {\n",
              "        text-align: right;\n",
              "    }\n",
              "</style>\n",
              "<table border=\"1\" class=\"dataframe\">\n",
              "  <thead>\n",
              "    <tr style=\"text-align: right;\">\n",
              "      <th></th>\n",
              "      <th>Model</th>\n",
              "      <th>MAE</th>\n",
              "      <th>MSE</th>\n",
              "      <th>RMSE</th>\n",
              "      <th>R2 Square</th>\n",
              "      <th>Cross Validation</th>\n",
              "    </tr>\n",
              "  </thead>\n",
              "  <tbody>\n",
              "    <tr>\n",
              "      <th>0</th>\n",
              "      <td>Linear Regression</td>\n",
              "      <td>8.300234</td>\n",
              "      <td>90.336899</td>\n",
              "      <td>9.504573</td>\n",
              "      <td>0.396640</td>\n",
              "      <td>-213.620414</td>\n",
              "    </tr>\n",
              "    <tr>\n",
              "      <th>1</th>\n",
              "      <td>Robust Regression</td>\n",
              "      <td>9.690742</td>\n",
              "      <td>274.468983</td>\n",
              "      <td>16.567105</td>\n",
              "      <td>-0.833178</td>\n",
              "      <td>-381.458418</td>\n",
              "    </tr>\n",
              "    <tr>\n",
              "      <th>2</th>\n",
              "      <td>Ridge Regression</td>\n",
              "      <td>8.803736</td>\n",
              "      <td>96.298680</td>\n",
              "      <td>9.813189</td>\n",
              "      <td>0.356821</td>\n",
              "      <td>-232.681748</td>\n",
              "    </tr>\n",
              "    <tr>\n",
              "      <th>3</th>\n",
              "      <td>Lasso Regression</td>\n",
              "      <td>10.892963</td>\n",
              "      <td>144.069502</td>\n",
              "      <td>12.002896</td>\n",
              "      <td>0.037760</td>\n",
              "      <td>-230.474677</td>\n",
              "    </tr>\n",
              "    <tr>\n",
              "      <th>4</th>\n",
              "      <td>Lasso Regression</td>\n",
              "      <td>10.892963</td>\n",
              "      <td>144.069502</td>\n",
              "      <td>12.002896</td>\n",
              "      <td>0.037760</td>\n",
              "      <td>-230.474677</td>\n",
              "    </tr>\n",
              "    <tr>\n",
              "      <th>5</th>\n",
              "      <td>Elastic Net Regression</td>\n",
              "      <td>8.402193</td>\n",
              "      <td>91.357270</td>\n",
              "      <td>9.558100</td>\n",
              "      <td>0.389825</td>\n",
              "      <td>-228.369711</td>\n",
              "    </tr>\n",
              "    <tr>\n",
              "      <th>6</th>\n",
              "      <td>Polynomail Regression</td>\n",
              "      <td>3.970723</td>\n",
              "      <td>26.969561</td>\n",
              "      <td>5.193223</td>\n",
              "      <td>0.819870</td>\n",
              "      <td>0.000000</td>\n",
              "    </tr>\n",
              "    <tr>\n",
              "      <th>7</th>\n",
              "      <td>Polynomail Regression</td>\n",
              "      <td>3.970723</td>\n",
              "      <td>26.969561</td>\n",
              "      <td>5.193223</td>\n",
              "      <td>0.819870</td>\n",
              "      <td>0.000000</td>\n",
              "    </tr>\n",
              "    <tr>\n",
              "      <th>8</th>\n",
              "      <td>Stochastic Gradient Descent</td>\n",
              "      <td>8.361794</td>\n",
              "      <td>91.903137</td>\n",
              "      <td>9.586612</td>\n",
              "      <td>0.386179</td>\n",
              "      <td>0.000000</td>\n",
              "    </tr>\n",
              "    <tr>\n",
              "      <th>9</th>\n",
              "      <td>Random Forest Regressor</td>\n",
              "      <td>0.142919</td>\n",
              "      <td>0.907732</td>\n",
              "      <td>0.952750</td>\n",
              "      <td>0.993937</td>\n",
              "      <td>0.000000</td>\n",
              "    </tr>\n",
              "    <tr>\n",
              "      <th>10</th>\n",
              "      <td>SVM Regressor</td>\n",
              "      <td>0.636641</td>\n",
              "      <td>3.011324</td>\n",
              "      <td>1.735317</td>\n",
              "      <td>0.979887</td>\n",
              "      <td>0.000000</td>\n",
              "    </tr>\n",
              "    <tr>\n",
              "      <th>11</th>\n",
              "      <td>Artficial Neural Network1</td>\n",
              "      <td>6.363095</td>\n",
              "      <td>61.488942</td>\n",
              "      <td>7.841488</td>\n",
              "      <td>0.589315</td>\n",
              "      <td>0.000000</td>\n",
              "    </tr>\n",
              "    <tr>\n",
              "      <th>12</th>\n",
              "      <td>Artficial Neural Network2</td>\n",
              "      <td>10.250193</td>\n",
              "      <td>153.545468</td>\n",
              "      <td>12.391346</td>\n",
              "      <td>-0.025530</td>\n",
              "      <td>0.000000</td>\n",
              "    </tr>\n",
              "  </tbody>\n",
              "</table>\n",
              "</div>\n",
              "      <button class=\"colab-df-convert\" onclick=\"convertToInteractive('df-1bd557ba-11de-4ede-bcd6-441b629c4b92')\"\n",
              "              title=\"Convert this dataframe to an interactive table.\"\n",
              "              style=\"display:none;\">\n",
              "        \n",
              "  <svg xmlns=\"http://www.w3.org/2000/svg\" height=\"24px\"viewBox=\"0 0 24 24\"\n",
              "       width=\"24px\">\n",
              "    <path d=\"M0 0h24v24H0V0z\" fill=\"none\"/>\n",
              "    <path d=\"M18.56 5.44l.94 2.06.94-2.06 2.06-.94-2.06-.94-.94-2.06-.94 2.06-2.06.94zm-11 1L8.5 8.5l.94-2.06 2.06-.94-2.06-.94L8.5 2.5l-.94 2.06-2.06.94zm10 10l.94 2.06.94-2.06 2.06-.94-2.06-.94-.94-2.06-.94 2.06-2.06.94z\"/><path d=\"M17.41 7.96l-1.37-1.37c-.4-.4-.92-.59-1.43-.59-.52 0-1.04.2-1.43.59L10.3 9.45l-7.72 7.72c-.78.78-.78 2.05 0 2.83L4 21.41c.39.39.9.59 1.41.59.51 0 1.02-.2 1.41-.59l7.78-7.78 2.81-2.81c.8-.78.8-2.07 0-2.86zM5.41 20L4 18.59l7.72-7.72 1.47 1.35L5.41 20z\"/>\n",
              "  </svg>\n",
              "      </button>\n",
              "      \n",
              "  <style>\n",
              "    .colab-df-container {\n",
              "      display:flex;\n",
              "      flex-wrap:wrap;\n",
              "      gap: 12px;\n",
              "    }\n",
              "\n",
              "    .colab-df-convert {\n",
              "      background-color: #E8F0FE;\n",
              "      border: none;\n",
              "      border-radius: 50%;\n",
              "      cursor: pointer;\n",
              "      display: none;\n",
              "      fill: #1967D2;\n",
              "      height: 32px;\n",
              "      padding: 0 0 0 0;\n",
              "      width: 32px;\n",
              "    }\n",
              "\n",
              "    .colab-df-convert:hover {\n",
              "      background-color: #E2EBFA;\n",
              "      box-shadow: 0px 1px 2px rgba(60, 64, 67, 0.3), 0px 1px 3px 1px rgba(60, 64, 67, 0.15);\n",
              "      fill: #174EA6;\n",
              "    }\n",
              "\n",
              "    [theme=dark] .colab-df-convert {\n",
              "      background-color: #3B4455;\n",
              "      fill: #D2E3FC;\n",
              "    }\n",
              "\n",
              "    [theme=dark] .colab-df-convert:hover {\n",
              "      background-color: #434B5C;\n",
              "      box-shadow: 0px 1px 3px 1px rgba(0, 0, 0, 0.15);\n",
              "      filter: drop-shadow(0px 1px 2px rgba(0, 0, 0, 0.3));\n",
              "      fill: #FFFFFF;\n",
              "    }\n",
              "  </style>\n",
              "\n",
              "      <script>\n",
              "        const buttonEl =\n",
              "          document.querySelector('#df-1bd557ba-11de-4ede-bcd6-441b629c4b92 button.colab-df-convert');\n",
              "        buttonEl.style.display =\n",
              "          google.colab.kernel.accessAllowed ? 'block' : 'none';\n",
              "\n",
              "        async function convertToInteractive(key) {\n",
              "          const element = document.querySelector('#df-1bd557ba-11de-4ede-bcd6-441b629c4b92');\n",
              "          const dataTable =\n",
              "            await google.colab.kernel.invokeFunction('convertToInteractive',\n",
              "                                                     [key], {});\n",
              "          if (!dataTable) return;\n",
              "\n",
              "          const docLinkHtml = 'Like what you see? Visit the ' +\n",
              "            '<a target=\"_blank\" href=https://colab.research.google.com/notebooks/data_table.ipynb>data table notebook</a>'\n",
              "            + ' to learn more about interactive tables.';\n",
              "          element.innerHTML = '';\n",
              "          dataTable['output_type'] = 'display_data';\n",
              "          await google.colab.output.renderOutput(dataTable, element);\n",
              "          const docLink = document.createElement('div');\n",
              "          docLink.innerHTML = docLinkHtml;\n",
              "          element.appendChild(docLink);\n",
              "        }\n",
              "      </script>\n",
              "    </div>\n",
              "  </div>\n",
              "  "
            ]
          },
          "metadata": {},
          "execution_count": 41
        }
      ]
    },
    {
      "cell_type": "code",
      "source": [
        "pd.DataFrame.from_dict(results_df).to_csv('results_shaim.csv',index=False)"
      ],
      "metadata": {
        "id": "DuF5KEZdu_XA"
      },
      "execution_count": null,
      "outputs": []
    },
    {
      "cell_type": "code",
      "source": [],
      "metadata": {
        "id": "9Ez0HbSCvrmZ"
      },
      "execution_count": null,
      "outputs": []
    },
    {
      "cell_type": "code",
      "source": [
        "test_pred = svm_reg.predict(X_test)\n",
        "sns.regplot(test_pred,y_test,ci=None)\n",
        "#plt.plot(test_pred,y_test)\n",
        "plt.title(\"SVR Test\")\n",
        "plt.xlabel('Prediction')\n",
        "plt.ylabel('Actual')"
      ],
      "metadata": {
        "id": "NLMp6GNmvGLo",
        "colab": {
          "base_uri": "https://localhost:8080/",
          "height": 369
        },
        "outputId": "5bd7daa0-738d-44b7-9a6a-c3ddb6a7dab8"
      },
      "execution_count": null,
      "outputs": [
        {
          "output_type": "stream",
          "name": "stderr",
          "text": [
            "/usr/local/lib/python3.7/dist-packages/seaborn/_decorators.py:43: FutureWarning: Pass the following variables as keyword args: x, y. From version 0.12, the only valid positional argument will be `data`, and passing other arguments without an explicit keyword will result in an error or misinterpretation.\n",
            "  FutureWarning\n"
          ]
        },
        {
          "output_type": "execute_result",
          "data": {
            "text/plain": [
              "Text(0, 0.5, 'Actual')"
            ]
          },
          "metadata": {},
          "execution_count": 43
        },
        {
          "output_type": "display_data",
          "data": {
            "text/plain": [
              "<Figure size 432x288 with 1 Axes>"
            ],
            "image/png": "[encoded data removed]"
          },
          "metadata": {
            "needs_background": "light"
          }
        }
      ]
    },
    {
      "cell_type": "code",
      "source": [
        "test_pred = svm_reg.predict(X_train)\n",
        "sns.regplot(test_pred,y_train,ci=None)\n",
        "#plt.plot(test_pred,y_test)\n",
        "plt.title(\"SVR Train\")\n",
        "plt.xlabel('Prediction')\n",
        "plt.ylabel('Actual')"
      ],
      "metadata": {
        "id": "Gt2PcQd8y9YR",
        "colab": {
          "base_uri": "https://localhost:8080/",
          "height": 369
        },
        "outputId": "573cd9dc-b5bd-4e0f-deb5-351b3487a39d"
      },
      "execution_count": null,
      "outputs": [
        {
          "output_type": "stream",
          "name": "stderr",
          "text": [
            "/usr/local/lib/python3.7/dist-packages/seaborn/_decorators.py:43: FutureWarning: Pass the following variables as keyword args: x, y. From version 0.12, the only valid positional argument will be `data`, and passing other arguments without an explicit keyword will result in an error or misinterpretation.\n",
            "  FutureWarning\n"
          ]
        },
        {
          "output_type": "execute_result",
          "data": {
            "text/plain": [
              "Text(0, 0.5, 'Actual')"
            ]
          },
          "metadata": {},
          "execution_count": 44
        },
        {
          "output_type": "display_data",
          "data": {
            "text/plain": [
              "<Figure size 432x288 with 1 Axes>"
            ],
            "image/png": "[encoded data removed]"
          },
          "metadata": {
            "needs_background": "light"
          }
        }
      ]
    },
    {
      "cell_type": "code",
      "source": [
        "test_pred = rf_reg.predict(X_test)\n",
        "sns.regplot(test_pred,y_test,ci=None)\n",
        "#plt.plot(test_pred,y_test)\n",
        "plt.title(\"RF Test\")\n",
        "plt.xlabel('Prediction')\n",
        "plt.ylabel('Actual')"
      ],
      "metadata": {
        "id": "IPDrgtjTw6Dz",
        "colab": {
          "base_uri": "https://localhost:8080/",
          "height": 369
        },
        "outputId": "682b74b5-d98e-41af-bdd2-905953838fa7"
      },
      "execution_count": null,
      "outputs": [
        {
          "output_type": "stream",
          "name": "stderr",
          "text": [
            "/usr/local/lib/python3.7/dist-packages/seaborn/_decorators.py:43: FutureWarning: Pass the following variables as keyword args: x, y. From version 0.12, the only valid positional argument will be `data`, and passing other arguments without an explicit keyword will result in an error or misinterpretation.\n",
            "  FutureWarning\n"
          ]
        },
        {
          "output_type": "execute_result",
          "data": {
            "text/plain": [
              "Text(0, 0.5, 'Actual')"
            ]
          },
          "metadata": {},
          "execution_count": 45
        },
        {
          "output_type": "display_data",
          "data": {
            "text/plain": [
              "<Figure size 432x288 with 1 Axes>"
            ],
            "image/png": "[encoded data removed]"
          },
          "metadata": {
            "needs_background": "light"
          }
        }
      ]
    },
    {
      "cell_type": "code",
      "source": [
        "test_pred = rf_reg.predict(X_train)\n",
        "sns.regplot(test_pred,y_train,ci=None)\n",
        "#plt.plot(test_pred,y_test)\n",
        "plt.title(\"RF Train\")\n",
        "plt.xlabel('Prediction')\n",
        "plt.ylabel('Actual')"
      ],
      "metadata": {
        "id": "kQMJ0ZEszHdL",
        "colab": {
          "base_uri": "https://localhost:8080/",
          "height": 369
        },
        "outputId": "89254b41-3b2d-4e93-8715-b0d945a3e0f6"
      },
      "execution_count": null,
      "outputs": [
        {
          "output_type": "stream",
          "name": "stderr",
          "text": [
            "/usr/local/lib/python3.7/dist-packages/seaborn/_decorators.py:43: FutureWarning: Pass the following variables as keyword args: x, y. From version 0.12, the only valid positional argument will be `data`, and passing other arguments without an explicit keyword will result in an error or misinterpretation.\n",
            "  FutureWarning\n"
          ]
        },
        {
          "output_type": "execute_result",
          "data": {
            "text/plain": [
              "Text(0, 0.5, 'Actual')"
            ]
          },
          "metadata": {},
          "execution_count": 46
        },
        {
          "output_type": "display_data",
          "data": {
            "text/plain": [
              "<Figure size 432x288 with 1 Axes>"
            ],
            "image/png": "[encoded data removed]"
          },
          "metadata": {
            "needs_background": "light"
          }
        }
      ]
    },
    {
      "cell_type": "code",
      "source": [],
      "metadata": {
        "id": "LA1iqY6nzO2J"
      },
      "execution_count": null,
      "outputs": []
    }
  ]
}