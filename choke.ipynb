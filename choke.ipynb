{
  "nbformat": 4,
  "nbformat_minor": 0,
  "metadata": {
    "colab": {
      "provenance": [],
      "authorship_tag": "ABX9TyOuPOvl777lOp5wRPNLRMvd",
      "include_colab_link": true
    },
    "kernelspec": {
      "name": "python3",
      "display_name": "Python 3"
    },
    "language_info": {
      "name": "python"
    }
  },
  "cells": [
    {
      "cell_type": "markdown",
      "metadata": {
        "id": "view-in-github",
        "colab_type": "text"
      },
      "source": [
        "<a href=\"https://colab.research.google.com/github/1o-o1/Choke-size-prediction/blob/main/choke.ipynb\" target=\"_parent\"><img src=\"https://colab.research.google.com/assets/colab-badge.svg\" alt=\"Open In Colab\"/></a>"
      ]
    },
    {
      "cell_type": "code",
      "execution_count": null,
      "metadata": {
        "id": "9mrH2rzpTSo5"
      },
      "outputs": [],
      "source": [
        "import pandas as pd\n",
        "import seaborn as sns\n",
        "import matplotlib.pyplot as plt\n",
        "import numpy as np"
      ]
    },
    {
      "cell_type": "code",
      "source": [
        "# Google Drive Mount\n",
        "from google.colab import drive\n",
        "drive.mount('/content/drive')\n",
        "\n",
        "%cd /content/drive/MyDrive/Colab Notebooks/\n",
        "%ls"
      ],
      "metadata": {
        "colab": {
          "base_uri": "https://localhost:8080/"
        },
        "id": "WqG_c49GT-Nu",
        "outputId": "cbc19870-b6d3-4a5f-b1e4-81de4991b7f1"
      },
      "execution_count": null,
      "outputs": [
        {
          "output_type": "stream",
          "name": "stdout",
          "text": [
            "Mounted at /content/drive\n",
            "/content/drive/MyDrive/Colab Notebooks\n",
            " Accuracy.ipynb\n",
            " Accuracy.png\n",
            " \u001b[0m\u001b[01;34mcatdog\u001b[0m/\n",
            " Catdog1F1.png\n",
            " Catdog1loss.png\n",
            " catdogmodel.h5\n",
            " catdogt1.ipynb\n",
            "'Copy of catdogt1.ipynb'\n",
            "'Copy of image_classification_part1.ipynb'\n",
            "'Copy of Machine Learning Engineer | Sabbir.ipynb'\n",
            " F1Score.ipynb\n",
            " F1Score.png\n",
            "'Final Results - f1.csv'\n",
            "'Final Results - Sheet2.csv'\n",
            " heart.ipynb\n",
            " \u001b[01;34mhorse\u001b[0m/\n",
            " image.png\n",
            " img2.PNG\n",
            " img3.PNG\n",
            "'Machine Learning Engineer | Sabbir.ipynb'\n",
            " ocr2.ipynb\n",
            " ocr.ipynb\n",
            " Resultgen2.csv\n",
            " Resultgen3.csv\n",
            " Resultgen.csv\n",
            " Resultgen.gsheet\n",
            " Untitled0.ipynb\n",
            " \u001b[01;34mvolvo\u001b[0m/\n"
          ]
        }
      ]
    },
    {
      "cell_type": "code",
      "source": [
        "df=pd.read_csv('volvo/dataset.csv')"
      ],
      "metadata": {
        "id": "pmRfaGV_T__P"
      },
      "execution_count": null,
      "outputs": []
    },
    {
      "cell_type": "code",
      "source": [
        "df.head()"
      ],
      "metadata": {
        "colab": {
          "base_uri": "https://localhost:8080/",
          "height": 270
        },
        "id": "7LIiKftMUMFA",
        "outputId": "61cf0434-9b8b-49ea-cf80-266214ec118f"
      },
      "execution_count": null,
      "outputs": [
        {
          "output_type": "execute_result",
          "data": {
            "text/plain": [
              "   ON_STREAM_HRS  AVG_DOWNHOLE_PRESSURE  AVG_DOWNHOLE_TEMPERATURE  \\\n",
              "0            0.0                  0.000                     0.000   \n",
              "1            0.0                    NaN                       NaN   \n",
              "2            0.0                    NaN                       NaN   \n",
              "3            0.0                    NaN                       NaN   \n",
              "4            0.0                310.376                    96.876   \n",
              "\n",
              "   AVG_DP_TUBING  AVG_ANNULUS_PRESS  AVG_CHOKE_SIZE_P  AVG_WHP_P  AVG_WHT_P  \\\n",
              "0          0.000                0.0           0.00000      0.000       0.00   \n",
              "1            NaN                0.0           1.00306      0.000       0.00   \n",
              "2            NaN                0.0           0.97901      0.000       0.00   \n",
              "3            NaN                0.0           0.54576      0.000       0.00   \n",
              "4        277.278                0.0           1.21599     33.098      10.48   \n",
              "\n",
              "   DP_CHOKE_SIZE BORE_OIL_VOL BORE_GAS_VOL BORE_WAT_VOL BORE_WI_VOL  \n",
              "0          0.000            0            0            0         NaN  \n",
              "1          0.000            0            0            0         NaN  \n",
              "2          0.000            0            0            0         NaN  \n",
              "3          0.000            0            0            0         NaN  \n",
              "4         33.072            0            0            0         NaN  "
            ],
            "text/html": [
              "\n",
              "  <div id=\"df-2b87bc60-3c9c-4d01-b1d1-13164bc55aa5\">\n",
              "    <div class=\"colab-df-container\">\n",
              "      <div>\n",
              "<style scoped>\n",
              "    .dataframe tbody tr th:only-of-type {\n",
              "        vertical-align: middle;\n",
              "    }\n",
              "\n",
              "    .dataframe tbody tr th {\n",
              "        vertical-align: top;\n",
              "    }\n",
              "\n",
              "    .dataframe thead th {\n",
              "        text-align: right;\n",
              "    }\n",
              "</style>\n",
              "<table border=\"1\" class=\"dataframe\">\n",
              "  <thead>\n",
              "    <tr style=\"text-align: right;\">\n",
              "      <th></th>\n",
              "      <th>ON_STREAM_HRS</th>\n",
              "      <th>AVG_DOWNHOLE_PRESSURE</th>\n",
              "      <th>AVG_DOWNHOLE_TEMPERATURE</th>\n",
              "      <th>AVG_DP_TUBING</th>\n",
              "      <th>AVG_ANNULUS_PRESS</th>\n",
              "      <th>AVG_CHOKE_SIZE_P</th>\n",
              "      <th>AVG_WHP_P</th>\n",
              "      <th>AVG_WHT_P</th>\n",
              "      <th>DP_CHOKE_SIZE</th>\n",
              "      <th>BORE_OIL_VOL</th>\n",
              "      <th>BORE_GAS_VOL</th>\n",
              "      <th>BORE_WAT_VOL</th>\n",
              "      <th>BORE_WI_VOL</th>\n",
              "    </tr>\n",
              "  </thead>\n",
              "  <tbody>\n",
              "    <tr>\n",
              "      <th>0</th>\n",
              "      <td>0.0</td>\n",
              "      <td>0.000</td>\n",
              "      <td>0.000</td>\n",
              "      <td>0.000</td>\n",
              "      <td>0.0</td>\n",
              "      <td>0.00000</td>\n",
              "      <td>0.000</td>\n",
              "      <td>0.00</td>\n",
              "      <td>0.000</td>\n",
              "      <td>0</td>\n",
              "      <td>0</td>\n",
              "      <td>0</td>\n",
              "      <td>NaN</td>\n",
              "    </tr>\n",
              "    <tr>\n",
              "      <th>1</th>\n",
              "      <td>0.0</td>\n",
              "      <td>NaN</td>\n",
              "      <td>NaN</td>\n",
              "      <td>NaN</td>\n",
              "      <td>0.0</td>\n",
              "      <td>1.00306</td>\n",
              "      <td>0.000</td>\n",
              "      <td>0.00</td>\n",
              "      <td>0.000</td>\n",
              "      <td>0</td>\n",
              "      <td>0</td>\n",
              "      <td>0</td>\n",
              "      <td>NaN</td>\n",
              "    </tr>\n",
              "    <tr>\n",
              "      <th>2</th>\n",
              "      <td>0.0</td>\n",
              "      <td>NaN</td>\n",
              "      <td>NaN</td>\n",
              "      <td>NaN</td>\n",
              "      <td>0.0</td>\n",
              "      <td>0.97901</td>\n",
              "      <td>0.000</td>\n",
              "      <td>0.00</td>\n",
              "      <td>0.000</td>\n",
              "      <td>0</td>\n",
              "      <td>0</td>\n",
              "      <td>0</td>\n",
              "      <td>NaN</td>\n",
              "    </tr>\n",
              "    <tr>\n",
              "      <th>3</th>\n",
              "      <td>0.0</td>\n",
              "      <td>NaN</td>\n",
              "      <td>NaN</td>\n",
              "      <td>NaN</td>\n",
              "      <td>0.0</td>\n",
              "      <td>0.54576</td>\n",
              "      <td>0.000</td>\n",
              "      <td>0.00</td>\n",
              "      <td>0.000</td>\n",
              "      <td>0</td>\n",
              "      <td>0</td>\n",
              "      <td>0</td>\n",
              "      <td>NaN</td>\n",
              "    </tr>\n",
              "    <tr>\n",
              "      <th>4</th>\n",
              "      <td>0.0</td>\n",
              "      <td>310.376</td>\n",
              "      <td>96.876</td>\n",
              "      <td>277.278</td>\n",
              "      <td>0.0</td>\n",
              "      <td>1.21599</td>\n",
              "      <td>33.098</td>\n",
              "      <td>10.48</td>\n",
              "      <td>33.072</td>\n",
              "      <td>0</td>\n",
              "      <td>0</td>\n",
              "      <td>0</td>\n",
              "      <td>NaN</td>\n",
              "    </tr>\n",
              "  </tbody>\n",
              "</table>\n",
              "</div>\n",
              "      <button class=\"colab-df-convert\" onclick=\"convertToInteractive('df-2b87bc60-3c9c-4d01-b1d1-13164bc55aa5')\"\n",
              "              title=\"Convert this dataframe to an interactive table.\"\n",
              "              style=\"display:none;\">\n",
              "        \n",
              "  <svg xmlns=\"http://www.w3.org/2000/svg\" height=\"24px\"viewBox=\"0 0 24 24\"\n",
              "       width=\"24px\">\n",
              "    <path d=\"M0 0h24v24H0V0z\" fill=\"none\"/>\n",
              "    <path d=\"M18.56 5.44l.94 2.06.94-2.06 2.06-.94-2.06-.94-.94-2.06-.94 2.06-2.06.94zm-11 1L8.5 8.5l.94-2.06 2.06-.94-2.06-.94L8.5 2.5l-.94 2.06-2.06.94zm10 10l.94 2.06.94-2.06 2.06-.94-2.06-.94-.94-2.06-.94 2.06-2.06.94z\"/><path d=\"M17.41 7.96l-1.37-1.37c-.4-.4-.92-.59-1.43-.59-.52 0-1.04.2-1.43.59L10.3 9.45l-7.72 7.72c-.78.78-.78 2.05 0 2.83L4 21.41c.39.39.9.59 1.41.59.51 0 1.02-.2 1.41-.59l7.78-7.78 2.81-2.81c.8-.78.8-2.07 0-2.86zM5.41 20L4 18.59l7.72-7.72 1.47 1.35L5.41 20z\"/>\n",
              "  </svg>\n",
              "      </button>\n",
              "      \n",
              "  <style>\n",
              "    .colab-df-container {\n",
              "      display:flex;\n",
              "      flex-wrap:wrap;\n",
              "      gap: 12px;\n",
              "    }\n",
              "\n",
              "    .colab-df-convert {\n",
              "      background-color: #E8F0FE;\n",
              "      border: none;\n",
              "      border-radius: 50%;\n",
              "      cursor: pointer;\n",
              "      display: none;\n",
              "      fill: #1967D2;\n",
              "      height: 32px;\n",
              "      padding: 0 0 0 0;\n",
              "      width: 32px;\n",
              "    }\n",
              "\n",
              "    .colab-df-convert:hover {\n",
              "      background-color: #E2EBFA;\n",
              "      box-shadow: 0px 1px 2px rgba(60, 64, 67, 0.3), 0px 1px 3px 1px rgba(60, 64, 67, 0.15);\n",
              "      fill: #174EA6;\n",
              "    }\n",
              "\n",
              "    [theme=dark] .colab-df-convert {\n",
              "      background-color: #3B4455;\n",
              "      fill: #D2E3FC;\n",
              "    }\n",
              "\n",
              "    [theme=dark] .colab-df-convert:hover {\n",
              "      background-color: #434B5C;\n",
              "      box-shadow: 0px 1px 3px 1px rgba(0, 0, 0, 0.15);\n",
              "      filter: drop-shadow(0px 1px 2px rgba(0, 0, 0, 0.3));\n",
              "      fill: #FFFFFF;\n",
              "    }\n",
              "  </style>\n",
              "\n",
              "      <script>\n",
              "        const buttonEl =\n",
              "          document.querySelector('#df-2b87bc60-3c9c-4d01-b1d1-13164bc55aa5 button.colab-df-convert');\n",
              "        buttonEl.style.display =\n",
              "          google.colab.kernel.accessAllowed ? 'block' : 'none';\n",
              "\n",
              "        async function convertToInteractive(key) {\n",
              "          const element = document.querySelector('#df-2b87bc60-3c9c-4d01-b1d1-13164bc55aa5');\n",
              "          const dataTable =\n",
              "            await google.colab.kernel.invokeFunction('convertToInteractive',\n",
              "                                                     [key], {});\n",
              "          if (!dataTable) return;\n",
              "\n",
              "          const docLinkHtml = 'Like what you see? Visit the ' +\n",
              "            '<a target=\"_blank\" href=https://colab.research.google.com/notebooks/data_table.ipynb>data table notebook</a>'\n",
              "            + ' to learn more about interactive tables.';\n",
              "          element.innerHTML = '';\n",
              "          dataTable['output_type'] = 'display_data';\n",
              "          await google.colab.output.renderOutput(dataTable, element);\n",
              "          const docLink = document.createElement('div');\n",
              "          docLink.innerHTML = docLinkHtml;\n",
              "          element.appendChild(docLink);\n",
              "        }\n",
              "      </script>\n",
              "    </div>\n",
              "  </div>\n",
              "  "
            ]
          },
          "metadata": {},
          "execution_count": 22
        }
      ]
    },
    {
      "cell_type": "code",
      "source": [
        "missing_values_count = df.isnull().sum()\n",
        "missing_values_count"
      ],
      "metadata": {
        "colab": {
          "base_uri": "https://localhost:8080/"
        },
        "id": "OIH5bfVDUN27",
        "outputId": "8ef76b7e-8342-450d-d043-2fe46eb1279f"
      },
      "execution_count": null,
      "outputs": [
        {
          "output_type": "execute_result",
          "data": {
            "text/plain": [
              "ON_STREAM_HRS                285\n",
              "AVG_DOWNHOLE_PRESSURE       6654\n",
              "AVG_DOWNHOLE_TEMPERATURE    6654\n",
              "AVG_DP_TUBING               6654\n",
              "AVG_ANNULUS_PRESS           7744\n",
              "AVG_CHOKE_SIZE_P            6715\n",
              "AVG_WHP_P                   6479\n",
              "AVG_WHT_P                   6488\n",
              "DP_CHOKE_SIZE                294\n",
              "BORE_OIL_VOL                6473\n",
              "BORE_GAS_VOL                6473\n",
              "BORE_WAT_VOL                6473\n",
              "BORE_WI_VOL                 9928\n",
              "dtype: int64"
            ]
          },
          "metadata": {},
          "execution_count": 23
        }
      ]
    },
    {
      "cell_type": "code",
      "source": [
        "df2 = df[df['AVG_CHOKE_SIZE_P'].notna()]"
      ],
      "metadata": {
        "id": "yZfXyf-EVz_q"
      },
      "execution_count": null,
      "outputs": []
    },
    {
      "cell_type": "code",
      "source": [
        "print(df2.shape)\n",
        "missing_values_count = df2.isnull().sum()\n",
        "missing_values_count"
      ],
      "metadata": {
        "colab": {
          "base_uri": "https://localhost:8080/"
        },
        "id": "Gzrn8vnnW0AW",
        "outputId": "4b962084-8944-484b-a25b-0d14ba4b4b2c"
      },
      "execution_count": null,
      "outputs": [
        {
          "output_type": "stream",
          "name": "stdout",
          "text": [
            "(8919, 13)\n"
          ]
        },
        {
          "output_type": "execute_result",
          "data": {
            "text/plain": [
              "ON_STREAM_HRS                  0\n",
              "AVG_DOWNHOLE_PRESSURE        179\n",
              "AVG_DOWNHOLE_TEMPERATURE     179\n",
              "AVG_DP_TUBING                179\n",
              "AVG_ANNULUS_PRESS           1246\n",
              "AVG_CHOKE_SIZE_P               0\n",
              "AVG_WHP_P                      4\n",
              "AVG_WHT_P                     13\n",
              "DP_CHOKE_SIZE                  4\n",
              "BORE_OIL_VOL                   0\n",
              "BORE_GAS_VOL                   0\n",
              "BORE_WAT_VOL                   0\n",
              "BORE_WI_VOL                 8904\n",
              "dtype: int64"
            ]
          },
          "metadata": {},
          "execution_count": 25
        }
      ]
    },
    {
      "cell_type": "code",
      "source": [
        "df2=df2.drop(columns=['BORE_WI_VOL'])"
      ],
      "metadata": {
        "id": "2xwrUrbpW3-h"
      },
      "execution_count": null,
      "outputs": []
    },
    {
      "cell_type": "code",
      "source": [
        "df2.dtypes"
      ],
      "metadata": {
        "colab": {
          "base_uri": "https://localhost:8080/"
        },
        "id": "D_Lfj9WcaBFJ",
        "outputId": "fd8e5d07-40ac-4565-b799-f8dc8a269a04"
      },
      "execution_count": null,
      "outputs": [
        {
          "output_type": "execute_result",
          "data": {
            "text/plain": [
              "ON_STREAM_HRS               float64\n",
              "AVG_DOWNHOLE_PRESSURE       float64\n",
              "AVG_DOWNHOLE_TEMPERATURE    float64\n",
              "AVG_DP_TUBING               float64\n",
              "AVG_ANNULUS_PRESS           float64\n",
              "AVG_CHOKE_SIZE_P            float64\n",
              "AVG_WHP_P                   float64\n",
              "AVG_WHT_P                   float64\n",
              "DP_CHOKE_SIZE               float64\n",
              "BORE_OIL_VOL                 object\n",
              "BORE_GAS_VOL                 object\n",
              "BORE_WAT_VOL                 object\n",
              "dtype: object"
            ]
          },
          "metadata": {},
          "execution_count": 27
        }
      ]
    },
    {
      "cell_type": "code",
      "source": [
        "df2['BORE_GAS_VOL'][18]"
      ],
      "metadata": {
        "colab": {
          "base_uri": "https://localhost:8080/",
          "height": 36
        },
        "id": "KPf_bf2LYz9s",
        "outputId": "a4912d93-3238-4bfc-f65f-dd96c118764c"
      },
      "execution_count": null,
      "outputs": [
        {
          "output_type": "execute_result",
          "data": {
            "text/plain": [
              "'178,064'"
            ],
            "application/vnd.google.colaboratory.intrinsic+json": {
              "type": "string"
            }
          },
          "metadata": {},
          "execution_count": 19
        }
      ]
    },
    {
      "cell_type": "code",
      "source": [
        "df2['BORE_OIL_VOL'] = df2['BORE_OIL_VOL'].str.replace(',', '').astype(float)\n",
        "df2['BORE_GAS_VOL'] = df2['BORE_GAS_VOL'].str.replace(',', '').astype(float)\n",
        "df2['BORE_WAT_VOL'] = df2['BORE_WAT_VOL'].str.replace(',', '').astype(float)"
      ],
      "metadata": {
        "id": "CbkbgJ0OZQlX"
      },
      "execution_count": null,
      "outputs": []
    },
    {
      "cell_type": "code",
      "source": [
        "df2.dtypes"
      ],
      "metadata": {
        "colab": {
          "base_uri": "https://localhost:8080/"
        },
        "id": "iHkyG-rZaQn4",
        "outputId": "69da0ea7-197a-4ced-a88a-5718a139bd78"
      },
      "execution_count": null,
      "outputs": [
        {
          "output_type": "execute_result",
          "data": {
            "text/plain": [
              "ON_STREAM_HRS               float64\n",
              "AVG_DOWNHOLE_PRESSURE       float64\n",
              "AVG_DOWNHOLE_TEMPERATURE    float64\n",
              "AVG_DP_TUBING               float64\n",
              "AVG_ANNULUS_PRESS           float64\n",
              "AVG_CHOKE_SIZE_P            float64\n",
              "AVG_WHP_P                   float64\n",
              "AVG_WHT_P                   float64\n",
              "DP_CHOKE_SIZE               float64\n",
              "BORE_OIL_VOL                float64\n",
              "BORE_GAS_VOL                float64\n",
              "BORE_WAT_VOL                float64\n",
              "dtype: object"
            ]
          },
          "metadata": {},
          "execution_count": 29
        }
      ]
    },
    {
      "cell_type": "code",
      "source": [
        "df2=df2.apply(lambda x: x.fillna(x.mean()),axis=0)"
      ],
      "metadata": {
        "id": "9HKFsfL3Xcvd"
      },
      "execution_count": null,
      "outputs": []
    },
    {
      "cell_type": "code",
      "source": [
        "print(df2.shape)\n",
        "missing_values_count = df2.isnull().sum()\n",
        "missing_values_count"
      ],
      "metadata": {
        "colab": {
          "base_uri": "https://localhost:8080/"
        },
        "id": "Oqq168xtaR_K",
        "outputId": "aee60d9a-4575-45a2-b087-7a23ee534f27"
      },
      "execution_count": null,
      "outputs": [
        {
          "output_type": "stream",
          "name": "stdout",
          "text": [
            "(8919, 12)\n"
          ]
        },
        {
          "output_type": "execute_result",
          "data": {
            "text/plain": [
              "ON_STREAM_HRS               0\n",
              "AVG_DOWNHOLE_PRESSURE       0\n",
              "AVG_DOWNHOLE_TEMPERATURE    0\n",
              "AVG_DP_TUBING               0\n",
              "AVG_ANNULUS_PRESS           0\n",
              "AVG_CHOKE_SIZE_P            0\n",
              "AVG_WHP_P                   0\n",
              "AVG_WHT_P                   0\n",
              "DP_CHOKE_SIZE               0\n",
              "BORE_OIL_VOL                0\n",
              "BORE_GAS_VOL                0\n",
              "BORE_WAT_VOL                0\n",
              "dtype: int64"
            ]
          },
          "metadata": {},
          "execution_count": 33
        }
      ]
    },
    {
      "cell_type": "code",
      "source": [
        "x=df2.drop('AVG_CHOKE_SIZE_P', axis=1)\n",
        "y=df2['AVG_CHOKE_SIZE_P']\n",
        "print(x.shape)\n",
        "y.shape"
      ],
      "metadata": {
        "colab": {
          "base_uri": "https://localhost:8080/"
        },
        "id": "aW9bBDIqaV22",
        "outputId": "40c1163a-57c5-4cb5-b97d-6f7077ab75fd"
      },
      "execution_count": null,
      "outputs": [
        {
          "output_type": "stream",
          "name": "stdout",
          "text": [
            "(8919, 11)\n"
          ]
        },
        {
          "output_type": "execute_result",
          "data": {
            "text/plain": [
              "(8919,)"
            ]
          },
          "metadata": {},
          "execution_count": 38
        }
      ]
    },
    {
      "cell_type": "code",
      "source": [
        "plt.figure(figsize=(16,16))\n",
        "sns.heatmap(df2.corr(), annot=True,cmap='RdYlGn',square=True)"
      ],
      "metadata": {
        "colab": {
          "base_uri": "https://localhost:8080/",
          "height": 1000
        },
        "id": "xJBVK_djayKc",
        "outputId": "404b62b6-cbc1-4f65-b806-9a62cfad55a4"
      },
      "execution_count": null,
      "outputs": [
        {
          "output_type": "execute_result",
          "data": {
            "text/plain": [
              "<matplotlib.axes._subplots.AxesSubplot at 0x7f113cdf8dd0>"
            ]
          },
          "metadata": {},
          "execution_count": 45
        },
        {
          "output_type": "display_data",
          "data": {
            "text/plain": [
              "<Figure size 1152x1152 with 2 Axes>"
            ],
            "image/png": "[encoded data removed]"
          },
          "metadata": {
            "needs_background": "light"
          }
        }
      ]
    },
    {
      "cell_type": "code",
      "source": [
        "f, ax = plt.subplots(5, figsize=(12,36))\n",
        "sns.distplot(df2.AVG_CHOKE_SIZE_P,color='c',ax=ax[0])\n",
        "sns.distplot(df2.ON_STREAM_HRS,color='c',ax=ax[1])\n",
        "sns.distplot(df2.AVG_WHP_P,color='c',ax=ax[2])\n",
        "sns.distplot(df2.AVG_WHT_P,color='c',ax=ax[3])\n",
        "sns.distplot(df2.DP_CHOKE_SIZE,color='c',ax=ax[4])\n",
        "ax[0].set_title('AVG_CHOKE_SIZE_P')\n",
        "ax[1].set_title('ON_STREAM_HRS')\n",
        "ax[2].set_title('AVG_WHP_P')\n",
        "ax[3].set_title('AVG_WHT_P')\n",
        "ax[4].set_title('DP_CHOKE_SIZE')\n"
      ],
      "metadata": {
        "colab": {
          "base_uri": "https://localhost:8080/",
          "height": 1000
        },
        "id": "RUyGHmdCa6gY",
        "outputId": "f1031fb4-6c50-4470-888d-a9ad4ca35c38"
      },
      "execution_count": null,
      "outputs": [
        {
          "output_type": "stream",
          "name": "stderr",
          "text": [
            "/usr/local/lib/python3.7/dist-packages/seaborn/distributions.py:2619: FutureWarning: `distplot` is a deprecated function and will be removed in a future version. Please adapt your code to use either `displot` (a figure-level function with similar flexibility) or `histplot` (an axes-level function for histograms).\n",
            "  warnings.warn(msg, FutureWarning)\n",
            "/usr/local/lib/python3.7/dist-packages/seaborn/distributions.py:2619: FutureWarning: `distplot` is a deprecated function and will be removed in a future version. Please adapt your code to use either `displot` (a figure-level function with similar flexibility) or `histplot` (an axes-level function for histograms).\n",
            "  warnings.warn(msg, FutureWarning)\n",
            "/usr/local/lib/python3.7/dist-packages/seaborn/distributions.py:2619: FutureWarning: `distplot` is a deprecated function and will be removed in a future version. Please adapt your code to use either `displot` (a figure-level function with similar flexibility) or `histplot` (an axes-level function for histograms).\n",
            "  warnings.warn(msg, FutureWarning)\n",
            "/usr/local/lib/python3.7/dist-packages/seaborn/distributions.py:2619: FutureWarning: `distplot` is a deprecated function and will be removed in a future version. Please adapt your code to use either `displot` (a figure-level function with similar flexibility) or `histplot` (an axes-level function for histograms).\n",
            "  warnings.warn(msg, FutureWarning)\n",
            "/usr/local/lib/python3.7/dist-packages/seaborn/distributions.py:2619: FutureWarning: `distplot` is a deprecated function and will be removed in a future version. Please adapt your code to use either `displot` (a figure-level function with similar flexibility) or `histplot` (an axes-level function for histograms).\n",
            "  warnings.warn(msg, FutureWarning)\n"
          ]
        },
        {
          "output_type": "execute_result",
          "data": {
            "text/plain": [
              "Text(0.5, 1.0, 'DP_CHOKE_SIZE')"
            ]
          },
          "metadata": {},
          "execution_count": 51
        },
        {
          "output_type": "display_data",
          "data": {
            "text/plain": [
              "<Figure size 864x2592 with 5 Axes>"
            ],
            "image/png": "[encoded data removed]"
          },
          "metadata": {
            "needs_background": "light"
          }
        }
      ]
    },
    {
      "cell_type": "code",
      "source": [
        "\n",
        "sns.violinplot(x='ON_STREAM_HRS',y='AVG_CHOKE_SIZE_P',data=df2)\n"
      ],
      "metadata": {
        "colab": {
          "base_uri": "https://localhost:8080/",
          "height": 298
        },
        "id": "21vylXvkcBJ9",
        "outputId": "e0381b0d-2b71-422a-f3a5-993f24ef6b85"
      },
      "execution_count": null,
      "outputs": [
        {
          "output_type": "execute_result",
          "data": {
            "text/plain": [
              "<matplotlib.axes._subplots.AxesSubplot at 0x7f113ffa4310>"
            ]
          },
          "metadata": {},
          "execution_count": 53
        },
        {
          "output_type": "display_data",
          "data": {
            "text/plain": [
              "<Figure size 432x288 with 1 Axes>"
            ],
            "image/png": "[encoded data removed]"
          },
          "metadata": {
            "needs_background": "light"
          }
        }
      ]
    },
    {
      "cell_type": "code",
      "source": [
        "from sklearn.model_selection import train_test_split\n",
        "X_train, X_test, y_train, y_test = train_test_split(x, y, test_size=0.3, random_state=42)"
      ],
      "metadata": {
        "id": "YKuCxzOqgzAQ"
      },
      "execution_count": null,
      "outputs": []
    },
    {
      "cell_type": "code",
      "source": [
        "from sklearn import metrics\n",
        "from sklearn.model_selection import cross_val_score\n",
        "\n",
        "def cross_val(model):\n",
        "    pred = cross_val_score(model, x, y, cv=10)\n",
        "    return pred.mean()\n",
        "\n",
        "def print_evaluate(true, predicted):  \n",
        "    mae = metrics.mean_absolute_error(true, predicted)\n",
        "    mse = metrics.mean_squared_error(true, predicted)\n",
        "    rmse = np.sqrt(metrics.mean_squared_error(true, predicted))\n",
        "    r2_square = metrics.r2_score(true, predicted)\n",
        "    print('MAE:', mae)\n",
        "    print('MSE:', mse)\n",
        "    print('RMSE:', rmse)\n",
        "    print('R2 Square', r2_square)\n",
        "    print('__________________________________')\n",
        "    \n",
        "def evaluate(true, predicted):\n",
        "    mae = metrics.mean_absolute_error(true, predicted)\n",
        "    mse = metrics.mean_squared_error(true, predicted)\n",
        "    rmse = np.sqrt(metrics.mean_squared_error(true, predicted))\n",
        "    r2_square = metrics.r2_score(true, predicted)\n",
        "    return mae, mse, rmse, r2_square"
      ],
      "metadata": {
        "id": "HnirQ0hAiCOd"
      },
      "execution_count": null,
      "outputs": []
    },
    {
      "cell_type": "code",
      "source": [
        "from sklearn.preprocessing import StandardScaler\n",
        "from sklearn.pipeline import Pipeline\n",
        "\n",
        "pipeline = Pipeline([\n",
        "    ('std_scalar', StandardScaler())\n",
        "])\n",
        "\n",
        "X_train = pipeline.fit_transform(X_train)\n",
        "X_test = pipeline.transform(X_test)"
      ],
      "metadata": {
        "id": "Lw6JAODbiFsQ"
      },
      "execution_count": null,
      "outputs": []
    },
    {
      "cell_type": "code",
      "source": [
        "from sklearn.linear_model import LinearRegression\n",
        "\n",
        "lin_reg = LinearRegression(normalize=True)\n",
        "lin_reg.fit(X_train,y_train)\n",
        "coeff_df = pd.DataFrame(lin_reg.coef_, x.columns, columns=['Coefficient'])\n",
        "coeff_df"
      ],
      "metadata": {
        "colab": {
          "base_uri": "https://localhost:8080/",
          "height": 648
        },
        "id": "100RgKeaiPo5",
        "outputId": "c945dd51-55c9-4e87-fce9-51549c83fcde"
      },
      "execution_count": null,
      "outputs": [
        {
          "output_type": "stream",
          "name": "stderr",
          "text": [
            "/usr/local/lib/python3.7/dist-packages/sklearn/linear_model/_base.py:145: FutureWarning: 'normalize' was deprecated in version 1.0 and will be removed in 1.2.\n",
            "If you wish to scale the data, use Pipeline with a StandardScaler in a preprocessing stage. To reproduce the previous behavior:\n",
            "\n",
            "from sklearn.pipeline import make_pipeline\n",
            "\n",
            "model = make_pipeline(StandardScaler(with_mean=False), LinearRegression())\n",
            "\n",
            "If you wish to pass a sample_weight parameter, you need to pass it as a fit parameter to each step of the pipeline as follows:\n",
            "\n",
            "kwargs = {s[0] + '__sample_weight': sample_weight for s in model.steps}\n",
            "model.fit(X, y, **kwargs)\n",
            "\n",
            "\n",
            "  FutureWarning,\n"
          ]
        },
        {
          "output_type": "execute_result",
          "data": {
            "text/plain": [
              "                          Coefficient\n",
              "ON_STREAM_HRS                6.291114\n",
              "AVG_DOWNHOLE_PRESSURE       33.521207\n",
              "AVG_DOWNHOLE_TEMPERATURE   -30.770410\n",
              "AVG_DP_TUBING               -5.176582\n",
              "AVG_ANNULUS_PRESS           -0.676258\n",
              "AVG_WHP_P                    0.962709\n",
              "AVG_WHT_P                   12.903193\n",
              "DP_CHOKE_SIZE              -11.085876\n",
              "BORE_OIL_VOL                34.046045\n",
              "BORE_GAS_VOL               -34.002027\n",
              "BORE_WAT_VOL                10.475961"
            ],
            "text/html": [
              "\n",
              "  <div id=\"df-0c8d3c3c-f3ad-4554-8fa1-238ec2692604\">\n",
              "    <div class=\"colab-df-container\">\n",
              "      <div>\n",
              "<style scoped>\n",
              "    .dataframe tbody tr th:only-of-type {\n",
              "        vertical-align: middle;\n",
              "    }\n",
              "\n",
              "    .dataframe tbody tr th {\n",
              "        vertical-align: top;\n",
              "    }\n",
              "\n",
              "    .dataframe thead th {\n",
              "        text-align: right;\n",
              "    }\n",
              "</style>\n",
              "<table border=\"1\" class=\"dataframe\">\n",
              "  <thead>\n",
              "    <tr style=\"text-align: right;\">\n",
              "      <th></th>\n",
              "      <th>Coefficient</th>\n",
              "    </tr>\n",
              "  </thead>\n",
              "  <tbody>\n",
              "    <tr>\n",
              "      <th>ON_STREAM_HRS</th>\n",
              "      <td>6.291114</td>\n",
              "    </tr>\n",
              "    <tr>\n",
              "      <th>AVG_DOWNHOLE_PRESSURE</th>\n",
              "      <td>33.521207</td>\n",
              "    </tr>\n",
              "    <tr>\n",
              "      <th>AVG_DOWNHOLE_TEMPERATURE</th>\n",
              "      <td>-30.770410</td>\n",
              "    </tr>\n",
              "    <tr>\n",
              "      <th>AVG_DP_TUBING</th>\n",
              "      <td>-5.176582</td>\n",
              "    </tr>\n",
              "    <tr>\n",
              "      <th>AVG_ANNULUS_PRESS</th>\n",
              "      <td>-0.676258</td>\n",
              "    </tr>\n",
              "    <tr>\n",
              "      <th>AVG_WHP_P</th>\n",
              "      <td>0.962709</td>\n",
              "    </tr>\n",
              "    <tr>\n",
              "      <th>AVG_WHT_P</th>\n",
              "      <td>12.903193</td>\n",
              "    </tr>\n",
              "    <tr>\n",
              "      <th>DP_CHOKE_SIZE</th>\n",
              "      <td>-11.085876</td>\n",
              "    </tr>\n",
              "    <tr>\n",
              "      <th>BORE_OIL_VOL</th>\n",
              "      <td>34.046045</td>\n",
              "    </tr>\n",
              "    <tr>\n",
              "      <th>BORE_GAS_VOL</th>\n",
              "      <td>-34.002027</td>\n",
              "    </tr>\n",
              "    <tr>\n",
              "      <th>BORE_WAT_VOL</th>\n",
              "      <td>10.475961</td>\n",
              "    </tr>\n",
              "  </tbody>\n",
              "</table>\n",
              "</div>\n",
              "      <button class=\"colab-df-convert\" onclick=\"convertToInteractive('df-0c8d3c3c-f3ad-4554-8fa1-238ec2692604')\"\n",
              "              title=\"Convert this dataframe to an interactive table.\"\n",
              "              style=\"display:none;\">\n",
              "        \n",
              "  <svg xmlns=\"http://www.w3.org/2000/svg\" height=\"24px\"viewBox=\"0 0 24 24\"\n",
              "       width=\"24px\">\n",
              "    <path d=\"M0 0h24v24H0V0z\" fill=\"none\"/>\n",
              "    <path d=\"M18.56 5.44l.94 2.06.94-2.06 2.06-.94-2.06-.94-.94-2.06-.94 2.06-2.06.94zm-11 1L8.5 8.5l.94-2.06 2.06-.94-2.06-.94L8.5 2.5l-.94 2.06-2.06.94zm10 10l.94 2.06.94-2.06 2.06-.94-2.06-.94-.94-2.06-.94 2.06-2.06.94z\"/><path d=\"M17.41 7.96l-1.37-1.37c-.4-.4-.92-.59-1.43-.59-.52 0-1.04.2-1.43.59L10.3 9.45l-7.72 7.72c-.78.78-.78 2.05 0 2.83L4 21.41c.39.39.9.59 1.41.59.51 0 1.02-.2 1.41-.59l7.78-7.78 2.81-2.81c.8-.78.8-2.07 0-2.86zM5.41 20L4 18.59l7.72-7.72 1.47 1.35L5.41 20z\"/>\n",
              "  </svg>\n",
              "      </button>\n",
              "      \n",
              "  <style>\n",
              "    .colab-df-container {\n",
              "      display:flex;\n",
              "      flex-wrap:wrap;\n",
              "      gap: 12px;\n",
              "    }\n",
              "\n",
              "    .colab-df-convert {\n",
              "      background-color: #E8F0FE;\n",
              "      border: none;\n",
              "      border-radius: 50%;\n",
              "      cursor: pointer;\n",
              "      display: none;\n",
              "      fill: #1967D2;\n",
              "      height: 32px;\n",
              "      padding: 0 0 0 0;\n",
              "      width: 32px;\n",
              "    }\n",
              "\n",
              "    .colab-df-convert:hover {\n",
              "      background-color: #E2EBFA;\n",
              "      box-shadow: 0px 1px 2px rgba(60, 64, 67, 0.3), 0px 1px 3px 1px rgba(60, 64, 67, 0.15);\n",
              "      fill: #174EA6;\n",
              "    }\n",
              "\n",
              "    [theme=dark] .colab-df-convert {\n",
              "      background-color: #3B4455;\n",
              "      fill: #D2E3FC;\n",
              "    }\n",
              "\n",
              "    [theme=dark] .colab-df-convert:hover {\n",
              "      background-color: #434B5C;\n",
              "      box-shadow: 0px 1px 3px 1px rgba(0, 0, 0, 0.15);\n",
              "      filter: drop-shadow(0px 1px 2px rgba(0, 0, 0, 0.3));\n",
              "      fill: #FFFFFF;\n",
              "    }\n",
              "  </style>\n",
              "\n",
              "      <script>\n",
              "        const buttonEl =\n",
              "          document.querySelector('#df-0c8d3c3c-f3ad-4554-8fa1-238ec2692604 button.colab-df-convert');\n",
              "        buttonEl.style.display =\n",
              "          google.colab.kernel.accessAllowed ? 'block' : 'none';\n",
              "\n",
              "        async function convertToInteractive(key) {\n",
              "          const element = document.querySelector('#df-0c8d3c3c-f3ad-4554-8fa1-238ec2692604');\n",
              "          const dataTable =\n",
              "            await google.colab.kernel.invokeFunction('convertToInteractive',\n",
              "                                                     [key], {});\n",
              "          if (!dataTable) return;\n",
              "\n",
              "          const docLinkHtml = 'Like what you see? Visit the ' +\n",
              "            '<a target=\"_blank\" href=https://colab.research.google.com/notebooks/data_table.ipynb>data table notebook</a>'\n",
              "            + ' to learn more about interactive tables.';\n",
              "          element.innerHTML = '';\n",
              "          dataTable['output_type'] = 'display_data';\n",
              "          await google.colab.output.renderOutput(dataTable, element);\n",
              "          const docLink = document.createElement('div');\n",
              "          docLink.innerHTML = docLinkHtml;\n",
              "          element.appendChild(docLink);\n",
              "        }\n",
              "      </script>\n",
              "    </div>\n",
              "  </div>\n",
              "  "
            ]
          },
          "metadata": {},
          "execution_count": 58
        }
      ]
    },
    {
      "cell_type": "code",
      "source": [
        "test_pred = lin_reg.predict(X_test)\n",
        "train_pred = lin_reg.predict(X_train)\n",
        "\n",
        "print(\"Liner Regression\")\n",
        "print('---------------------------------')\n",
        "print('Test set evaluation:\\n__________________________________')\n",
        "print_evaluate(y_test, test_pred)\n",
        "print('Train set evaluation:\\n__________________________________')\n",
        "print_evaluate(y_train, train_pred)\n",
        "\n",
        "results_df = pd.DataFrame(data=[[\"Linear Regression\", *evaluate(y_test, test_pred) , cross_val(LinearRegression())]], \n",
        "                          columns=['Model', 'MAE', 'MSE', 'RMSE', 'R2 Square', \"Cross Validation\"])"
      ],
      "metadata": {
        "colab": {
          "base_uri": "https://localhost:8080/"
        },
        "id": "54rTxRcXiXvl",
        "outputId": "e6bd9e3d-ddd6-4d0e-979d-eef6b565a2af"
      },
      "execution_count": null,
      "outputs": [
        {
          "output_type": "stream",
          "name": "stdout",
          "text": [
            "Liner Regression\n",
            "---------------------------------\n",
            "Test set evaluation:\n",
            "__________________________________\n",
            "MAE: 15.446430598319138\n",
            "MSE: 345.2862357663804\n",
            "RMSE: 18.5818792312936\n",
            "R2 Square 0.74187552670964\n",
            "__________________________________\n",
            "Train set evaluation:\n",
            "__________________________________\n",
            "MAE: 15.302009873418218\n",
            "MSE: 342.5641290362224\n",
            "RMSE: 18.508488026746605\n",
            "R2 Square 0.7462258922692802\n",
            "__________________________________\n"
          ]
        }
      ]
    },
    {
      "cell_type": "code",
      "source": [
        "from sklearn.linear_model import RANSACRegressor\n",
        "\n",
        "model = RANSACRegressor(base_estimator=LinearRegression(), max_trials=100)\n",
        "model.fit(X_train, y_train)\n",
        "\n",
        "test_pred = model.predict(X_test)\n",
        "train_pred = model.predict(X_train)\n",
        "print(\"Random Sample Consensus\")\n",
        "print('----------------------------')\n",
        "print('Test set evaluation:\\n_____________________________________')\n",
        "print_evaluate(y_test, test_pred)\n",
        "\n",
        "print('Train set evaluation:\\n_____________________________________')\n",
        "print_evaluate(y_train, train_pred)\n",
        "\n",
        "results_df_2 = pd.DataFrame(data=[[\"Robust Regression\", *evaluate(y_test, test_pred) , cross_val(RANSACRegressor())]], \n",
        "                            columns=['Model', 'MAE', 'MSE', 'RMSE', 'R2 Square', \"Cross Validation\"])\n",
        "results_df = results_df.append(results_df_2, ignore_index=True)"
      ],
      "metadata": {
        "colab": {
          "base_uri": "https://localhost:8080/"
        },
        "id": "y1chSbPxiihU",
        "outputId": "6e1eadb2-1789-437b-baca-722318b15342"
      },
      "execution_count": null,
      "outputs": [
        {
          "output_type": "stream",
          "name": "stdout",
          "text": [
            "Random Sample Consensus\n",
            "----------------------------\n",
            "Test set evaluation:\n",
            "_____________________________________\n",
            "MAE: 16.088643258595955\n",
            "MSE: 456.18264076403597\n",
            "RMSE: 21.358432544642316\n",
            "R2 Square 0.6589730731372307\n",
            "__________________________________\n",
            "Train set evaluation:\n",
            "_____________________________________\n",
            "MAE: 15.882942250855487\n",
            "MSE: 448.42504796758146\n",
            "RMSE: 21.17604892248744\n",
            "R2 Square 0.667803319768938\n",
            "__________________________________\n"
          ]
        }
      ]
    },
    {
      "cell_type": "code",
      "source": [
        "from sklearn.linear_model import Ridge\n",
        "\n",
        "model = Ridge(alpha=100, solver='cholesky', tol=0.0001, random_state=42)\n",
        "model.fit(X_train, y_train)\n",
        "pred = model.predict(X_test)\n",
        "\n",
        "test_pred = model.predict(X_test)\n",
        "train_pred = model.predict(X_train)\n",
        "print(\"Ridge Regression\")\n",
        "print('---------------------------------')\n",
        "print('Test set evaluation:\\n_____________________________________')\n",
        "print_evaluate(y_test, test_pred)\n",
        "print('Train set evaluation:\\n_____________________________________')\n",
        "print_evaluate(y_train, train_pred)\n",
        "\n",
        "results_df_2 = pd.DataFrame(data=[[\"Ridge Regression\", *evaluate(y_test, test_pred) , cross_val(Ridge())]], \n",
        "                            columns=['Model', 'MAE', 'MSE', 'RMSE', 'R2 Square', \"Cross Validation\"])\n",
        "results_df = results_df.append(results_df_2, ignore_index=True)"
      ],
      "metadata": {
        "colab": {
          "base_uri": "https://localhost:8080/"
        },
        "id": "dHbpjQX4jMmy",
        "outputId": "9991438c-9094-4757-b15a-7fd5e25dca69"
      },
      "execution_count": null,
      "outputs": [
        {
          "output_type": "stream",
          "name": "stdout",
          "text": [
            "Ridge Regression\n",
            "---------------------------------\n",
            "Test set evaluation:\n",
            "_____________________________________\n",
            "MAE: 16.035066852453998\n",
            "MSE: 361.32176683758854\n",
            "RMSE: 19.008465662372345\n",
            "R2 Square 0.7298878985248682\n",
            "__________________________________\n",
            "Train set evaluation:\n",
            "_____________________________________\n",
            "MAE: 15.729647755346981\n",
            "MSE: 353.02093648257954\n",
            "RMSE: 18.788851388059346\n",
            "R2 Square 0.7384794099190204\n",
            "__________________________________\n"
          ]
        }
      ]
    },
    {
      "cell_type": "code",
      "source": [
        "from sklearn.linear_model import Lasso\n",
        "\n",
        "model = Lasso(alpha=0.1, \n",
        "              precompute=True, \n",
        "#               warm_start=True, \n",
        "              positive=True, \n",
        "              selection='random',\n",
        "              random_state=42)\n",
        "model.fit(X_train, y_train)\n",
        "\n",
        "test_pred = model.predict(X_test)\n",
        "train_pred = model.predict(X_train)\n",
        "print(\"LASSO Regression\")\n",
        "print('---------------------------------')\n",
        "print('Test set evaluation:\\n_____________________________________')\n",
        "print_evaluate(y_test, test_pred)\n",
        "print('Train set evaluation:\\n_____________________________________')\n",
        "print_evaluate(y_train, train_pred)\n",
        "\n",
        "results_df_2 = pd.DataFrame(data=[[\"Lasso Regression\", *evaluate(y_test, test_pred) , cross_val(Lasso())]], \n",
        "                            columns=['Model', 'MAE', 'MSE', 'RMSE', 'R2 Square', \"Cross Validation\"])\n",
        "results_df = results_df.append(results_df_2, ignore_index=True)"
      ],
      "metadata": {
        "colab": {
          "base_uri": "https://localhost:8080/"
        },
        "id": "Op4nJPVjjn9D",
        "outputId": "05aebc29-4f0b-4296-9a24-988c8f6f687f"
      },
      "execution_count": null,
      "outputs": [
        {
          "output_type": "stream",
          "name": "stdout",
          "text": [
            "LASSO Regression\n",
            "---------------------------------\n",
            "Test set evaluation:\n",
            "_____________________________________\n",
            "MAE: 16.46801717608532\n",
            "MSE: 428.03887666563674\n",
            "RMSE: 20.689100431522796\n",
            "R2 Square 0.6800124124789317\n",
            "__________________________________\n",
            "Train set evaluation:\n",
            "_____________________________________\n",
            "MAE: 16.29533805167763\n",
            "MSE: 422.82369268804547\n",
            "RMSE: 20.562677177061488\n",
            "R2 Square 0.6867689981399925\n",
            "__________________________________\n"
          ]
        },
        {
          "output_type": "stream",
          "name": "stderr",
          "text": [
            "/usr/local/lib/python3.7/dist-packages/sklearn/linear_model/_coordinate_descent.py:648: ConvergenceWarning: Objective did not converge. You might want to increase the number of iterations, check the scale of the features or consider increasing regularisation. Duality gap: 1.107e+06, tolerance: 1.063e+03\n",
            "  coef_, l1_reg, l2_reg, X, y, max_iter, tol, rng, random, positive\n",
            "/usr/local/lib/python3.7/dist-packages/sklearn/linear_model/_coordinate_descent.py:648: ConvergenceWarning: Objective did not converge. You might want to increase the number of iterations, check the scale of the features or consider increasing regularisation. Duality gap: 9.855e+05, tolerance: 1.043e+03\n",
            "  coef_, l1_reg, l2_reg, X, y, max_iter, tol, rng, random, positive\n",
            "/usr/local/lib/python3.7/dist-packages/sklearn/linear_model/_coordinate_descent.py:648: ConvergenceWarning: Objective did not converge. You might want to increase the number of iterations, check the scale of the features or consider increasing regularisation. Duality gap: 7.727e+05, tolerance: 1.158e+03\n",
            "  coef_, l1_reg, l2_reg, X, y, max_iter, tol, rng, random, positive\n",
            "/usr/local/lib/python3.7/dist-packages/sklearn/linear_model/_coordinate_descent.py:648: ConvergenceWarning: Objective did not converge. You might want to increase the number of iterations, check the scale of the features or consider increasing regularisation. Duality gap: 1.029e+06, tolerance: 1.113e+03\n",
            "  coef_, l1_reg, l2_reg, X, y, max_iter, tol, rng, random, positive\n",
            "/usr/local/lib/python3.7/dist-packages/sklearn/linear_model/_coordinate_descent.py:648: ConvergenceWarning: Objective did not converge. You might want to increase the number of iterations, check the scale of the features or consider increasing regularisation. Duality gap: 1.183e+06, tolerance: 1.057e+03\n",
            "  coef_, l1_reg, l2_reg, X, y, max_iter, tol, rng, random, positive\n",
            "/usr/local/lib/python3.7/dist-packages/sklearn/linear_model/_coordinate_descent.py:648: ConvergenceWarning: Objective did not converge. You might want to increase the number of iterations, check the scale of the features or consider increasing regularisation. Duality gap: 1.053e+06, tolerance: 1.093e+03\n",
            "  coef_, l1_reg, l2_reg, X, y, max_iter, tol, rng, random, positive\n",
            "/usr/local/lib/python3.7/dist-packages/sklearn/linear_model/_coordinate_descent.py:648: ConvergenceWarning: Objective did not converge. You might want to increase the number of iterations, check the scale of the features or consider increasing regularisation. Duality gap: 1.158e+06, tolerance: 1.144e+03\n",
            "  coef_, l1_reg, l2_reg, X, y, max_iter, tol, rng, random, positive\n",
            "/usr/local/lib/python3.7/dist-packages/sklearn/linear_model/_coordinate_descent.py:648: ConvergenceWarning: Objective did not converge. You might want to increase the number of iterations, check the scale of the features or consider increasing regularisation. Duality gap: 1.184e+06, tolerance: 1.048e+03\n",
            "  coef_, l1_reg, l2_reg, X, y, max_iter, tol, rng, random, positive\n",
            "/usr/local/lib/python3.7/dist-packages/sklearn/linear_model/_coordinate_descent.py:648: ConvergenceWarning: Objective did not converge. You might want to increase the number of iterations, check the scale of the features or consider increasing regularisation. Duality gap: 1.160e+06, tolerance: 1.034e+03\n",
            "  coef_, l1_reg, l2_reg, X, y, max_iter, tol, rng, random, positive\n",
            "/usr/local/lib/python3.7/dist-packages/sklearn/linear_model/_coordinate_descent.py:648: ConvergenceWarning: Objective did not converge. You might want to increase the number of iterations, check the scale of the features or consider increasing regularisation. Duality gap: 1.121e+06, tolerance: 1.015e+03\n",
            "  coef_, l1_reg, l2_reg, X, y, max_iter, tol, rng, random, positive\n"
          ]
        }
      ]
    },
    {
      "cell_type": "code",
      "source": [
        "from sklearn.linear_model import ElasticNet\n",
        "\n",
        "model = ElasticNet(alpha=0.1, l1_ratio=0.9, selection='random', random_state=42)\n",
        "model.fit(X_train, y_train)\n",
        "\n",
        "test_pred = model.predict(X_test)\n",
        "train_pred = model.predict(X_train)\n",
        "print(\"Elastic Net Regression\")\n",
        "print('---------------------------------')\n",
        "print('Test set evaluation:\\n_____________________________________')\n",
        "print_evaluate(y_test, test_pred)\n",
        "print('Train set evaluation:\\n_____________________________________')\n",
        "print_evaluate(y_train, train_pred)\n",
        "\n",
        "results_df_2 = pd.DataFrame(data=[[\"Elastic Net Regression\", *evaluate(y_test, test_pred) , cross_val(ElasticNet())]], \n",
        "                            columns=['Model', 'MAE', 'MSE', 'RMSE', 'R2 Square', \"Cross Validation\"])\n",
        "results_df = results_df.append(results_df_2, ignore_index=True)"
      ],
      "metadata": {
        "colab": {
          "base_uri": "https://localhost:8080/"
        },
        "id": "fKHaYf3hkKpJ",
        "outputId": "c76a75ea-8667-47a1-ee48-3d0c3bd48865"
      },
      "execution_count": null,
      "outputs": [
        {
          "output_type": "stream",
          "name": "stdout",
          "text": [
            "Elastic Net Regression\n",
            "---------------------------------\n",
            "Test set evaluation:\n",
            "_____________________________________\n",
            "MAE: 16.034634661631458\n",
            "MSE: 361.63907654274806\n",
            "RMSE: 19.016810367218476\n",
            "R2 Square 0.7296506883727392\n",
            "__________________________________\n",
            "Train set evaluation:\n",
            "_____________________________________\n",
            "MAE: 15.731404463242344\n",
            "MSE: 353.37926249249017\n",
            "RMSE: 18.798384571353203\n",
            "R2 Square 0.7382139592902648\n",
            "__________________________________\n"
          ]
        },
        {
          "output_type": "stream",
          "name": "stderr",
          "text": [
            "/usr/local/lib/python3.7/dist-packages/sklearn/linear_model/_coordinate_descent.py:648: ConvergenceWarning: Objective did not converge. You might want to increase the number of iterations, check the scale of the features or consider increasing regularisation. Duality gap: 1.248e+06, tolerance: 1.063e+03\n",
            "  coef_, l1_reg, l2_reg, X, y, max_iter, tol, rng, random, positive\n",
            "/usr/local/lib/python3.7/dist-packages/sklearn/linear_model/_coordinate_descent.py:648: ConvergenceWarning: Objective did not converge. You might want to increase the number of iterations, check the scale of the features or consider increasing regularisation. Duality gap: 1.095e+06, tolerance: 1.043e+03\n",
            "  coef_, l1_reg, l2_reg, X, y, max_iter, tol, rng, random, positive\n",
            "/usr/local/lib/python3.7/dist-packages/sklearn/linear_model/_coordinate_descent.py:648: ConvergenceWarning: Objective did not converge. You might want to increase the number of iterations, check the scale of the features or consider increasing regularisation. Duality gap: 9.992e+05, tolerance: 1.158e+03\n",
            "  coef_, l1_reg, l2_reg, X, y, max_iter, tol, rng, random, positive\n",
            "/usr/local/lib/python3.7/dist-packages/sklearn/linear_model/_coordinate_descent.py:648: ConvergenceWarning: Objective did not converge. You might want to increase the number of iterations, check the scale of the features or consider increasing regularisation. Duality gap: 1.170e+06, tolerance: 1.113e+03\n",
            "  coef_, l1_reg, l2_reg, X, y, max_iter, tol, rng, random, positive\n",
            "/usr/local/lib/python3.7/dist-packages/sklearn/linear_model/_coordinate_descent.py:648: ConvergenceWarning: Objective did not converge. You might want to increase the number of iterations, check the scale of the features or consider increasing regularisation. Duality gap: 1.289e+06, tolerance: 1.057e+03\n",
            "  coef_, l1_reg, l2_reg, X, y, max_iter, tol, rng, random, positive\n",
            "/usr/local/lib/python3.7/dist-packages/sklearn/linear_model/_coordinate_descent.py:648: ConvergenceWarning: Objective did not converge. You might want to increase the number of iterations, check the scale of the features or consider increasing regularisation. Duality gap: 1.168e+06, tolerance: 1.093e+03\n",
            "  coef_, l1_reg, l2_reg, X, y, max_iter, tol, rng, random, positive\n",
            "/usr/local/lib/python3.7/dist-packages/sklearn/linear_model/_coordinate_descent.py:648: ConvergenceWarning: Objective did not converge. You might want to increase the number of iterations, check the scale of the features or consider increasing regularisation. Duality gap: 1.231e+06, tolerance: 1.144e+03\n",
            "  coef_, l1_reg, l2_reg, X, y, max_iter, tol, rng, random, positive\n",
            "/usr/local/lib/python3.7/dist-packages/sklearn/linear_model/_coordinate_descent.py:648: ConvergenceWarning: Objective did not converge. You might want to increase the number of iterations, check the scale of the features or consider increasing regularisation. Duality gap: 1.284e+06, tolerance: 1.048e+03\n",
            "  coef_, l1_reg, l2_reg, X, y, max_iter, tol, rng, random, positive\n",
            "/usr/local/lib/python3.7/dist-packages/sklearn/linear_model/_coordinate_descent.py:648: ConvergenceWarning: Objective did not converge. You might want to increase the number of iterations, check the scale of the features or consider increasing regularisation. Duality gap: 1.288e+06, tolerance: 1.034e+03\n",
            "  coef_, l1_reg, l2_reg, X, y, max_iter, tol, rng, random, positive\n",
            "/usr/local/lib/python3.7/dist-packages/sklearn/linear_model/_coordinate_descent.py:648: ConvergenceWarning: Objective did not converge. You might want to increase the number of iterations, check the scale of the features or consider increasing regularisation. Duality gap: 1.219e+06, tolerance: 1.015e+03\n",
            "  coef_, l1_reg, l2_reg, X, y, max_iter, tol, rng, random, positive\n"
          ]
        }
      ]
    },
    {
      "cell_type": "code",
      "source": [
        "from sklearn.preprocessing import PolynomialFeatures\n",
        "\n",
        "poly_reg = PolynomialFeatures(degree=2)\n",
        "\n",
        "X_train_2_d = poly_reg.fit_transform(X_train)\n",
        "X_test_2_d = poly_reg.transform(X_test)\n",
        "\n",
        "lin_reg = LinearRegression(normalize=True)\n",
        "lin_reg.fit(X_train_2_d,y_train)\n",
        "\n",
        "test_pred = lin_reg.predict(X_test_2_d)\n",
        "train_pred = lin_reg.predict(X_train_2_d)\n",
        "print(\" Polynomial Regression\")\n",
        "print('---------------------------------')\n",
        "print('Test set evaluation:\\n_____________________________________')\n",
        "print_evaluate(y_test, test_pred)\n",
        "print('Train set evaluation:\\n_____________________________________')\n",
        "print_evaluate(y_train, train_pred)\n",
        "\n",
        "results_df_2 = pd.DataFrame(data=[[\"Polynomail Regression\", *evaluate(y_test, test_pred), 0]], \n",
        "                            columns=['Model', 'MAE', 'MSE', 'RMSE', 'R2 Square', 'Cross Validation'])\n",
        "results_df = results_df.append(results_df_2, ignore_index=True)"
      ],
      "metadata": {
        "colab": {
          "base_uri": "https://localhost:8080/"
        },
        "id": "FifbgU7AkU-E",
        "outputId": "9f71b96d-0e4f-4b28-bfb5-41cadfa03a7f"
      },
      "execution_count": null,
      "outputs": [
        {
          "output_type": "stream",
          "name": "stdout",
          "text": [
            " Polynomial Regression\n",
            "---------------------------------\n",
            "Test set evaluation:\n",
            "_____________________________________\n",
            "MAE: 8.038697439034804\n",
            "MSE: 135.54108102088657\n",
            "RMSE: 11.642211174037627\n",
            "R2 Square 0.8986740086234016\n",
            "__________________________________\n",
            "Train set evaluation:\n",
            "_____________________________________\n",
            "MAE: 7.756716614724254\n",
            "MSE: 124.14835397611067\n",
            "RMSE: 11.142188024625625\n",
            "R2 Square 0.9080299567699522\n",
            "__________________________________\n"
          ]
        },
        {
          "output_type": "stream",
          "name": "stderr",
          "text": [
            "/usr/local/lib/python3.7/dist-packages/sklearn/linear_model/_base.py:145: FutureWarning: 'normalize' was deprecated in version 1.0 and will be removed in 1.2.\n",
            "If you wish to scale the data, use Pipeline with a StandardScaler in a preprocessing stage. To reproduce the previous behavior:\n",
            "\n",
            "from sklearn.pipeline import make_pipeline\n",
            "\n",
            "model = make_pipeline(StandardScaler(with_mean=False), LinearRegression())\n",
            "\n",
            "If you wish to pass a sample_weight parameter, you need to pass it as a fit parameter to each step of the pipeline as follows:\n",
            "\n",
            "kwargs = {s[0] + '__sample_weight': sample_weight for s in model.steps}\n",
            "model.fit(X, y, **kwargs)\n",
            "\n",
            "\n",
            "  FutureWarning,\n"
          ]
        }
      ]
    },
    {
      "cell_type": "code",
      "source": [
        "from sklearn.linear_model import SGDRegressor\n",
        "\n",
        "sgd_reg = SGDRegressor(n_iter_no_change=250, penalty=None, eta0=0.0001, max_iter=100000)\n",
        "sgd_reg.fit(X_train, y_train)\n",
        "\n",
        "test_pred = sgd_reg.predict(X_test)\n",
        "train_pred = sgd_reg.predict(X_train)\n",
        "print(\"Stochastic Gradient Descent\")\n",
        "print('---------------------------------')\n",
        "print('Test set evaluation:\\n_____________________________________')\n",
        "print_evaluate(y_test, test_pred)\n",
        "print('Train set evaluation:\\n_____________________________________')\n",
        "print_evaluate(y_train, train_pred)\n",
        "\n",
        "results_df_2 = pd.DataFrame(data=[[\"Stochastic Gradient Descent\", *evaluate(y_test, test_pred), 0]], \n",
        "                            columns=['Model', 'MAE', 'MSE', 'RMSE', 'R2 Square', 'Cross Validation'])\n",
        "results_df = results_df.append(results_df_2, ignore_index=True)"
      ],
      "metadata": {
        "colab": {
          "base_uri": "https://localhost:8080/"
        },
        "id": "QNPbj2zGkkZu",
        "outputId": "27331af0-5e10-4d09-c7a2-2ca29a865d1b"
      },
      "execution_count": null,
      "outputs": [
        {
          "output_type": "stream",
          "name": "stdout",
          "text": [
            "Stochastic Gradient Descent\n",
            "---------------------------------\n",
            "Test set evaluation:\n",
            "_____________________________________\n",
            "MAE: 16.006554753862577\n",
            "MSE: 362.88452499513147\n",
            "RMSE: 19.04952820925315\n",
            "R2 Square 0.7287196326500336\n",
            "__________________________________\n",
            "Train set evaluation:\n",
            "_____________________________________\n",
            "MAE: 15.691639804147913\n",
            "MSE: 354.3524388403772\n",
            "RMSE: 18.824251348735682\n",
            "R2 Square 0.7374930228628446\n",
            "__________________________________\n"
          ]
        }
      ]
    },
    {
      "cell_type": "code",
      "source": [
        "from sklearn.ensemble import RandomForestRegressor\n",
        "\n",
        "rf_reg = RandomForestRegressor(n_estimators=100)\n",
        "rf_reg.fit(X_train, y_train)\n",
        "\n",
        "test_pred = rf_reg.predict(X_test)\n",
        "train_pred = rf_reg.predict(X_train)\n",
        "\n",
        "print(\"Random Forest Regressor\")\n",
        "print('---------------------------------')\n",
        "\n",
        "print('Test set evaluation:\\n_____________________________________')\n",
        "print_evaluate(y_test, test_pred)\n",
        "\n",
        "print('Train set evaluation:\\n_____________________________________')\n",
        "print_evaluate(y_train, train_pred)\n",
        "\n",
        "results_df_2 = pd.DataFrame(data=[[\"Random Forest Regressor\", *evaluate(y_test, test_pred), 0]], \n",
        "                            columns=['Model', 'MAE', 'MSE', 'RMSE', 'R2 Square', 'Cross Validation'])\n",
        "results_df = results_df.append(results_df_2, ignore_index=True)"
      ],
      "metadata": {
        "colab": {
          "base_uri": "https://localhost:8080/"
        },
        "id": "aZqdC2Pekv40",
        "outputId": "7795a586-f223-467f-9c39-5e47cf1dc111"
      },
      "execution_count": null,
      "outputs": [
        {
          "output_type": "stream",
          "name": "stdout",
          "text": [
            "Random Forest Regressor\n",
            "---------------------------------\n",
            "Test set evaluation:\n",
            "_____________________________________\n",
            "MAE: 1.5420601454600535\n",
            "MSE: 17.836409757726226\n",
            "RMSE: 4.223317387756481\n",
            "R2 Square 0.986666094975129\n",
            "__________________________________\n",
            "Train set evaluation:\n",
            "_____________________________________\n",
            "MAE: 0.5821701287812633\n",
            "MSE: 2.5177801761672054\n",
            "RMSE: 1.5867514538097027\n",
            "R2 Square 0.9981348093290837\n",
            "__________________________________\n"
          ]
        }
      ]
    },
    {
      "cell_type": "code",
      "source": [
        "from sklearn.svm import SVR\n",
        "\n",
        "svm_reg = SVR(kernel='rbf', C=500, epsilon=0.001)\n",
        "svm_reg.fit(X_train, y_train)\n",
        "\n",
        "test_pred = svm_reg.predict(X_test)\n",
        "train_pred = svm_reg.predict(X_train)\n",
        "print(\"Support Vector Machine Regressor\")\n",
        "print('---------------------------------')\n",
        "print('Test set evaluation:\\n_____________________________________')\n",
        "print_evaluate(y_test, test_pred)\n",
        "\n",
        "print('Train set evaluation:\\n_____________________________________')\n",
        "print_evaluate(y_train, train_pred)\n",
        "\n",
        "results_df_2 = pd.DataFrame(data=[[\"SVM Regressor\", *evaluate(y_test, test_pred), 0]], \n",
        "                            columns=['Model', 'MAE', 'MSE', 'RMSE', 'R2 Square', 'Cross Validation'])\n",
        "results_df = results_df.append(results_df_2, ignore_index=True)"
      ],
      "metadata": {
        "colab": {
          "base_uri": "https://localhost:8080/"
        },
        "id": "t4NDlpkKlB3n",
        "outputId": "c7346d83-5d54-4d8d-e3bd-8b9004240f77"
      },
      "execution_count": null,
      "outputs": [
        {
          "output_type": "stream",
          "name": "stdout",
          "text": [
            "RSupport Vector Machine Regressor\n",
            "---------------------------------\n",
            "Test set evaluation:\n",
            "_____________________________________\n",
            "MAE: 3.4756589081211646\n",
            "MSE: 42.52401992403301\n",
            "RMSE: 6.521044389055561\n",
            "R2 Square 0.9682104610375883\n",
            "__________________________________\n",
            "Train set evaluation:\n",
            "_____________________________________\n",
            "MAE: 2.9725485492177413\n",
            "MSE: 31.668670152824664\n",
            "RMSE: 5.627492350312408\n",
            "R2 Square 0.976539608704326\n",
            "__________________________________\n"
          ]
        }
      ]
    },
    {
      "cell_type": "code",
      "source": [
        "import tensorflow as tf \n",
        "from tensorflow import keras\n",
        "from tensorflow.keras.preprocessing import image\n",
        "from tensorflow.keras.models import Sequential\n",
        "from tensorflow.keras import layers\n",
        "from tensorflow.keras.layers import Dense, Activation, Flatten, Dropout, BatchNormalization,Embedding\n",
        "from tensorflow.keras.layers import Conv2D, MaxPooling2D,LSTM,Bidirectional,Attention,Concatenate\n",
        "from tensorflow.keras.layers import DepthwiseConv2D,Add, ReLU, GlobalAveragePooling2D, GlobalMaxPooling2D\n",
        "from tensorflow.keras.layers import Activation,ActivityRegularization, AvgPool2D\n",
        "from tensorflow.keras import regularizers, optimizers,losses\n",
        "from tensorflow.keras.metrics import Recall,Precision,AUC,TruePositives,TrueNegatives,FalseNegatives,FalsePositives, SpecificityAtSensitivity,SensitivityAtSpecificity\n",
        "from tensorflow.keras.metrics import CategoricalAccuracy, BinaryAccuracy\n",
        "from tensorflow.keras.utils import plot_model\n",
        "from tensorflow.keras.utils import to_categorical\n",
        "from sklearn.model_selection import train_test_split\n",
        "\n",
        "import matplotlib.pyplot as plt\n",
        "\n",
        "\n",
        "X_train = np.array(X_train)\n",
        "X_test = np.array(X_test)\n",
        "y_train = np.array(y_train)\n",
        "y_test = np.array(y_test)\n",
        "\n",
        "model = Sequential()\n",
        "\n",
        "model.add(Dense(X_train.shape[1], activation='relu'))\n",
        "model.add(Dense(32, activation='relu'))\n",
        "model.add(Dropout(0.1))\n",
        "model.add(Dense(256, activation='relu'))\n",
        "model.add(Dropout(0.21))\n",
        "model.add(Dense(32, activation='relu'))\n",
        "model.add(Dropout(0.1))\n",
        "model.add(Dense(1))\n",
        "\n",
        "model.compile(optimizer=keras.optimizers.Adam(0.00001), loss='mse',metrics='mae')\n",
        "\n",
        "r = model.fit(X_train, y_train,\n",
        "              validation_data=(X_test,y_test),\n",
        "              batch_size=1,\n",
        "              epochs=100)\n"
      ],
      "metadata": {
        "colab": {
          "base_uri": "https://localhost:8080/"
        },
        "id": "VEDRg9ulleBe",
        "outputId": "e25d2238-912f-4fad-f5fa-a0d2b66d382d"
      },
      "execution_count": null,
      "outputs": [
        {
          "output_type": "stream",
          "name": "stdout",
          "text": [
            "Epoch 1/100\n",
            "6243/6243 [==============================] - 21s 3ms/step - loss: 3977.5410 - mae: 51.6670 - val_loss: 3107.7280 - val_mae: 44.3313\n",
            "Epoch 2/100\n",
            "6243/6243 [==============================] - 19s 3ms/step - loss: 1976.0118 - mae: 35.6149 - val_loss: 1162.6720 - val_mae: 29.0230\n",
            "Epoch 3/100\n",
            "6243/6243 [==============================] - 28s 4ms/step - loss: 933.3112 - mae: 25.8650 - val_loss: 698.1161 - val_mae: 22.4954\n",
            "Epoch 4/100\n",
            "6243/6243 [==============================] - 21s 3ms/step - loss: 631.2853 - mae: 20.8742 - val_loss: 480.8841 - val_mae: 18.3675\n",
            "Epoch 5/100\n",
            "6243/6243 [==============================] - 17s 3ms/step - loss: 463.8430 - mae: 17.5805 - val_loss: 360.3635 - val_mae: 15.6830\n",
            "Epoch 6/100\n",
            "6243/6243 [==============================] - 22s 3ms/step - loss: 385.0462 - mae: 15.9559 - val_loss: 294.2697 - val_mae: 14.0454\n",
            "Epoch 7/100\n",
            "6243/6243 [==============================] - 25s 4ms/step - loss: 333.9141 - mae: 14.6808 - val_loss: 255.2576 - val_mae: 12.7506\n",
            "Epoch 8/100\n",
            "6243/6243 [==============================] - 26s 4ms/step - loss: 304.1142 - mae: 13.8095 - val_loss: 234.7272 - val_mae: 12.0711\n",
            "Epoch 9/100\n",
            "6243/6243 [==============================] - 18s 3ms/step - loss: 287.6758 - mae: 13.2539 - val_loss: 220.6675 - val_mae: 11.4739\n",
            "Epoch 10/100\n",
            "6243/6243 [==============================] - 17s 3ms/step - loss: 279.0575 - mae: 12.8562 - val_loss: 211.7605 - val_mae: 11.0829\n",
            "Epoch 11/100\n",
            "6243/6243 [==============================] - 17s 3ms/step - loss: 272.7641 - mae: 12.7075 - val_loss: 204.7979 - val_mae: 10.7472\n",
            "Epoch 12/100\n",
            "6243/6243 [==============================] - 17s 3ms/step - loss: 262.9261 - mae: 12.3469 - val_loss: 199.5049 - val_mae: 10.4960\n",
            "Epoch 13/100\n",
            "6243/6243 [==============================] - 16s 2ms/step - loss: 265.6197 - mae: 12.3367 - val_loss: 194.9368 - val_mae: 10.2787\n",
            "Epoch 14/100\n",
            "6243/6243 [==============================] - 15s 2ms/step - loss: 253.9878 - mae: 11.9776 - val_loss: 190.4171 - val_mae: 10.0046\n",
            "Epoch 15/100\n",
            "6243/6243 [==============================] - 17s 3ms/step - loss: 251.2019 - mae: 11.8679 - val_loss: 187.9009 - val_mae: 9.8879\n",
            "Epoch 16/100\n",
            "6243/6243 [==============================] - 17s 3ms/step - loss: 247.5677 - mae: 11.7578 - val_loss: 185.6219 - val_mae: 9.8339\n",
            "Epoch 17/100\n",
            "6243/6243 [==============================] - 15s 2ms/step - loss: 247.6045 - mae: 11.7241 - val_loss: 182.7091 - val_mae: 9.5856\n",
            "Epoch 18/100\n",
            "6243/6243 [==============================] - 17s 3ms/step - loss: 238.2693 - mae: 11.5539 - val_loss: 181.0397 - val_mae: 9.5445\n",
            "Epoch 19/100\n",
            "6243/6243 [==============================] - 18s 3ms/step - loss: 234.3109 - mae: 11.4161 - val_loss: 178.7712 - val_mae: 9.4567\n",
            "Epoch 20/100\n",
            "6243/6243 [==============================] - 17s 3ms/step - loss: 238.0336 - mae: 11.4135 - val_loss: 178.6939 - val_mae: 9.5101\n",
            "Epoch 21/100\n",
            "6243/6243 [==============================] - 17s 3ms/step - loss: 236.6129 - mae: 11.3735 - val_loss: 175.0550 - val_mae: 9.2433\n",
            "Epoch 22/100\n",
            "6243/6243 [==============================] - 14s 2ms/step - loss: 232.1564 - mae: 11.2920 - val_loss: 173.8084 - val_mae: 9.2141\n",
            "Epoch 23/100\n",
            "6243/6243 [==============================] - 17s 3ms/step - loss: 234.2160 - mae: 11.3825 - val_loss: 172.5584 - val_mae: 9.1365\n",
            "Epoch 24/100\n",
            "6243/6243 [==============================] - 17s 3ms/step - loss: 230.0143 - mae: 11.1762 - val_loss: 171.4476 - val_mae: 9.1615\n",
            "Epoch 25/100\n",
            "6243/6243 [==============================] - 17s 3ms/step - loss: 226.3874 - mae: 11.1041 - val_loss: 170.4372 - val_mae: 9.1262\n",
            "Epoch 26/100\n",
            "6243/6243 [==============================] - 18s 3ms/step - loss: 226.3141 - mae: 11.0864 - val_loss: 170.4070 - val_mae: 9.2350\n",
            "Epoch 27/100\n",
            "6243/6243 [==============================] - 15s 2ms/step - loss: 230.3501 - mae: 11.1996 - val_loss: 170.0421 - val_mae: 9.2162\n",
            "Epoch 28/100\n",
            "6243/6243 [==============================] - 18s 3ms/step - loss: 223.0266 - mae: 10.9513 - val_loss: 167.0830 - val_mae: 8.9720\n",
            "Epoch 29/100\n",
            "6243/6243 [==============================] - 15s 2ms/step - loss: 218.4526 - mae: 10.9118 - val_loss: 165.7648 - val_mae: 8.8937\n",
            "Epoch 30/100\n",
            "6243/6243 [==============================] - 17s 3ms/step - loss: 221.7329 - mae: 10.9184 - val_loss: 165.8385 - val_mae: 8.9639\n",
            "Epoch 31/100\n",
            "6243/6243 [==============================] - 15s 2ms/step - loss: 219.0795 - mae: 10.8630 - val_loss: 163.9606 - val_mae: 8.8610\n",
            "Epoch 32/100\n",
            "6243/6243 [==============================] - 17s 3ms/step - loss: 218.7350 - mae: 10.8584 - val_loss: 164.6077 - val_mae: 8.9834\n",
            "Epoch 33/100\n",
            "6243/6243 [==============================] - 18s 3ms/step - loss: 219.1156 - mae: 10.9184 - val_loss: 163.3471 - val_mae: 8.9285\n",
            "Epoch 34/100\n",
            "6243/6243 [==============================] - 18s 3ms/step - loss: 213.9722 - mae: 10.7134 - val_loss: 160.9844 - val_mae: 8.7207\n",
            "Epoch 35/100\n",
            "6243/6243 [==============================] - 16s 3ms/step - loss: 211.8442 - mae: 10.7094 - val_loss: 162.1014 - val_mae: 8.9399\n",
            "Epoch 36/100\n",
            "6243/6243 [==============================] - 15s 2ms/step - loss: 213.3404 - mae: 10.7254 - val_loss: 160.8405 - val_mae: 8.8801\n",
            "Epoch 37/100\n",
            "6243/6243 [==============================] - 18s 3ms/step - loss: 209.8573 - mae: 10.6542 - val_loss: 159.0387 - val_mae: 8.7084\n",
            "Epoch 38/100\n",
            "6243/6243 [==============================] - 18s 3ms/step - loss: 208.1664 - mae: 10.6432 - val_loss: 159.5720 - val_mae: 8.8279\n",
            "Epoch 39/100\n",
            "6243/6243 [==============================] - 17s 3ms/step - loss: 211.5379 - mae: 10.6458 - val_loss: 155.9225 - val_mae: 8.4255\n",
            "Epoch 40/100\n",
            "6243/6243 [==============================] - 17s 3ms/step - loss: 205.2085 - mae: 10.5112 - val_loss: 158.9279 - val_mae: 8.8969\n",
            "Epoch 41/100\n",
            "6243/6243 [==============================] - 15s 2ms/step - loss: 206.8232 - mae: 10.5335 - val_loss: 156.1650 - val_mae: 8.6773\n",
            "Epoch 42/100\n",
            "6243/6243 [==============================] - 17s 3ms/step - loss: 207.3138 - mae: 10.5217 - val_loss: 154.2324 - val_mae: 8.5041\n",
            "Epoch 43/100\n",
            "6243/6243 [==============================] - 17s 3ms/step - loss: 206.2952 - mae: 10.4968 - val_loss: 154.8011 - val_mae: 8.6180\n",
            "Epoch 44/100\n",
            "6243/6243 [==============================] - 17s 3ms/step - loss: 202.9646 - mae: 10.4130 - val_loss: 153.7493 - val_mae: 8.5451\n",
            "Epoch 45/100\n",
            "6243/6243 [==============================] - 15s 2ms/step - loss: 198.4086 - mae: 10.2360 - val_loss: 152.5689 - val_mae: 8.4557\n",
            "Epoch 46/100\n",
            "6243/6243 [==============================] - 17s 3ms/step - loss: 199.2242 - mae: 10.3301 - val_loss: 156.5763 - val_mae: 8.9256\n",
            "Epoch 47/100\n",
            "6243/6243 [==============================] - 15s 2ms/step - loss: 199.1096 - mae: 10.2832 - val_loss: 151.9865 - val_mae: 8.5836\n",
            "Epoch 48/100\n",
            "6243/6243 [==============================] - 15s 2ms/step - loss: 198.8121 - mae: 10.2689 - val_loss: 150.8312 - val_mae: 8.5296\n",
            "Epoch 49/100\n",
            "6243/6243 [==============================] - 15s 2ms/step - loss: 197.3236 - mae: 10.2504 - val_loss: 149.4435 - val_mae: 8.4158\n",
            "Epoch 50/100\n",
            "6243/6243 [==============================] - 17s 3ms/step - loss: 197.4326 - mae: 10.2412 - val_loss: 146.6935 - val_mae: 8.0594\n",
            "Epoch 51/100\n",
            "6243/6243 [==============================] - 15s 2ms/step - loss: 189.8979 - mae: 9.9687 - val_loss: 148.5761 - val_mae: 8.4884\n",
            "Epoch 52/100\n",
            "6243/6243 [==============================] - 15s 2ms/step - loss: 189.9054 - mae: 10.0220 - val_loss: 147.9423 - val_mae: 8.4623\n",
            "Epoch 53/100\n",
            "6243/6243 [==============================] - 17s 3ms/step - loss: 191.4226 - mae: 10.0667 - val_loss: 144.9356 - val_mae: 8.1702\n",
            "Epoch 54/100\n",
            "6243/6243 [==============================] - 17s 3ms/step - loss: 195.0054 - mae: 10.1327 - val_loss: 147.0788 - val_mae: 8.4923\n",
            "Epoch 55/100\n",
            "6243/6243 [==============================] - 17s 3ms/step - loss: 195.5119 - mae: 10.0987 - val_loss: 146.0861 - val_mae: 8.4466\n",
            "Epoch 56/100\n",
            "6243/6243 [==============================] - 17s 3ms/step - loss: 192.5165 - mae: 10.0786 - val_loss: 142.8692 - val_mae: 8.1466\n",
            "Epoch 57/100\n",
            "6243/6243 [==============================] - 17s 3ms/step - loss: 190.1284 - mae: 10.0212 - val_loss: 144.1523 - val_mae: 8.3555\n",
            "Epoch 58/100\n",
            "6243/6243 [==============================] - 17s 3ms/step - loss: 189.1751 - mae: 10.0901 - val_loss: 141.5402 - val_mae: 8.1062\n",
            "Epoch 59/100\n",
            "6243/6243 [==============================] - 15s 2ms/step - loss: 187.2681 - mae: 9.9174 - val_loss: 141.6883 - val_mae: 8.2364\n",
            "Epoch 60/100\n",
            "6243/6243 [==============================] - 17s 3ms/step - loss: 186.4782 - mae: 9.9118 - val_loss: 141.5177 - val_mae: 8.3060\n",
            "Epoch 61/100\n",
            "6243/6243 [==============================] - 17s 3ms/step - loss: 184.1432 - mae: 9.9018 - val_loss: 141.0633 - val_mae: 8.2622\n",
            "Epoch 62/100\n",
            "6243/6243 [==============================] - 15s 2ms/step - loss: 181.5437 - mae: 9.7881 - val_loss: 138.7478 - val_mae: 8.0893\n",
            "Epoch 63/100\n",
            "6243/6243 [==============================] - 15s 2ms/step - loss: 181.6367 - mae: 9.8012 - val_loss: 139.1842 - val_mae: 8.1720\n",
            "Epoch 64/100\n",
            "6243/6243 [==============================] - 17s 3ms/step - loss: 185.8497 - mae: 9.9421 - val_loss: 138.1650 - val_mae: 8.1378\n",
            "Epoch 65/100\n",
            "6243/6243 [==============================] - 17s 3ms/step - loss: 179.6089 - mae: 9.6915 - val_loss: 138.6448 - val_mae: 8.2650\n",
            "Epoch 66/100\n",
            "6243/6243 [==============================] - 15s 2ms/step - loss: 180.3589 - mae: 9.7720 - val_loss: 137.8954 - val_mae: 8.2543\n",
            "Epoch 67/100\n",
            "6243/6243 [==============================] - 14s 2ms/step - loss: 182.8170 - mae: 9.8296 - val_loss: 136.8503 - val_mae: 8.2242\n",
            "Epoch 68/100\n",
            "6243/6243 [==============================] - 17s 3ms/step - loss: 178.8763 - mae: 9.7077 - val_loss: 135.7646 - val_mae: 8.1622\n",
            "Epoch 69/100\n",
            "6243/6243 [==============================] - 14s 2ms/step - loss: 178.2249 - mae: 9.7400 - val_loss: 134.4781 - val_mae: 8.0864\n",
            "Epoch 70/100\n",
            "6243/6243 [==============================] - 17s 3ms/step - loss: 180.3591 - mae: 9.7781 - val_loss: 135.3553 - val_mae: 8.2040\n",
            "Epoch 71/100\n",
            "6243/6243 [==============================] - 14s 2ms/step - loss: 177.1318 - mae: 9.6892 - val_loss: 134.7887 - val_mae: 8.2040\n",
            "Epoch 72/100\n",
            "6243/6243 [==============================] - 17s 3ms/step - loss: 178.1084 - mae: 9.7418 - val_loss: 133.8743 - val_mae: 8.1810\n",
            "Epoch 73/100\n",
            "6243/6243 [==============================] - 14s 2ms/step - loss: 172.3439 - mae: 9.5435 - val_loss: 132.0346 - val_mae: 8.0485\n",
            "Epoch 74/100\n",
            "6243/6243 [==============================] - 17s 3ms/step - loss: 175.7795 - mae: 9.6161 - val_loss: 129.7255 - val_mae: 7.8571\n",
            "Epoch 75/100\n",
            "6243/6243 [==============================] - 17s 3ms/step - loss: 171.9552 - mae: 9.5072 - val_loss: 129.7963 - val_mae: 7.9362\n",
            "Epoch 76/100\n",
            "6243/6243 [==============================] - 17s 3ms/step - loss: 177.7840 - mae: 9.6762 - val_loss: 129.1571 - val_mae: 7.9154\n",
            "Epoch 77/100\n",
            "6243/6243 [==============================] - 15s 2ms/step - loss: 170.0829 - mae: 9.5302 - val_loss: 127.8404 - val_mae: 7.8599\n",
            "Epoch 78/100\n",
            "6243/6243 [==============================] - 18s 3ms/step - loss: 171.0738 - mae: 9.5409 - val_loss: 127.4570 - val_mae: 7.8533\n",
            "Epoch 79/100\n",
            "6243/6243 [==============================] - 18s 3ms/step - loss: 167.7515 - mae: 9.4542 - val_loss: 133.5247 - val_mae: 8.3958\n",
            "Epoch 80/100\n",
            "6243/6243 [==============================] - 18s 3ms/step - loss: 175.5340 - mae: 9.6030 - val_loss: 126.8311 - val_mae: 7.8912\n",
            "Epoch 81/100\n",
            "6243/6243 [==============================] - 18s 3ms/step - loss: 169.2558 - mae: 9.5235 - val_loss: 128.2266 - val_mae: 8.1024\n",
            "Epoch 82/100\n",
            "6243/6243 [==============================] - 17s 3ms/step - loss: 166.3652 - mae: 9.3918 - val_loss: 127.7652 - val_mae: 8.1115\n",
            "Epoch 83/100\n",
            "6243/6243 [==============================] - 17s 3ms/step - loss: 163.4983 - mae: 9.2310 - val_loss: 127.9713 - val_mae: 8.1552\n",
            "Epoch 84/100\n",
            "6243/6243 [==============================] - 17s 3ms/step - loss: 167.8468 - mae: 9.3951 - val_loss: 121.7511 - val_mae: 7.6630\n",
            "Epoch 85/100\n",
            "6243/6243 [==============================] - 17s 3ms/step - loss: 167.4257 - mae: 9.4979 - val_loss: 120.1667 - val_mae: 7.4881\n",
            "Epoch 86/100\n",
            "6243/6243 [==============================] - 15s 2ms/step - loss: 165.7558 - mae: 9.4213 - val_loss: 121.9204 - val_mae: 7.7536\n",
            "Epoch 87/100\n",
            "6243/6243 [==============================] - 17s 3ms/step - loss: 163.4248 - mae: 9.2900 - val_loss: 122.3238 - val_mae: 7.8453\n",
            "Epoch 88/100\n",
            "6243/6243 [==============================] - 17s 3ms/step - loss: 160.9019 - mae: 9.2179 - val_loss: 125.4566 - val_mae: 8.1486\n",
            "Epoch 89/100\n",
            "6243/6243 [==============================] - 17s 3ms/step - loss: 162.1681 - mae: 9.2804 - val_loss: 117.2316 - val_mae: 7.4203\n",
            "Epoch 90/100\n",
            "6243/6243 [==============================] - 17s 3ms/step - loss: 160.6943 - mae: 9.2384 - val_loss: 118.3350 - val_mae: 7.6384\n",
            "Epoch 91/100\n",
            "6243/6243 [==============================] - 15s 2ms/step - loss: 160.6683 - mae: 9.2039 - val_loss: 120.9139 - val_mae: 7.9006\n",
            "Epoch 92/100\n",
            "6243/6243 [==============================] - 15s 2ms/step - loss: 155.2625 - mae: 9.1001 - val_loss: 116.5799 - val_mae: 7.5354\n",
            "Epoch 93/100\n",
            "6243/6243 [==============================] - 15s 2ms/step - loss: 157.0189 - mae: 9.1138 - val_loss: 116.9226 - val_mae: 7.6684\n",
            "Epoch 94/100\n",
            "6243/6243 [==============================] - 14s 2ms/step - loss: 157.1329 - mae: 9.1008 - val_loss: 116.1922 - val_mae: 7.6242\n",
            "Epoch 95/100\n",
            "6243/6243 [==============================] - 17s 3ms/step - loss: 152.1889 - mae: 8.9604 - val_loss: 112.1964 - val_mae: 7.2445\n",
            "Epoch 96/100\n",
            "6243/6243 [==============================] - 17s 3ms/step - loss: 156.9455 - mae: 9.1450 - val_loss: 113.8374 - val_mae: 7.5309\n",
            "Epoch 97/100\n",
            "6243/6243 [==============================] - 17s 3ms/step - loss: 153.3662 - mae: 9.0338 - val_loss: 114.4328 - val_mae: 7.6343\n",
            "Epoch 98/100\n",
            "6243/6243 [==============================] - 14s 2ms/step - loss: 149.8150 - mae: 8.8834 - val_loss: 113.8591 - val_mae: 7.6428\n",
            "Epoch 99/100\n",
            "6243/6243 [==============================] - 17s 3ms/step - loss: 151.3794 - mae: 8.9882 - val_loss: 114.5942 - val_mae: 7.7674\n",
            "Epoch 100/100\n",
            "6243/6243 [==============================] - 17s 3ms/step - loss: 151.9607 - mae: 8.9892 - val_loss: 113.9991 - val_mae: 7.7467\n"
          ]
        }
      ]
    },
    {
      "cell_type": "code",
      "source": [
        "pd.DataFrame(r.history).line(y=['loss', 'val_loss'])"
      ],
      "metadata": {
        "colab": {
          "base_uri": "https://localhost:8080/",
          "height": 171
        },
        "id": "t8EQnNl3mCI6",
        "outputId": "da2ff7df-100a-4dad-ecba-c965f8e26990"
      },
      "execution_count": null,
      "outputs": [
        {
          "output_type": "error",
          "ename": "NameError",
          "evalue": "ignored",
          "traceback": [
            "\u001b[0;31m---------------------------------------------------------------------------\u001b[0m",
            "\u001b[0;31mNameError\u001b[0m                                 Traceback (most recent call last)",
            "\u001b[0;32m<ipython-input-2-9287357d72c8>\u001b[0m in \u001b[0;36m<module>\u001b[0;34m()\u001b[0m\n\u001b[0;32m----> 1\u001b[0;31m \u001b[0mpd\u001b[0m\u001b[0;34m.\u001b[0m\u001b[0mDataFrame\u001b[0m\u001b[0;34m(\u001b[0m\u001b[0mr\u001b[0m\u001b[0;34m.\u001b[0m\u001b[0mhistory\u001b[0m\u001b[0;34m)\u001b[0m\u001b[0;34m.\u001b[0m\u001b[0mline\u001b[0m\u001b[0;34m(\u001b[0m\u001b[0my\u001b[0m\u001b[0;34m=\u001b[0m\u001b[0;34m[\u001b[0m\u001b[0;34m'loss'\u001b[0m\u001b[0;34m,\u001b[0m \u001b[0;34m'val_loss'\u001b[0m\u001b[0;34m]\u001b[0m\u001b[0;34m)\u001b[0m\u001b[0;34m\u001b[0m\u001b[0;34m\u001b[0m\u001b[0m\n\u001b[0m",
            "\u001b[0;31mNameError\u001b[0m: name 'pd' is not defined"
          ]
        }
      ]
    },
    {
      "cell_type": "code",
      "source": [
        "test_pred = model.predict(X_test)\n",
        "train_pred = model.predict(X_train)\n",
        "print(\"ANN1\")\n",
        "print('---------------------------------')\n",
        "print('Test set evaluation:\\n_____________________________________')\n",
        "print_evaluate(y_test, test_pred)\n",
        "\n",
        "print('Train set evaluation:\\n_____________________________________')\n",
        "print_evaluate(y_train, train_pred)\n",
        "\n",
        "results_df_2 = pd.DataFrame(data=[[\"Artficial Neural Network\", *evaluate(y_test, test_pred), 0]], \n",
        "                            columns=['Model', 'MAE', 'MSE', 'RMSE', 'R2 Square', 'Cross Validation'])\n",
        "results_df = results_df.append(results_df_2, ignore_index=True)"
      ],
      "metadata": {
        "colab": {
          "base_uri": "https://localhost:8080/"
        },
        "id": "JjS1hsw7nJRs",
        "outputId": "9e0bc8ab-4812-4bb0-eb19-0bc4abf78c73"
      },
      "execution_count": null,
      "outputs": [
        {
          "output_type": "stream",
          "name": "stdout",
          "text": [
            "ANN1\n",
            "---------------------------------\n",
            "Test set evaluation:\n",
            "_____________________________________\n",
            "MAE: 7.746729830271243\n",
            "MSE: 113.99917992555196\n",
            "RMSE: 10.677039848457621\n",
            "R2 Square 0.9147780153804752\n",
            "__________________________________\n",
            "Train set evaluation:\n",
            "_____________________________________\n",
            "MAE: 7.311039388440462\n",
            "MSE: 102.47578422391096\n",
            "RMSE: 10.123032363077328\n",
            "R2 Square 0.9240851609927934\n",
            "__________________________________\n"
          ]
        }
      ]
    },
    {
      "cell_type": "code",
      "source": [
        "pd.DataFrame.from_dict(results_df).to_csv('results.csv',index=False)"
      ],
      "metadata": {
        "id": "BT-D5eIfnY2b"
      },
      "execution_count": null,
      "outputs": []
    }
  ]
}